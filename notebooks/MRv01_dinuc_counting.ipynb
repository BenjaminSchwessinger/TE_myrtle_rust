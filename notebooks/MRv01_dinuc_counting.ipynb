{
 "cells": [
  {
   "cell_type": "code",
   "execution_count": 1,
   "metadata": {},
   "outputs": [
    {
     "name": "stdout",
     "output_type": "stream",
     "text": [
      "/Users/benjamin/anaconda3/envs/RIP/bin:/Users/benjamin/anaconda3/condabin:/usr/local/bin:/usr/bin:/bin:/usr/sbin:/sbin\n"
     ]
    }
   ],
   "source": [
    "!echo $PATH"
   ]
  },
  {
   "cell_type": "code",
   "execution_count": 220,
   "metadata": {},
   "outputs": [],
   "source": [
    "%matplotlib inline\n",
    "import pandas as pd\n",
    "import os\n",
    "import re\n",
    "from pybedtools import BedTool\n",
    "import numpy as np\n",
    "import pybedtools\n",
    "import re\n",
    "import matplotlib.pyplot as plt\n",
    "import json\n",
    "import matplotlib\n",
    "import subprocess\n",
    "import numpy as np"
   ]
  },
  {
   "cell_type": "code",
   "execution_count": 154,
   "metadata": {},
   "outputs": [],
   "source": [
    "#define your input folders\n",
    "#define your input folders updated for haplotigs\n",
    "EFFECTORP_FOLDER = '../../../genome_v03/annotation/functional/'\n",
    "BUSCO_FOLDER = '../../../genome_v03/annotation/BUSCO/'\n",
    "GFF_FOLDER = '../../../genome_v03/annotation/structural/'\n",
    "GENOME_FOLDER = '../../genome/'\n",
    "TE_FOLDER = '../../TE_analysis/'\n",
    "EFFECTOR_FOLDER = '../../../genome_v03/effector_analysis'\n",
    "PROTEIN_ANNO_FOLDER = '../../annotation/functional/'\n",
    "AT_analysis = '../../AT_analysis'\n",
    "OUT_FOLDER = os.path.join(AT_analysis, 'Dinucl')\n",
    "TMP_FOLDER = os.path.join(OUT_FOLDER, 'difacount')\n",
    "OUT_FOLDER_FIG = '../../figures/'\n",
    "TMP_FIG_PATH = '../../../genome_v03/tmp_figures'\n",
    "genome = 'APSI_primary_v1'\n",
    "REPET_genome = 'MR_P2_a0'"
   ]
  },
  {
   "cell_type": "code",
   "execution_count": 5,
   "metadata": {},
   "outputs": [],
   "source": [
    "if not os.path.exists(OUT_FOLDER):\n",
    "    os.mkdir(OUT_FOLDER)"
   ]
  },
  {
   "cell_type": "code",
   "execution_count": 6,
   "metadata": {},
   "outputs": [],
   "source": [
    "if not os.path.exists(TMP_FOLDER):\n",
    "    os.mkdir(TMP_FOLDER)"
   ]
  },
  {
   "cell_type": "code",
   "execution_count": 12,
   "metadata": {},
   "outputs": [],
   "source": [
    "#now get all the file names\n",
    "genome_fn = os.path.join(GENOME_FOLDER, '%s.fa' %genome)\n",
    "test_fn = os.path.join(TMP_FOLDER, 'test.fa')\n",
    "!head {genome_fn} > {test_fn}"
   ]
  },
  {
   "cell_type": "code",
   "execution_count": 13,
   "metadata": {},
   "outputs": [
    {
     "name": "stdout",
     "output_type": "stream",
     "text": [
      ">APSI_P001\n",
      "ACCCTAACCCTAACCCTAACCCTAACCCTAACCCTAACCCTAACCCTAACCAATGTAATCTATATGAAAA\n",
      "ATTAGATTTTTAATGAATTTTATAATATATCTCATATGAAAAAACTTTCACAATGTAATTCAATGAAAAA\n",
      "AATATTTTTCAATACAATTCATATTGAAAATACGTATTTTTAGTGTAGTTTATATTGAAACTGCATTTTC\n",
      "AGTGGTATTTTTTCAAAAAAAAATTCCATTTAATTTGCATCAATGATAAATTTGCAAATTAAATTTCTCT\n",
      "TATATATATATTTCTTATTCAATGTATAGTCAAAATACATTTTTCAATTAATTTATATGCAAAATACATA\n",
      "TATTAATGTGGTTTATGTTAAAAATAGTTTTCTTAATGTAGTTTATATTGAGAATACATCTCTAAATGTG\n",
      "AGTTTTGTTCAAGACTGTATTACTAATGTAGTTTTTATTCATAAACATTTTTGAACTAATTTCTTATTAA\n",
      "AAACACATCTCTCAATATAATTTATATGAGAAATATATTTTTCAATTTCATTCATATTCAAAATGCAGTT\n",
      "GTTGATGAAATTATCATTAAACAACATTTTTCAATTTATTTAATATTACAAATACATATCCATATATATT\n"
     ]
    }
   ],
   "source": [
    "!head {test_fn}"
   ]
  },
  {
   "cell_type": "code",
   "execution_count": 18,
   "metadata": {},
   "outputs": [],
   "source": [
    "def facount(in_fn, out_fn):\n",
    "    cmd = 'faCount -dinuc %s > %s' % \\\n",
    "    (os.path.abspath(in_fn), os.path.abspath(out_fn))\n",
    "    output = subprocess.run(cmd, shell=True)\n",
    "    return output.returncode"
   ]
  },
  {
   "cell_type": "code",
   "execution_count": 315,
   "metadata": {},
   "outputs": [],
   "source": [
    "def do_RIP_call(fac_fn):\n",
    "    \"Return pandas dataframe with caculations reading in the faCount outfile.\"\n",
    "    faC_header = ['seqID','len','A','C','G','T','N','cpg','AA','AC','AG',\n",
    "                 'AT','CA','CC','CG','CT','GA','GC','GG','GT','TA','TC','TG','TT']\n",
    "    count_dict = {}\n",
    "    for n_pattern in faC_header:\n",
    "        count_dict[n_pattern] = []\n",
    "    dtypes = {}\n",
    "    for x in faC_header:\n",
    "        dtypes[x] = 'int'\n",
    "    dtypes['seqID'] = 'str'\n",
    "    with open(fac_fn) as fh: \n",
    "        for line in fh:\n",
    "            line = line.rstrip()\n",
    "            split_line = re.split(pattern, line)\n",
    "            if not line.startswith('#'):\n",
    "                #if len(split_line) > len(faC_header):\n",
    "                  #  split_line = split_line[0:len(faC_header)+1]\n",
    "\n",
    "                for n_pattern, value in zip(faC_header, split_line):\n",
    "                    count_dict[n_pattern].append(value)\n",
    "    df = pd.DataFrame.from_dict(count_dict)\n",
    "    df = df.astype(dtypes)\n",
    "    df['TpA/ApT'] = df['TA']/df['AT']\n",
    "    df['CpA + TpG/ApC + GpT'] = (df['CA'] + df['TG'])/(df['AC']+df['GT'])\n",
    "    df.replace([np.inf, -np.inf], np.nan, inplace=True)\n",
    "    return df"
   ]
  },
  {
   "cell_type": "code",
   "execution_count": 256,
   "metadata": {},
   "outputs": [],
   "source": [
    "def AT_content_df(bed_fn, contig_fn, intervals, merge=True):\n",
    "    bed = BedTool(bed_fn)\n",
    "    if merge == True:\n",
    "        bed.sort().merge()\n",
    "    #specify datatypes if possible\n",
    "    tmp_fn = bed_fn.replace('.bed', '.AT.bed.tmp')\n",
    "    dtype_dict = {0:str, 1:np.int32, 2:np.int32, 3:str, 4:str, 5:str, 6:float}\n",
    "    bed.nucleotide_content(fi=contig_fn).saveas(tmp_fn)\n",
    "    #bedtools nuc -fi {contig_fn} -bed {bed_fn} > {tmp_fn}\n",
    "    \n",
    "    if len(bed.to_dataframe().columns) == 6:\n",
    "        dtype_dict = {0:str, 1:np.int32, 2:np.int32, 3:str, 4:str, 5:str, 6:float}\n",
    "        df = pd.read_csv( tmp_fn, sep='\\t',header=None,dtype=dtype_dict, usecols=[0,1,2,3,6], skiprows=1)\n",
    "        df.rename(columns={6:'%AT'}, inplace=True)\n",
    "    elif len(bed.to_dataframe().columns) == 3:\n",
    "        dtype_dict = {0:str, 1:np.int32, 2:np.int32, 3:float}\n",
    "        df = pd.read_csv( tmp_fn, sep='\\t',header=None,dtype=dtype_dict, usecols=[0,1,2,3], skiprows=1)\n",
    "        df.rename(columns={3:'%AT'}, inplace=True)\n",
    "    df['%AT'] = df['%AT'].astype('float')\n",
    "    df['W_Len'] = df[2] - df[1]\n",
    "    \n",
    "    df['Intervals'] = pd.cut(df['%AT'], intervals)\n",
    "    grouped = df.groupby('Intervals')\n",
    "    ###group by the edge\n",
    "    ####get the length of the intervals and plot the sum for each interval\n",
    "    ###edge\n",
    "    \n",
    "    \n",
    "    sum_df = grouped.agg({'%AT': 'count', 'W_Len': 'sum'})\n",
    "    sum_df['Interval_edge'] = intervals.right\n",
    "    sum_df.fillna(0, inplace=True)\n",
    "    sum_df['norm_count_AT'] = sum_df['%AT']/sum_df['%AT'].sum()\n",
    "    sum_df['norm_W_Len'] = sum_df['W_Len']/sum_df['W_Len'].sum()\n",
    "    os.remove(tmp_fn)\n",
    "    return df, sum_df"
   ]
  },
  {
   "cell_type": "code",
   "execution_count": 175,
   "metadata": {},
   "outputs": [],
   "source": [
    "repet_genome_fn = os.path.join(AT_analysis, '%s.repet.fa' % genome)\n",
    "with open(genome_fn, 'r') as g_fh:\n",
    "    with open(repet_genome_fn, 'w') as rg_fh:\n",
    "        for line in g_fh:\n",
    "            line = line.rstrip('\\n')\n",
    "            if line.startswith(\">\"):\n",
    "                line = line.replace('APSI_P0','ApsiP_S00')\n",
    "                print(line, file = rg_fh)\n",
    "            else:\n",
    "                print(line, file = rg_fh)"
   ]
  },
  {
   "cell_type": "code",
   "execution_count": 176,
   "metadata": {},
   "outputs": [
    {
     "name": "stdout",
     "output_type": "stream",
     "text": [
      ">ApsiP_S0001\n",
      "ACCCTAACCCTAACCCTAACCCTAACCCTAACCCTAACCCTAACCCTAACCAATGTAATCTATATGAAAA\n",
      "ATTAGATTTTTAATGAATTTTATAATATATCTCATATGAAAAAACTTTCACAATGTAATTCAATGAAAAA\n",
      "AATATTTTTCAATACAATTCATATTGAAAATACGTATTTTTAGTGTAGTTTATATTGAAACTGCATTTTC\n",
      "AGTGGTATTTTTTCAAAAAAAAATTCCATTTAATTTGCATCAATGATAAATTTGCAAATTAAATTTCTCT\n",
      "TATATATATATTTCTTATTCAATGTATAGTCAAAATACATTTTTCAATTAATTTATATGCAAAATACATA\n",
      "TATTAATGTGGTTTATGTTAAAAATAGTTTTCTTAATGTAGTTTATATTGAGAATACATCTCTAAATGTG\n",
      "AGTTTTGTTCAAGACTGTATTACTAATGTAGTTTTTATTCATAAACATTTTTGAACTAATTTCTTATTAA\n",
      "AAACACATCTCTCAATATAATTTATATGAGAAATATATTTTTCAATTTCATTCATATTCAAAATGCAGTT\n",
      "GTTGATGAAATTATCATTAAACAACATTTTTCAATTTATTTAATATTACAAATACATATCCATATATATT\n"
     ]
    }
   ],
   "source": [
    "!head {repet_genome_fn}"
   ]
  },
  {
   "cell_type": "code",
   "execution_count": 177,
   "metadata": {},
   "outputs": [],
   "source": [
    "!samtools faidx {repet_genome_fn}"
   ]
  },
  {
   "cell_type": "code",
   "execution_count": 178,
   "metadata": {},
   "outputs": [],
   "source": [
    "!cut -f1,2 {repet_genome_fn}.fai > {repet_genome_fn.replace('.fa', '.genome')}"
   ]
  },
  {
   "cell_type": "code",
   "execution_count": 182,
   "metadata": {},
   "outputs": [],
   "source": [
    "repet_genome_index_fn = os.path.abspath(repet_genome_fn.replace('.fa', '.genome'))"
   ]
  },
  {
   "cell_type": "code",
   "execution_count": 152,
   "metadata": {},
   "outputs": [
    {
     "data": {
      "text/plain": [
       "<BedTool(../../TE_analysis/APSI_primary_v1.MR_P2A_300Mb.REPET.reverse.nr.bed)>"
      ]
     },
     "execution_count": 152,
     "metadata": {},
     "output_type": "execute_result"
    }
   ],
   "source": [
    "repet_gff_fn = os.path.join(TE_FOLDER, 'APSI_primary_v1.MR_P2A_300Mb.REPET.gff3' )\n",
    "repet_bed_reverse_fn = repet_gff_fn.replace('.gff3', '.reverse.nr.bed')\n",
    "pybedtools.BedTool(repet_gff_fn).sort().merge().\\\n",
    "complement(g=repet_genome_index_fn).saveas(repet_bed_reverse_fn)"
   ]
  },
  {
   "cell_type": "code",
   "execution_count": 185,
   "metadata": {},
   "outputs": [],
   "source": [
    "repet_bed_flies = []\n",
    "for folder in ['Retrotransposon', 'DNA_transposon']:\n",
    "    for file in os.listdir(os.path.join(TE_FOLDER, folder)):\n",
    "        if file.endswith('.nr.bed') and file.split('.')[3] == 'superfamily':\n",
    "            repet_bed_flies.append(os.path.join(TE_FOLDER, folder, file))\n",
    "repet_bed_flies.append(repet_bed_reverse_fn)\n"
   ]
  },
  {
   "cell_type": "code",
   "execution_count": 298,
   "metadata": {},
   "outputs": [],
   "source": [
    "facount_fa_files = []\n",
    "for tmp_bed_fn in repet_bed_flies:\n",
    "    tmp_bed = BedTool(tmp_bed_fn)\n",
    "    tmp_out_fn = os.path.join(TMP_FOLDER, os.path.basename(tmp_bed_fn)\\\n",
    "                              .replace('.bed', '.fa'))\n",
    "    tmp_bed.sequence(fi=repet_genome_fn).save_seqs(tmp_out_fn)\n",
    "    facount_fa_files.append(tmp_out_fn)"
   ]
  },
  {
   "cell_type": "code",
   "execution_count": 196,
   "metadata": {},
   "outputs": [
    {
     "name": "stdout",
     "output_type": "stream",
     "text": [
      "APSI_primary_v1.MR_P2A_300Mb.REPET.gff3\n",
      "APSI_primary_v1.anno.gff\n",
      "APSI_primary_v1.transcript.busco.bed\n",
      "APSI_primary_v1.transcript.effector.bed\n",
      "APSI_primary_v1.transcript.genes.bed\n",
      "APSI_primary_v1.transcript.nob_noe.bed\n",
      "APSI_primary_v1.transcript.nobusco.bed\n",
      "APSI_primary_v1.transcript.noeffector.bed\n"
     ]
    }
   ],
   "source": [
    "!ls {EFFECTOR_FOLDER}"
   ]
  },
  {
   "cell_type": "code",
   "execution_count": null,
   "metadata": {},
   "outputs": [],
   "source": [
    "#pulling in the AT files based on occulter_cut\n",
    "intervals = pd.interval_range(start=0.2, end=1.0, closed='right', periods=80)\n",
    "oc_bed_fn = os.path.join(AT_analysis, 'regions.bed')\n",
    "\n",
    "oc_df, oc_sum_df = AT_content_df(oc_bed_fn, genome_fn, intervals)\n",
    "oc_greater_fn = os.path.join(AT_analysis, 'Greater_61%AT_regions.bed')\n",
    "oc_smaller_fn = os.path.join(AT_analysis, 'Smaller_61%AT_regions.bed')\n",
    "\n",
    "oc_df[oc_df['%AT'] > 0.61].iloc[:, 0:3].to_csv(os.path.join(oc_greater_fn \\\n",
    "                                               , index=None, header=None, sep='\\t')\n",
    "oc_df[(oc_df['%AT'] < 0.61)|(oc_df['%AT'] == 0.61)].iloc[:, 0:3].to_csv(oc_smaller_fn,\\\n",
    "                                                                        index=None, header=None, sep='\\t')"
   ]
  },
  {
   "cell_type": "code",
   "execution_count": 301,
   "metadata": {},
   "outputs": [],
   "source": [
    "bed_files = []\n",
    "bed_files.append(os.path.join(EFFECTOR_FOLDER, 'APSI_primary_v1.transcript.genes.bed'))\n",
    "bed_files.append(oc_greater_fn)\n",
    "bed_files.append(oc_smaller_fn)"
   ]
  },
  {
   "cell_type": "code",
   "execution_count": 302,
   "metadata": {},
   "outputs": [],
   "source": [
    "for tmp_bed_fn in bed_files:\n",
    "    tmp_bed = BedTool(tmp_bed_fn)\n",
    "    tmp_out_fn = os.path.join(TMP_FOLDER, os.path.basename(tmp_bed_fn)\\\n",
    "                              .replace('.bed', '.fa'))\n",
    "    tmp_bed.sequence(fi=genome_fn).save_seqs(tmp_out_fn)\n",
    "    facount_fa_files.append(tmp_out_fn)"
   ]
  },
  {
   "cell_type": "code",
   "execution_count": 303,
   "metadata": {},
   "outputs": [
    {
     "data": {
      "text/plain": [
       "['../../AT_analysis/Dinucl/difacount/APSI_primary_v1.MR_P2A_300Mb.REPET.superfamily.ClassI:?:?.nr.fa',\n",
       " '../../AT_analysis/Dinucl/difacount/APSI_primary_v1.MR_P2A_300Mb.REPET.superfamily.ClassI:SINE:5S.nr.fa',\n",
       " '../../AT_analysis/Dinucl/difacount/APSI_primary_v1.MR_P2A_300Mb.REPET.superfamily.ClassI:LTR:Gypsy.nr.fa',\n",
       " '../../AT_analysis/Dinucl/difacount/APSI_primary_v1.MR_P2A_300Mb.REPET.superfamily.ClassI:LTR:?.nr.fa',\n",
       " '../../AT_analysis/Dinucl/difacount/APSI_primary_v1.MR_P2A_300Mb.REPET.superfamily.ClassI:DIRS:DIRS.nr.fa',\n",
       " '../../AT_analysis/Dinucl/difacount/APSI_primary_v1.MR_P2A_300Mb.REPET.superfamily.ClassI:LINE:Jockey.nr.fa',\n",
       " '../../AT_analysis/Dinucl/difacount/APSI_primary_v1.MR_P2A_300Mb.REPET.superfamily.ClassI:LINE:L1.nr.fa',\n",
       " '../../AT_analysis/Dinucl/difacount/APSI_primary_v1.MR_P2A_300Mb.REPET.superfamily.ClassI:LARD:?.nr.fa',\n",
       " '../../AT_analysis/Dinucl/difacount/APSI_primary_v1.MR_P2A_300Mb.REPET.superfamily.ClassI:LTR:Retrovirus.nr.fa',\n",
       " '../../AT_analysis/Dinucl/difacount/APSI_primary_v1.MR_P2A_300Mb.REPET.superfamily.ClassI:DIRS:?.nr.fa',\n",
       " '../../AT_analysis/Dinucl/difacount/APSI_primary_v1.MR_P2A_300Mb.REPET.superfamily.ClassI:LINE:RTE.nr.fa',\n",
       " '../../AT_analysis/Dinucl/difacount/APSI_primary_v1.MR_P2A_300Mb.REPET.superfamily.ClassI:LINE:R2.nr.fa',\n",
       " '../../AT_analysis/Dinucl/difacount/APSI_primary_v1.MR_P2A_300Mb.REPET.superfamily.ClassI:LTR:Bel-Pao.nr.fa',\n",
       " '../../AT_analysis/Dinucl/difacount/APSI_primary_v1.MR_P2A_300Mb.REPET.superfamily.ClassI:LINE:I.nr.fa',\n",
       " '../../AT_analysis/Dinucl/difacount/APSI_primary_v1.MR_P2A_300Mb.REPET.superfamily.ClassI:LTR:Copia.nr.fa',\n",
       " '../../AT_analysis/Dinucl/difacount/APSI_primary_v1.MR_P2A_300Mb.REPET.superfamily.ClassI:PLE:Penelope.nr.fa',\n",
       " '../../AT_analysis/Dinucl/difacount/APSI_primary_v1.MR_P2A_300Mb.REPET.superfamily.ClassI:TRIM:?.nr.fa',\n",
       " '../../AT_analysis/Dinucl/difacount/APSI_primary_v1.MR_P2A_300Mb.REPET.superfamily.ClassI:SINE:?.nr.fa',\n",
       " '../../AT_analysis/Dinucl/difacount/APSI_primary_v1.MR_P2A_300Mb.REPET.superfamily.ClassI:LTR:ERV.nr.fa',\n",
       " '../../AT_analysis/Dinucl/difacount/APSI_primary_v1.MR_P2A_300Mb.REPET.superfamily.ClassI:LINE:?.nr.fa',\n",
       " '../../AT_analysis/Dinucl/difacount/APSI_primary_v1.MR_P2A_300Mb.REPET.superfamily.ClassII:TIR:CACTA.nr.fa',\n",
       " '../../AT_analysis/Dinucl/difacount/APSI_primary_v1.MR_P2A_300Mb.REPET.superfamily.ClassII:TIR:PIF-Harbinger.nr.fa',\n",
       " '../../AT_analysis/Dinucl/difacount/APSI_primary_v1.MR_P2A_300Mb.REPET.superfamily.ClassII:?:Kolobok.nr.fa',\n",
       " '../../AT_analysis/Dinucl/difacount/APSI_primary_v1.MR_P2A_300Mb.REPET.superfamily.ClassII:Helitron:?.nr.fa',\n",
       " '../../AT_analysis/Dinucl/difacount/APSI_primary_v1.MR_P2A_300Mb.REPET.superfamily.ClassII:TIR:P.nr.fa',\n",
       " '../../AT_analysis/Dinucl/difacount/APSI_primary_v1.MR_P2A_300Mb.REPET.superfamily.ClassII:MITE:?.nr.fa',\n",
       " '../../AT_analysis/Dinucl/difacount/APSI_primary_v1.MR_P2A_300Mb.REPET.superfamily.ClassII:TIR:PiggyBac.nr.fa',\n",
       " '../../AT_analysis/Dinucl/difacount/APSI_primary_v1.MR_P2A_300Mb.REPET.superfamily.ClassII:TIR:hAT.nr.fa',\n",
       " '../../AT_analysis/Dinucl/difacount/APSI_primary_v1.MR_P2A_300Mb.REPET.superfamily.ClassII:TIR:Transib.nr.fa',\n",
       " '../../AT_analysis/Dinucl/difacount/APSI_primary_v1.MR_P2A_300Mb.REPET.superfamily.ClassII:TIR:MuDR.nr.fa',\n",
       " '../../AT_analysis/Dinucl/difacount/APSI_primary_v1.MR_P2A_300Mb.REPET.superfamily.ClassII:TIR:Tc1-Mariner.nr.fa',\n",
       " '../../AT_analysis/Dinucl/difacount/APSI_primary_v1.MR_P2A_300Mb.REPET.superfamily.ClassII:Crypton:Crypton.nr.fa',\n",
       " '../../AT_analysis/Dinucl/difacount/APSI_primary_v1.MR_P2A_300Mb.REPET.superfamily.ClassII:Maverick:Maverick.nr.fa',\n",
       " '../../AT_analysis/Dinucl/difacount/APSI_primary_v1.MR_P2A_300Mb.REPET.superfamily.ClassII:?:Ginger2_TDD.nr.fa',\n",
       " '../../AT_analysis/Dinucl/difacount/APSI_primary_v1.MR_P2A_300Mb.REPET.superfamily.ClassII:Helitron:Helitron.nr.fa',\n",
       " '../../AT_analysis/Dinucl/difacount/APSI_primary_v1.MR_P2A_300Mb.REPET.superfamily.ClassII:?:Ginger1.nr.fa',\n",
       " '../../AT_analysis/Dinucl/difacount/APSI_primary_v1.MR_P2A_300Mb.REPET.superfamily.ClassII:TIR:?.nr.fa',\n",
       " '../../AT_analysis/Dinucl/difacount/APSI_primary_v1.MR_P2A_300Mb.REPET.superfamily.ClassII:Maverick:?.nr.fa',\n",
       " '../../AT_analysis/Dinucl/difacount/APSI_primary_v1.MR_P2A_300Mb.REPET.superfamily.ClassII:?:?.nr.fa',\n",
       " '../../AT_analysis/Dinucl/difacount/APSI_primary_v1.MR_P2A_300Mb.REPET.superfamily.ClassII:?:Novosib.nr.fa',\n",
       " '../../AT_analysis/Dinucl/difacount/APSI_primary_v1.MR_P2A_300Mb.REPET.superfamily.ClassII:?:Sola.nr.fa',\n",
       " '../../AT_analysis/Dinucl/difacount/APSI_primary_v1.MR_P2A_300Mb.REPET.reverse.nr.fa',\n",
       " '../../AT_analysis/Dinucl/difacount/APSI_primary_v1.transcript.genes.fa',\n",
       " '../../AT_analysis/Dinucl/difacount/Greater_61%AT_regions.fa',\n",
       " '../../AT_analysis/Dinucl/difacount/Smaller_61%AT_regions.fa']"
      ]
     },
     "execution_count": 303,
     "metadata": {},
     "output_type": "execute_result"
    }
   ],
   "source": [
    "facount_fa_files"
   ]
  },
  {
   "cell_type": "code",
   "execution_count": 316,
   "metadata": {},
   "outputs": [],
   "source": [
    "facount_fac_files = []\n",
    "#'TpA/ApT'\n",
    "dicount_dict_S = {}\n",
    "#'CpA + TpG/ApC + GpT'\n",
    "dicount_dict_L = {}\n",
    "#length\n",
    "dicount_dict_length = {}\n",
    "for file in facount_fa_files:\n",
    "    tmp_out_fn = file.replace('.fa', '.fac')\n",
    "    facount(file, tmp_out_fn)\n",
    "    facount_fac_files.append(tmp_out_fn)\n",
    "    tmp_df = do_RIP_call(tmp_out_fn)\n",
    "    if 'superfamily' in file:\n",
    "        name = os.path.basename(file).split('.')[4]\n",
    "    elif 'REPET.reverse.nr.' in file:\n",
    "        name = 'non_TE'\n",
    "    elif 'transcript.genes' in file:\n",
    "        name = 'genes'\n",
    "    elif '%AT_regions' in file:\n",
    "        name = os.path.basename(file).split('.')[0]\n",
    "    dicount_dict_S[name] = tmp_df['TpA/ApT']\n",
    "    dicount_dict_L[name] = tmp_df['CpA + TpG/ApC + GpT']\n",
    "    dicount_dict_length[name] = tmp_df['len']"
   ]
  },
  {
   "cell_type": "code",
   "execution_count": 317,
   "metadata": {},
   "outputs": [
    {
     "data": {
      "text/plain": [
       "dict_keys(['ClassI:?:?', 'ClassI:SINE:5S', 'ClassI:LTR:Gypsy', 'ClassI:LTR:?', 'ClassI:DIRS:DIRS', 'ClassI:LINE:Jockey', 'ClassI:LINE:L1', 'ClassI:LARD:?', 'ClassI:LTR:Retrovirus', 'ClassI:DIRS:?', 'ClassI:LINE:RTE', 'ClassI:LINE:R2', 'ClassI:LTR:Bel-Pao', 'ClassI:LINE:I', 'ClassI:LTR:Copia', 'ClassI:PLE:Penelope', 'ClassI:TRIM:?', 'ClassI:SINE:?', 'ClassI:LTR:ERV', 'ClassI:LINE:?', 'ClassII:TIR:CACTA', 'ClassII:TIR:PIF-Harbinger', 'ClassII:?:Kolobok', 'ClassII:Helitron:?', 'ClassII:TIR:P', 'ClassII:MITE:?', 'ClassII:TIR:PiggyBac', 'ClassII:TIR:hAT', 'ClassII:TIR:Transib', 'ClassII:TIR:MuDR', 'ClassII:TIR:Tc1-Mariner', 'ClassII:Crypton:Crypton', 'ClassII:Maverick:Maverick', 'ClassII:?:Ginger2_TDD', 'ClassII:Helitron:Helitron', 'ClassII:?:Ginger1', 'ClassII:TIR:?', 'ClassII:Maverick:?', 'ClassII:?:?', 'ClassII:?:Novosib', 'ClassII:?:Sola', 'non_TE', 'genes', 'Greater_61%AT_regions', 'Smaller_61%AT_regions'])"
      ]
     },
     "execution_count": 317,
     "metadata": {},
     "output_type": "execute_result"
    }
   ],
   "source": [
    "dicount_dict_S.keys()"
   ]
  },
  {
   "cell_type": "code",
   "execution_count": 321,
   "metadata": {},
   "outputs": [
    {
     "name": "stdout",
     "output_type": "stream",
     "text": [
      "non_TE :  count    245341.000000\n",
      "mean          0.788108\n",
      "std           0.390943\n",
      "min           0.000000\n",
      "25%           0.629630\n",
      "50%           0.777778\n",
      "75%           0.931034\n",
      "max          47.000000\n",
      "Name: TpA/ApT, dtype: float64\n",
      "genes :  count    18479.000000\n",
      "mean         0.660514\n",
      "std          0.727614\n",
      "min          0.000000\n",
      "25%          0.563857\n",
      "50%          0.651099\n",
      "75%          0.737234\n",
      "max         96.076923\n",
      "Name: TpA/ApT, dtype: float64\n",
      "ClassI:LTR:Gypsy :  count    336982.000000\n",
      "mean          0.733147\n",
      "std           0.335770\n",
      "min           0.000000\n",
      "25%           0.548872\n",
      "50%           0.750000\n",
      "75%           0.878378\n",
      "max          36.000000\n",
      "Name: TpA/ApT, dtype: float64\n",
      "ClassI:LTR:Copia :  count    75249.000000\n",
      "mean         0.770200\n",
      "std          0.370810\n",
      "min          0.000000\n",
      "25%          0.571429\n",
      "50%          0.764085\n",
      "75%          0.928571\n",
      "max          6.000000\n",
      "Name: TpA/ApT, dtype: float64\n",
      "Greater_61%AT_regions :  count    91188.000000\n",
      "mean         0.812349\n",
      "std          0.107013\n",
      "min          0.104972\n",
      "25%          0.749420\n",
      "50%          0.814969\n",
      "75%          0.881474\n",
      "max          2.844444\n",
      "Name: TpA/ApT, dtype: float64\n",
      "Smaller_61%AT_regions :  count    28354.000000\n",
      "mean         0.718814\n",
      "std          3.799902\n",
      "min          0.000000\n",
      "25%          0.566317\n",
      "50%          0.648148\n",
      "75%          0.745614\n",
      "max        414.666667\n",
      "Name: TpA/ApT, dtype: float64\n"
     ]
    }
   ],
   "source": [
    "for x in ['non_TE', 'genes', 'ClassI:LTR:Gypsy','ClassI:LTR:Copia', 'Greater_61%AT_regions', 'Smaller_61%AT_regions'] :\n",
    "    print(x, ': ', dicount_dict_S[x][:-1].describe())\n",
    "    #print(x, ': ', dicount_dict_S[x].iloc[-1])"
   ]
  },
  {
   "cell_type": "code",
   "execution_count": 314,
   "metadata": {},
   "outputs": [
    {
     "name": "stdout",
     "output_type": "stream",
     "text": [
      "ClassI:?:? :  1.0\n",
      "ClassI:SINE:5S :  1.6666666666666667\n",
      "ClassI:LTR:Gypsy :  0.75\n",
      "ClassI:LTR:? :  0.75\n",
      "ClassI:DIRS:DIRS :  0.6923076923076923\n",
      "ClassI:LINE:Jockey :  0.7142857142857143\n",
      "ClassI:LINE:L1 :  0.5527777777777778\n",
      "ClassI:LARD:? :  0.8181818181818182\n",
      "ClassI:LTR:Retrovirus :  0.75\n",
      "ClassI:DIRS:? :  0.8333333333333334\n",
      "ClassI:LINE:RTE :  0.8916666666666666\n",
      "ClassI:LINE:R2 :  0.8333333333333334\n",
      "ClassI:LTR:Bel-Pao :  0.17902930402930403\n",
      "ClassI:LINE:I :  0.7860696517412935\n",
      "ClassI:LTR:Copia :  0.7640845070422535\n",
      "ClassI:PLE:Penelope :  74.5\n",
      "ClassI:TRIM:? :  0.8221688034188034\n",
      "ClassI:SINE:? :  0.5594117647058824\n",
      "ClassI:LTR:ERV :  0.6666666666666666\n",
      "ClassI:LINE:? :  0.7898550724637681\n",
      "ClassII:TIR:CACTA :  0.6\n",
      "ClassII:TIR:PIF-Harbinger :  0.682983682983683\n",
      "ClassII:?:Kolobok :  0.6551724137931034\n",
      "ClassII:Helitron:? :  0.75\n",
      "ClassII:TIR:P :  0.5954545454545455\n",
      "ClassII:MITE:? :  0.6923076923076923\n",
      "ClassII:TIR:PiggyBac :  1.0454545454545454\n",
      "ClassII:TIR:hAT :  0.6590909090909091\n",
      "ClassII:TIR:Transib :  1.1875\n",
      "ClassII:TIR:MuDR :  0.6875\n",
      "ClassII:TIR:Tc1-Mariner :  0.6666666666666666\n",
      "ClassII:Crypton:Crypton :  1.3206751054852321\n",
      "ClassII:Maverick:Maverick :  0.5\n",
      "ClassII:?:Ginger2_TDD :  0.5538461538461539\n",
      "ClassII:Helitron:Helitron :  0.7272727272727273\n",
      "ClassII:?:Ginger1 :  0.8333333333333334\n",
      "ClassII:TIR:? :  0.7352941176470589\n",
      "ClassII:Maverick:? :  0.6666666666666666\n",
      "ClassII:?:? :  0.7577022837983172\n",
      "ClassII:?:Novosib :  0.2727272727272727\n",
      "ClassII:?:Sola :  0.5\n",
      "non_TE :  0.7777777777777778\n",
      "genes :  0.6510989010989011\n",
      "Greater_61%AT_regions :  0.8149688689034936\n",
      "Smaller_61%AT_regions :  0.6481481481481481\n"
     ]
    }
   ],
   "source": [
    "for x in  dicount_dict_S.keys():\n",
    "    print(x, ': ', dicount_dict_S[x][:-1].median())"
   ]
  },
  {
   "cell_type": "code",
   "execution_count": 326,
   "metadata": {},
   "outputs": [
    {
     "name": "stdout",
     "output_type": "stream",
     "text": [
      "non_TE :  count    246278.000000\n",
      "mean          1.547403\n",
      "std           0.715196\n",
      "min           0.000000\n",
      "25%           1.200000\n",
      "50%           1.480000\n",
      "75%           1.764706\n",
      "max          14.000000\n",
      "Name: CpA + TpG/ApC + GpT, dtype: float64\n",
      "genes :  count    18481.000000\n",
      "mean         1.512090\n",
      "std          0.491690\n",
      "min          0.000000\n",
      "25%          1.339623\n",
      "50%          1.468750\n",
      "75%          1.636364\n",
      "max         56.000000\n",
      "Name: CpA + TpG/ApC + GpT, dtype: float64\n",
      "ClassI:LTR:Gypsy :  count    336838.000000\n",
      "mean          1.649068\n",
      "std           0.713452\n",
      "min           0.000000\n",
      "25%           1.307692\n",
      "50%           1.500000\n",
      "75%           1.818182\n",
      "max          52.000000\n",
      "Name: CpA + TpG/ApC + GpT, dtype: float64\n",
      "ClassI:LTR:Copia :  count    75213.000000\n",
      "mean         1.638833\n",
      "std          0.801637\n",
      "min          0.000000\n",
      "25%          1.250000\n",
      "50%          1.474453\n",
      "75%          1.800000\n",
      "max         22.000000\n",
      "Name: CpA + TpG/ApC + GpT, dtype: float64\n",
      "Greater_61%AT_regions :  count    91175.000000\n",
      "mean         1.481097\n",
      "std          0.855926\n",
      "min          0.358974\n",
      "25%          1.357771\n",
      "50%          1.469367\n",
      "75%          1.568807\n",
      "max        213.000000\n",
      "Name: CpA + TpG/ApC + GpT, dtype: float64\n",
      "Smaller_61%AT_regions :  count    28363.000000\n",
      "mean         1.571389\n",
      "std          0.184548\n",
      "min          0.000000\n",
      "25%          1.458649\n",
      "50%          1.553454\n",
      "75%          1.707071\n",
      "max          3.000000\n",
      "Name: CpA + TpG/ApC + GpT, dtype: float64\n"
     ]
    }
   ],
   "source": [
    "for x in ['non_TE', 'genes', 'ClassI:LTR:Gypsy','ClassI:LTR:Copia', 'Greater_61%AT_regions', 'Smaller_61%AT_regions'] :\n",
    "    print(x, ': ', dicount_dict_L[x][:-1].describe())\n",
    "    #print(x, ' #elements:', len(dicount_dict_L[x][:-1]))\n",
    "    #last_element = len(dicount_dict_S[x] - 1)\n",
    "    #print(x, ': ', dicount_dict_L[x].iloc[-1])"
   ]
  },
  {
   "cell_type": "code",
   "execution_count": 238,
   "metadata": {},
   "outputs": [
    {
     "data": {
      "text/plain": [
       "{'whiskers': [<matplotlib.lines.Line2D at 0x11d747850>,\n",
       "  <matplotlib.lines.Line2D at 0x11d74b9d0>],\n",
       " 'caps': [<matplotlib.lines.Line2D at 0x11d74bed0>,\n",
       "  <matplotlib.lines.Line2D at 0x11d747590>],\n",
       " 'boxes': [<matplotlib.lines.Line2D at 0x11d747810>],\n",
       " 'medians': [<matplotlib.lines.Line2D at 0x11d74d950>],\n",
       " 'fliers': [<matplotlib.lines.Line2D at 0x11d74de50>],\n",
       " 'means': []}"
      ]
     },
     "execution_count": 238,
     "metadata": {},
     "output_type": "execute_result"
    },
    {
     "data": {
      "image/png": "[encoded data removed]",
      "text/plain": [
       "<Figure size 432x288 with 1 Axes>"
      ]
     },
     "metadata": {
      "needs_background": "light"
     },
     "output_type": "display_data"
    }
   ],
   "source": [
    "plt.boxplot(dicount_dict_S['non_TE'].dropna())"
   ]
  },
  {
   "cell_type": "code",
   "execution_count": 313,
   "metadata": {},
   "outputs": [],
   "source": [
    "#maybe do the rip analysis by family instead\n",
    "#maybe consider doing reverse complements as well"
   ]
  },
  {
   "cell_type": "code",
   "execution_count": null,
   "metadata": {},
   "outputs": [],
   "source": []
  }
 ],
 "metadata": {
  "kernelspec": {
   "display_name": "Python 3",
   "language": "python",
   "name": "python3"
  },
  "language_info": {
   "codemirror_mode": {
    "name": "ipython",
    "version": 3
   },
   "file_extension": ".py",
   "mimetype": "text/x-python",
   "name": "python",
   "nbconvert_exporter": "python",
   "pygments_lexer": "ipython3",
   "version": "3.7.1"
  }
 },
 "nbformat": 4,
 "nbformat_minor": 4
}
