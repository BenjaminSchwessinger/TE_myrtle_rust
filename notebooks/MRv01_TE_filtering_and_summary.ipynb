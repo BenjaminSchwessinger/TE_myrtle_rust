{
 "cells": [
  {
   "cell_type": "markdown",
   "metadata": {},
   "source": [
    "This notebook is aimed at summarzing the REPET output at different levels of the nomenclature and to plot this out. Parts of it are really slow.\n",
    "\n",
    "\n",
    "This is no adapted to myrtle rust genome MRv01"
   ]
  },
  {
   "cell_type": "code",
   "execution_count": 1,
   "metadata": {
    "ExecuteTime": {
     "end_time": "2019-08-26T06:32:12.235657Z",
     "start_time": "2019-08-26T06:32:10.928395Z"
    }
   },
   "outputs": [
    {
     "name": "stderr",
     "output_type": "stream",
     "text": [
      "/home/benjamin/anaconda3/lib/python3.5/site-packages/Bio/SearchIO/__init__.py:211: BiopythonExperimentalWarning: Bio.SearchIO is an experimental submodule which may undergo significant changes prior to its future official release.\n",
      "  BiopythonExperimentalWarning)\n"
     ]
    }
   ],
   "source": [
    "%matplotlib inline\n",
    "import pandas as pd\n",
    "import os\n",
    "import re\n",
    "from Bio import SeqIO\n",
    "import pysam\n",
    "from Bio.SeqRecord import SeqRecord\n",
    "from Bio.Seq import Seq\n",
    "from Bio import SearchIO\n",
    "from pybedtools import BedTool\n",
    "import numpy as np\n",
    "import pybedtools\n",
    "import multiprocessing\n",
    "import re\n",
    "import time\n",
    "import matplotlib.pyplot as plt\n",
    "import json\n",
    "from ipywidgets import widgets\n",
    "from IPython.display import display\n",
    "from sklearn.externals.joblib import Parallel, delayed\n",
    "import seaborn as sns\n",
    "import matplotlib\n",
    "import subprocess"
   ]
  },
  {
   "cell_type": "code",
   "execution_count": 2,
   "metadata": {
    "ExecuteTime": {
     "end_time": "2019-08-26T06:32:12.286083Z",
     "start_time": "2019-08-26T06:32:12.238988Z"
    },
    "collapsed": true
   },
   "outputs": [],
   "source": [
    "def ID_filter_gff(_feature, _id):\n",
    "    \"\"\"\n",
    "    This filter parses out the top level id form the 9th gff column form a REPET gff file.\n",
    "    It has a specific search pattern for each feature type in column 2.\n",
    "    _type is defined by the feature '_'.join(feature.split(\"_\")[-2:])\n",
    "    This function expects that the variable genome either ends with primary_v1 and that the 2 second of the _x_x_Sx starts with S.\n",
    "    \"\"\"\n",
    "    _type = '_'.join(_feature.split(\"_\")[-2:])\n",
    "    if _type == 'REPET_TEs':\n",
    "        if genome.endswith('primary_v1'):\n",
    "            TE_pattern = r'ID=[A-Z,a-z,0-9,-]*_[A-Z,a-z,0-9]*_S[0-9]*_([^;| ]*)'\n",
    "        TE_prog = re.compile(TE_pattern)\n",
    "        TE_match = TE_prog.search(_id)\n",
    "\n",
    "        try:\n",
    "            return TE_match.group(1)\n",
    "        except AttributeError:\n",
    "            print(_id)\n",
    "\n",
    "    if _type == 'REPET_SSRs':\n",
    "        if genome.endswith('primary_v1'):\n",
    "            SSR_pattern = 'ID=[A-Z,a-z,0-9,-]*_[A-Z,a-z,0-9]*_S[0-9]*_([A-Z,a-z,0-9,-]*)'\n",
    "\n",
    "        SSR_prog = re.compile(SSR_pattern)\n",
    "        SSR_match = SSR_prog.search(_id)\n",
    "        return SSR_match.group(1)\n",
    "    if _type == 'REPET_tblastx' or _type == 'REPET_blastx':\n",
    "        if genome.endswith('primary_v1'):\n",
    "            blast_prog = re.compile(r'ID=[A-Z,a-z,0-9,-]*_[A-Z,a-z,0-9]*_S[0-9]*_([^;| ]*)')\n",
    "\n",
    "        #blast_prog = re.compile(blast_pattern)\n",
    "        blast_match = blast_prog.search(_id)\n",
    "        return blast_match.group(1)\n"
   ]
  },
  {
   "cell_type": "code",
   "execution_count": 3,
   "metadata": {
    "ExecuteTime": {
     "end_time": "2019-08-26T06:32:12.446923Z",
     "start_time": "2019-08-26T06:32:12.374865Z"
    },
    "collapsed": true
   },
   "outputs": [],
   "source": [
    "def blast_hit_gff(_feature, _row8, _id):\n",
    "    \"\"\"\n",
    "    This filter parses the blast hit for REPET_TEs from the new 'ID' column. If no blast hit available returns Pastec ids.\n",
    "    If the result is blast already the value is simple parse the blast hit.\n",
    "    SSRs also get SSR\n",
    "    !!!Requires the three_letter_dict to be defined previously.!!!\n",
    "    _type is defined by the feature '_'.join(feature.split(\"_\")[-2:])\n",
    "    \"\"\"\n",
    "    _type = '_'.join(_feature.split(\"_\")[-2:])\n",
    "    if _type == 'REPET_TEs':\n",
    "        #split the pastec_cat into the first three letter code\n",
    "        #the spliting of the 'ID' column needs to be done differently depending on the h or p contigs.\n",
    "        #h contigs contain one additional '_' in the contig id\n",
    "\n",
    "        pastec_cat = _id.split('_')[0]\n",
    "        if 'TE_BLR' in _row8:\n",
    "            #hit_list = [x.split(';')[3] for x in _row8]\n",
    "            blast_hit_pattern = r'TE_BLR\\w*: (\\S*)[ |;]'\n",
    "            blast_hit_prog = re.compile(blast_hit_pattern)\n",
    "            TE_match = blast_hit_prog.findall(_row8)\n",
    "            first_sub_class = ':'.join(TE_match[0][:-1].split(':')[1:])\n",
    "            if len([x for x in TE_match if first_sub_class in x]) == len(TE_match):\n",
    "                if ';' in first_sub_class:\n",
    "                    return first_sub_class.split(';')[0]\n",
    "                else:\n",
    "                    return first_sub_class\n",
    "#fix this here to include the there letter code of the first bit of the ID similar to the blast hits\n",
    "#e.g. ClassI:?:? and so on. a dict might be the easiest here.\n",
    "            \n",
    "            else:\n",
    "                return three_letter_dict[pastec_cat]\n",
    "        else:\n",
    "            return three_letter_dict[pastec_cat]\n",
    "    if _type == 'REPET_SSRs':\n",
    "        return 'SSR'\n",
    "        \n",
    "\n",
    "        return SSR_match.group(1)\n",
    "    if _type == 'REPET_tblastx' or _type == 'REPET_blastx':\n",
    "        return ':'.join(_id.split(':')[1:])"
   ]
  },
  {
   "cell_type": "code",
   "execution_count": 4,
   "metadata": {
    "ExecuteTime": {
     "end_time": "2019-08-26T06:32:13.216235Z",
     "start_time": "2019-08-26T06:32:13.173928Z"
    },
    "collapsed": true
   },
   "outputs": [],
   "source": [
    "def TE_classification_filter(_id, level = 0):\n",
    "    \"\"\"\n",
    "    This function pulls out the class == level1, Order == level2, Superfamily == leve3.\n",
    "    If SSR or noCat return these values.\n",
    "    \n",
    "    \"\"\"\n",
    "    if len(_id.split(':')) == 1:\n",
    "        return _id\n",
    "    if level == 0:\n",
    "        _class = _id.split(':')[0]\n",
    "        if _class == 'ClassI':\n",
    "            return 'Retrotransposon'\n",
    "        if _class == 'ClassII':\n",
    "            return 'DNA_transposon'\n",
    "    elif level == 1:\n",
    "        _order = _id.split(':')[1]\n",
    "        if _order == '?':\n",
    "            return 'noCat'\n",
    "        else:\n",
    "            return _order\n",
    "    elif level == 2:\n",
    "        _superfamily = _id.split(':')[2]\n",
    "        if _superfamily == '?':\n",
    "            return 'noCat'\n",
    "        else:\n",
    "            return _superfamily\n",
    "    else:\n",
    "        print('Something wrong! Check if level is 0, 1 or 2')"
   ]
  },
  {
   "cell_type": "code",
   "execution_count": 5,
   "metadata": {
    "ExecuteTime": {
     "end_time": "2019-08-26T06:32:13.988308Z",
     "start_time": "2019-08-26T06:32:13.955476Z"
    },
    "collapsed": true
   },
   "outputs": [],
   "source": [
    "# subset the id and safe in specific folder\n",
    "# return the subsetted file as bedtool\n",
    "def subset_id(_id, bed_fh, repet_prefix, genome_file_fh):\n",
    "    '''A function that takes the a ID, e.g. from the ID column 9 of a gff,\n",
    "    a bed file handle, e.g. the gff frame, a certain file prefix, and a genome_file handle.\n",
    "    It saves out the coverage file and the gff file for the specific ID.'''\n",
    "    #ClassI are retrotransposon form blast\n",
    "    if 'ClassI:' in _id:\n",
    "        out_path = TE_path_dict['Retrotransposon']   \n",
    "    #ClassII are DNA_transponson\n",
    "    elif 'ClassII' in _id:\n",
    "        out_path = TE_path_dict['DNA_transposon'] \n",
    "    #The rest with '_' should be REPET_TEs\n",
    "    elif _id == 'noCat':\n",
    "        out_path = TE_path_dict['noCat']\n",
    "    #everything without '_' at the end should be SSR\n",
    "    elif _id == 'SSR':\n",
    "        out_path = TE_path_dict['SSR']\n",
    "    cov_fh = os.path.join(out_path,'%s.%s.cov' %(repet_prefix,_id))\n",
    "    gff_fh = cov_fh.replace('.cov', '.gff')\n",
    "    result = pybedtools.BedTool(bed_fh).filter(id_filter, _id).saveas(gff_fh)\n",
    "    result.genome_coverage(dz=True,g=genome_file_fh).saveas(cov_fh)\n",
    "    print('Done with callculating coverage of %s.'% _id)"
   ]
  },
  {
   "cell_type": "code",
   "execution_count": 6,
   "metadata": {
    "ExecuteTime": {
     "end_time": "2019-08-26T06:32:14.826173Z",
     "start_time": "2019-08-26T06:32:14.819034Z"
    },
    "collapsed": true
   },
   "outputs": [],
   "source": [
    "# Next, we create a function to pass only features for a particular\n",
    "# featuretype.  This is similar to a \"grep\" operation when applied to every\n",
    "# feature in a BedTool\n",
    "def id_filter(feature, _id):\n",
    "    if feature[8] == _id:\n",
    "        return True\n",
    "    return False"
   ]
  },
  {
   "cell_type": "code",
   "execution_count": 100,
   "metadata": {},
   "outputs": [],
   "source": [
    "def concatfiles(out_fn, filenames):\n",
    "    with open(out_fn, 'w') as outfile:\n",
    "        for fname in filenames:\n",
    "            with open(fname) as infile:\n",
    "                for line in infile:\n",
    "                    outfile.write(line)"
   ]
  },
  {
   "cell_type": "code",
   "execution_count": 7,
   "metadata": {
    "ExecuteTime": {
     "end_time": "2019-08-26T06:32:15.780366Z",
     "start_time": "2019-08-26T06:32:15.703381Z"
    },
    "collapsed": true
   },
   "outputs": [],
   "source": [
    "def samcov_slurp(file_name, mean=False, fil=True):\n",
    "    \"\"\"\n",
    "    Function that slurps in the the file via the file_name and tests if looks a samcov file.\n",
    "    If this is the case it makes a dataframe out of the samcov file and calculates the following values.\n",
    "    Ave_cov per window, which is the average coverage for each genomic interval. \n",
    "    Norm_cov per window, is the normalized coverage for each genomic interavl. This\n",
    "    can be either calculated by via the mean coverage of the dataframe or via a provided mean.\n",
    "    \"\"\"\n",
    "    if file_name.endswith('.samcov') == False:\n",
    "        print(\"%s Might not be a samcov file. Please check\" % file_name)\n",
    "        return False\n",
    "        \n",
    "    samcov_header_bed_3 = ['contig', 'start', 'stop', 'total_cov']\n",
    "    samcov_header_bed_6 = ['contig', 'start', 'stop', 'ID', 'score', 'strand','total_cov']\n",
    "    df = pd.read_csv(file_name, sep='\\t', header=None)\n",
    "    if len(df.columns) == 4:\n",
    "        df.rename(columns=dict(zip(df.columns, samcov_header_bed_3)), inplace=True)\n",
    "    elif len(df.columns) == 7:\n",
    "        df.rename(columns=dict(zip(df.columns, samcov_header_bed_6)), inplace=True)\n",
    "    else:\n",
    "        print(\"%s Might not be a samcov file. Please check\" % file_name)\n",
    "        return False\n",
    "    \n",
    "    df['interval_size'] = (df.stop-df.start)\n",
    "    df['ave_cov'] = df.total_cov/df['interval_size']\n",
    "    if mean == False:\n",
    "        df_mean = sum(df.total_cov)/sum(df.interval_size)\n",
    "        df['norm_cov'] = df['ave_cov']/df_mean\n",
    "    else:\n",
    "        df['norm_cov'] = df['ave_cov']/mean\n",
    "    #rounder = pd.Series([0,0,0,0,2], index = df.columns)\n",
    "    df.ave_cov = df.ave_cov.round()\n",
    "    if fil == True:\n",
    "        low = 0 #these were defined empirical based on the iqr caculations using 0.01 \n",
    "        high = 400 #and 0.99 as cut off.\n",
    "        df = df[(df.ave_cov >= low) & (df.ave_cov <= high)]\n",
    "    return df"
   ]
  },
  {
   "cell_type": "code",
   "execution_count": 8,
   "metadata": {
    "ExecuteTime": {
     "end_time": "2019-08-26T06:32:16.523459Z",
     "start_time": "2019-08-26T06:32:16.514846Z"
    },
    "collapsed": true
   },
   "outputs": [],
   "source": [
    "def run_samtools_bedcov(window_bed_fn, bam_fn, output_fh):\n",
    "    \"\"\"Runs samtools bedcov as a subprocess so we can paralize the different runs saving some time.\n",
    "    Input: \n",
    "    The window_bed fn for which the samtools bedcov should be calculated.\n",
    "    The bam_fn file that contains the read mapping.\n",
    "    The output_fn where the output is saved to.\n",
    "    These should be absolute path\"\"\"\n",
    "    cmd = r'samtools bedcov %s %s > %s' % (window_bed_fn, bam_fn,output_fh)\n",
    "    stderr = subprocess.check_output(cmd, shell=True, stderr=subprocess.STDOUT)\n",
    "    print('Done with %s' % cmd)"
   ]
  },
  {
   "cell_type": "code",
   "execution_count": 406,
   "metadata": {},
   "outputs": [],
   "source": [
    "def get_cmap(n, name='hsv'):\n",
    "    '''Returns a function that maps each index in 0, 1, ..., n-1 to a distinct \n",
    "    RGB color; the keyword argument name must be a standard mpl colormap name.'''\n",
    "    return plt.cm.get_cmap(name, n)"
   ]
  },
  {
   "cell_type": "markdown",
   "metadata": {},
   "source": [
    "### Description\n",
    "This notebook runs on myrtle rust genome MR_v01. The repeat database was \n",
    "MR_P2A_300Mb_denovoLibTEs_filtered_Blastclust.fa which was produced by running TEdenovo on a subsampled genome of 300Mb of the unscaffolded genome. The classif_table in the SQL was MR_P2A_300Mb_consensus_classif.\n",
    "\n",
    "All REPET gff files got combined as follows using the the naming convention GENOME.DENOVODATABASE.REPET.gff.  \n",
    "\n",
    "The local folder for this analysis is .\n",
    "\n",
    "\n",
    "APSI_primary_v1.MR_P2A_300Mb.REPET.gff3"
   ]
  },
  {
   "cell_type": "markdown",
   "metadata": {},
   "source": [
    "### Change following input here."
   ]
  },
  {
   "cell_type": "code",
   "execution_count": 9,
   "metadata": {
    "ExecuteTime": {
     "end_time": "2019-08-26T06:32:20.027781Z",
     "start_time": "2019-08-26T06:32:20.016958Z"
    },
    "collapsed": true
   },
   "outputs": [],
   "source": [
    "source_dir = '../../../genome_v03/genome/'\n",
    "genome = 'APSI_primary_v1'\n",
    "#in case the genome version for the REPET run had a different ID.\n",
    "genome_repet = 'MR_P2_a0'\n",
    "Tenovodb = 'MR_P2A_300Mb'\n",
    "out_dir = '../../TE_analysis/'\n",
    "repet_db_dir = '../../../../databases/REPET/'\n",
    "#This needs to be updated here according to genome\n",
    "TE_postanalysis_dir = '../../../genome_v03/REPET/TEannot/primary'\n",
    "#...\n",
    "input_dir = '../../REPET/TEannot/primary/MR_P2_a0_GFF3chr/'\n",
    "#threads to use for multithreading\n",
    "threads = 8"
   ]
  },
  {
   "cell_type": "code",
   "execution_count": 10,
   "metadata": {
    "ExecuteTime": {
     "end_time": "2019-08-26T06:32:23.463258Z",
     "start_time": "2019-08-26T06:32:23.458542Z"
    },
    "collapsed": true
   },
   "outputs": [],
   "source": [
    "##OUTPATH for figures\n",
    "OUTPATH='../../figures/'"
   ]
  },
  {
   "cell_type": "code",
   "execution_count": 11,
   "metadata": {
    "ExecuteTime": {
     "end_time": "2019-08-26T06:32:24.160596Z",
     "start_time": "2019-08-26T06:32:24.155751Z"
    },
    "collapsed": true
   },
   "outputs": [],
   "source": [
    "if not os.path.exists(out_dir):\n",
    "    os.mkdir(out_dir)"
   ]
  },
  {
   "cell_type": "code",
   "execution_count": 12,
   "metadata": {
    "ExecuteTime": {
     "end_time": "2019-08-27T01:29:46.676347Z",
     "start_time": "2019-08-27T01:29:46.661984Z"
    }
   },
   "outputs": [],
   "source": [
    "###here are some input files for the mapping rate coverage analysis using SRM\n",
    "genome_fh = os.path.join(source_dir, '%s.fa' %genome)\n",
    "genome_file_fh = os.path.join(source_dir, '%s.genome_file' %genome)\n",
    "TE_gff_fh = os.path.join(out_dir,'%s.%s.REPET.gff3' % (genome, Tenovodb))"
   ]
  },
  {
   "cell_type": "code",
   "execution_count": 13,
   "metadata": {
    "ExecuteTime": {
     "end_time": "2019-08-26T06:32:49.403727Z",
     "start_time": "2019-08-26T06:32:49.397411Z"
    },
    "code_folding": [],
    "collapsed": true
   },
   "outputs": [],
   "source": [
    "#now generate the genmoe files if not present yet\n",
    "if not os.path.exists(genome_file_fh):\n",
    "    !samtools faidx {genome_fh}\n",
    "    !cat {genome_fh}.fai | sort -k1,1n | cut -f 1,2 > {genome_file_fh}"
   ]
  },
  {
   "cell_type": "code",
   "execution_count": 14,
   "metadata": {
    "ExecuteTime": {
     "end_time": "2019-08-26T06:32:50.628607Z",
     "start_time": "2019-08-26T06:32:50.165161Z"
    },
    "collapsed": true
   },
   "outputs": [],
   "source": [
    "#remove all commenting lines from the initial repet file\n",
    "!grep -v \"^#\" {input_dir}/{genome}.{Tenovodb}.REPET.gff3 > {out_dir}/{genome}.{Tenovodb}.REPET.gff3"
   ]
  },
  {
   "cell_type": "code",
   "execution_count": 15,
   "metadata": {
    "ExecuteTime": {
     "end_time": "2019-08-26T06:33:18.919426Z",
     "start_time": "2019-08-26T06:33:18.909185Z"
    }
   },
   "outputs": [
    {
     "data": {
      "text/plain": [
       "'../../TE_analysis/APSI_primary_v1.MR_P2A_300Mb.REPET.gff3'"
      ]
     },
     "execution_count": 15,
     "metadata": {},
     "output_type": "execute_result"
    }
   ],
   "source": [
    "os.path.join(out_dir, '%s.%s.REPET.gff3'%(genome,Tenovodb))"
   ]
  },
  {
   "cell_type": "code",
   "execution_count": 16,
   "metadata": {
    "ExecuteTime": {
     "end_time": "2019-08-26T06:32:56.781839Z",
     "start_time": "2019-08-26T06:32:54.389071Z"
    },
    "collapsed": true
   },
   "outputs": [],
   "source": [
    "#read in repet_gff file\n",
    "repet_gff = pd.read_csv(os.path.join(out_dir, '%s.%s.REPET.gff3'%(genome,Tenovodb)), sep='\\t', header=None)"
   ]
  },
  {
   "cell_type": "code",
   "execution_count": 17,
   "metadata": {
    "ExecuteTime": {
     "end_time": "2019-08-26T06:32:57.517873Z",
     "start_time": "2019-08-26T06:32:57.512549Z"
    },
    "collapsed": true
   },
   "outputs": [],
   "source": [
    "TE_post_analysis_p_header = 'TE      length  covg    frags   fullLgthFrags   copies  fullLgthCopies  meanId  sdId    minId   q25Id   medId   q75Id   maxId   meanLgth        sdLgth  minLgth q25Lgth medLgth q75Lgth maxLgth meanLgthPerc    sdLgthPerc      minLgthPerc  q25LgthPerc     medLgthPerc     q75LgthPerc     maxLgthPerc'.split(' ')"
   ]
  },
  {
   "cell_type": "code",
   "execution_count": 18,
   "metadata": {
    "ExecuteTime": {
     "end_time": "2019-08-26T06:32:58.295690Z",
     "start_time": "2019-08-26T06:32:58.290782Z"
    },
    "collapsed": true
   },
   "outputs": [],
   "source": [
    "TE_post_analysis_p_header = [x for x in TE_post_analysis_p_header if x != '']"
   ]
  },
  {
   "cell_type": "code",
   "execution_count": 19,
   "metadata": {
    "ExecuteTime": {
     "end_time": "2019-08-26T06:33:44.422350Z",
     "start_time": "2019-08-26T06:33:44.280315Z"
    }
   },
   "outputs": [
    {
     "name": "stdout",
     "output_type": "stream",
     "text": [
      "blastclust.log\n",
      "error.log\n",
      "MR_P2_a0_chr_allTEs_nr_noSSR_join_path.annotStatsPerTE_FullLengthCopy.fa\n",
      "MR_P2_a0_chr_allTEs_nr_noSSR_join_path.annotStatsPerTE_FullLengthCopy.txt\n",
      "MR_P2_a0_chr_allTEs_nr_noSSR_join_path.annotStatsPerTE_FullLengthFrag.fa\n",
      "MR_P2_a0_chr_allTEs_nr_noSSR_join_path.annotStatsPerTE_FullLengthFrag.txt\n",
      "MR_P2_a0_chr_allTEs_nr_noSSR_join_path.annotStatsPerTE_OneCopyAndMore.fa\n",
      "MR_P2_a0_chr_allTEs_nr_noSSR_join_path.annotStatsPerTE_OneCopyAndMore.txt\n",
      "MR_P2_a0_chr_allTEs_nr_noSSR_join_path.annotStatsPerTE.tab\n",
      "MR_P2_a0_chr_allTEs_nr_noSSR_join_path.globalAnnotStatsPerTE.txt\n",
      "MR_P2_a0_chr_allTEs_path.annotStatsPerTE_FullLengthCopy.fa\n",
      "MR_P2_a0_chr_allTEs_path.annotStatsPerTE_FullLengthCopy.txt\n",
      "MR_P2_a0_chr_allTEs_path.annotStatsPerTE_FullLengthFrag.fa\n",
      "MR_P2_a0_chr_allTEs_path.annotStatsPerTE_FullLengthFrag.txt\n",
      "MR_P2_a0_chr_allTEs_path.annotStatsPerTE_OneCopyAndMore.fa\n",
      "MR_P2_a0_chr_allTEs_path.annotStatsPerTE_OneCopyAndMore.txt\n",
      "MR_P2_a0_chr_allTEs_path.annotStatsPerTE.tab\n",
      "MR_P2_a0_chr_allTEs_path.globalAnnotStatsPerTE.txt\n",
      "MR_P2_a0_chr_bankBLRtx_path.annotStatsPerTE_FullLengthCopy.fa\n",
      "MR_P2_a0_chr_bankBLRtx_path.annotStatsPerTE_FullLengthCopy.txt\n",
      "MR_P2_a0_chr_bankBLRtx_path.annotStatsPerTE_FullLengthFrag.fa\n",
      "MR_P2_a0_chr_bankBLRtx_path.annotStatsPerTE_FullLengthFrag.txt\n",
      "MR_P2_a0_chr_bankBLRtx_path.annotStatsPerTE_OneCopyAndMore.fa\n",
      "MR_P2_a0_chr_bankBLRtx_path.annotStatsPerTE_OneCopyAndMore.txt\n",
      "MR_P2_a0_chr_bankBLRtx_path.annotStatsPerTE.tab\n",
      "MR_P2_a0_chr_bankBLRtx_path.globalAnnotStatsPerTE.txt\n",
      "MR_P2_a0_chr_bankBLRx_path.annotStatsPerTE_FullLengthCopy.fa\n",
      "MR_P2_a0_chr_bankBLRx_path.annotStatsPerTE_FullLengthCopy.txt\n",
      "MR_P2_a0_chr_bankBLRx_path.annotStatsPerTE_FullLengthFrag.fa\n",
      "MR_P2_a0_chr_bankBLRx_path.annotStatsPerTE_FullLengthFrag.txt\n",
      "MR_P2_a0_chr_bankBLRx_path.annotStatsPerTE_OneCopyAndMore.fa\n",
      "MR_P2_a0_chr_bankBLRx_path.annotStatsPerTE_OneCopyAndMore.txt\n",
      "MR_P2_a0_chr_bankBLRx_path.annotStatsPerTE.tab\n",
      "MR_P2_a0_chr_bankBLRx_path.globalAnnotStatsPerTE.txt\n",
      "MR_P2_a0_db\n",
      "MR_P2_a0.fa\n",
      "MR_P2_a0.fa.NstretchStats.txt\n",
      "MR_P2_a0_GFF3chr\n",
      "MR_P2_a0_refTEs.fa\n",
      "MR_P2_a0_refTEs.fa_blastclust.classifStatsPerCluster.tab\n",
      "MR_P2_a0_refTEs.fa_blastclust.globalStatsPerCluster.txt\n",
      "MR_P2_a0_refTEs.fa_blastclust.statsPerCluster.tab\n",
      "MR_P2_a0_refTEs.fa_blastclust.tab\n",
      "MR_P2_a0_SSRdetect\n",
      "MR_P2_a0_TEdetect\n",
      "MR_P2_a0_TEdetect_rnd\n",
      "ProfilesBankForREPET_Pfam27.0_GypsyDB.hmm\n",
      "repbase20.05_aaSeq_cleaned_TE.fa\n",
      "repbase20.05_ntSeq_cleaned_TE.fa\n",
      "run_TEann01.sh\n",
      "SILVA_132_XSURef_tax_silva_trunc.fasta\n",
      "stderr.log\n",
      "stdout.log\n",
      "TEanno01.sh\n",
      "Teano0_MR_P2_a0.cfg\n"
     ]
    }
   ],
   "source": [
    "!ls {TE_postanalysis_dir}"
   ]
  },
  {
   "cell_type": "code",
   "execution_count": 20,
   "metadata": {
    "ExecuteTime": {
     "end_time": "2019-08-26T06:33:48.115278Z",
     "start_time": "2019-08-26T06:33:48.080294Z"
    },
    "code_folding": [],
    "collapsed": true
   },
   "outputs": [],
   "source": [
    "#this needs to be fixed up to pick the proper summary table\n",
    "#this reads in the REPET summary dataframe\n",
    "REPET_sdf = pd.read_csv(os.path.join(TE_postanalysis_dir,\\\n",
    "                    '%s_chr_allTEs_nr_noSSR_join_path.annotStatsPerTE.tab' % genome_repet),\\\n",
    "                        names = TE_post_analysis_p_header, header=None, sep='\\t', skiprows=1 )\n",
    "#this pulls out the TE classificaiton from the TE column\n",
    "REPET_sdf['Code'] = REPET_sdf['TE'].apply(lambda x: x.split('_')[0])\n",
    "code_keys = REPET_sdf['Code'].unique()\n",
    "code_keys.sort()\n"
   ]
  },
  {
   "cell_type": "code",
   "execution_count": 21,
   "metadata": {
    "ExecuteTime": {
     "end_time": "2019-08-26T06:33:48.828735Z",
     "start_time": "2019-08-26T06:33:48.822547Z"
    },
    "collapsed": true
   },
   "outputs": [],
   "source": [
    "#load the previous code_dict from file in the repet database folder\n",
    "with open(os.path.join(repet_db_dir, 'code_dict.dict'), 'r') as file:\n",
    "    code_dict = json.loads(file.read())"
   ]
  },
  {
   "cell_type": "code",
   "execution_count": 22,
   "metadata": {
    "ExecuteTime": {
     "end_time": "2019-08-26T06:33:50.930478Z",
     "start_time": "2019-08-26T06:33:50.919209Z"
    },
    "collapsed": true
   },
   "outputs": [],
   "source": [
    "#now check if all code keys to long classifications are already in the dict\n",
    "#if this isn't the case get the missing keys\n",
    "execute_cell = False\n",
    "if set(code_keys).issubset(set(code_dict.keys()))  == False:\n",
    "    execute_cell = True\n",
    "    missing_keys = []\n",
    "    for x in code_keys:\n",
    "        if x not in code_dict.keys():\n",
    "            missing_keys.append(x)\n",
    "            print('Please add the following key value pair to the dictionary and save it out: %s'%x)  "
   ]
  },
  {
   "cell_type": "code",
   "execution_count": 23,
   "metadata": {
    "ExecuteTime": {
     "end_time": "2019-08-26T06:33:52.053973Z",
     "start_time": "2019-08-26T06:33:52.038368Z"
    }
   },
   "outputs": [
    {
     "name": "stdout",
     "output_type": "stream",
     "text": [
      "Nothing new\n"
     ]
    }
   ],
   "source": [
    "#now get some user input for the missing code: long namenclature pairing via a widget\n",
    "dict_parings = 'Nothing new'\n",
    "if execute_cell == True:\n",
    "    dict_parings = widgets.Text()\n",
    "    print('These are the new required additions to the dictionary\\n\\n')\n",
    "    print(missing_keys)\n",
    "    print('Please enter as key:value, key:value') #define how the widget should be filled\n",
    "    ##TO DO, write a test for this being entered correctly###\n",
    "    print('\\n\\n')\n",
    "    print(code_dict)\n",
    "else:\n",
    "    print(dict_parings)"
   ]
  },
  {
   "cell_type": "code",
   "execution_count": 24,
   "metadata": {},
   "outputs": [],
   "source": [
    "#dict_parings = {'DMX-incomp-chim' : 'DNA_transposon Maverick', 'RIX-comp-chim': 'Retrotransposon LINE'}"
   ]
  },
  {
   "cell_type": "code",
   "execution_count": 25,
   "metadata": {
    "ExecuteTime": {
     "end_time": "2019-08-26T06:33:53.607875Z",
     "start_time": "2019-08-26T06:33:53.588519Z"
    },
    "collapsed": true
   },
   "outputs": [],
   "source": [
    "#now add the new key: value pair to the dictionary\n",
    "if dict_parings != 'Nothing new':\n",
    "    code_dict.update(dict_parings)\n",
    "    print(\"Updating the code_dict\")\n",
    "    with open(os.path.join(repet_db_dir, 'code_dict.dict'), 'w') as file:\n",
    "        file.write(json.dumps(code_dict))"
   ]
  },
  {
   "cell_type": "code",
   "execution_count": 26,
   "metadata": {
    "ExecuteTime": {
     "end_time": "2019-08-26T06:33:54.479185Z",
     "start_time": "2019-08-26T06:33:54.415664Z"
    }
   },
   "outputs": [
    {
     "name": "stdout",
     "output_type": "stream",
     "text": [
      "quick summary for each category based on the REPET summary dataframe\n"
     ]
    },
    {
     "data": {
      "text/html": [
       "<div>\n",
       "<style scoped>\n",
       "    .dataframe tbody tr th:only-of-type {\n",
       "        vertical-align: middle;\n",
       "    }\n",
       "\n",
       "    .dataframe tbody tr th {\n",
       "        vertical-align: top;\n",
       "    }\n",
       "\n",
       "    .dataframe thead th {\n",
       "        text-align: right;\n",
       "    }\n",
       "</style>\n",
       "<table border=\"1\" class=\"dataframe\">\n",
       "  <thead>\n",
       "    <tr style=\"text-align: right;\">\n",
       "      <th></th>\n",
       "      <th>copies</th>\n",
       "      <th>covg</th>\n",
       "      <th>length</th>\n",
       "    </tr>\n",
       "    <tr>\n",
       "      <th>Code long</th>\n",
       "      <th></th>\n",
       "      <th></th>\n",
       "      <th></th>\n",
       "    </tr>\n",
       "  </thead>\n",
       "  <tbody>\n",
       "    <tr>\n",
       "      <th>DNA_transposon Helitron</th>\n",
       "      <td>1052</td>\n",
       "      <td>1130454</td>\n",
       "      <td>13225.500000</td>\n",
       "    </tr>\n",
       "    <tr>\n",
       "      <th>DNA_transposon MITE</th>\n",
       "      <td>452</td>\n",
       "      <td>146177</td>\n",
       "      <td>606.900000</td>\n",
       "    </tr>\n",
       "    <tr>\n",
       "      <th>DNA_transposon Maverick</th>\n",
       "      <td>11</td>\n",
       "      <td>459</td>\n",
       "      <td>12548.000000</td>\n",
       "    </tr>\n",
       "    <tr>\n",
       "      <th>DNA_transposon TIR</th>\n",
       "      <td>94989</td>\n",
       "      <td>140876202</td>\n",
       "      <td>9335.903226</td>\n",
       "    </tr>\n",
       "    <tr>\n",
       "      <th>DNA_transposon noCat</th>\n",
       "      <td>1018</td>\n",
       "      <td>1003818</td>\n",
       "      <td>8431.000000</td>\n",
       "    </tr>\n",
       "    <tr>\n",
       "      <th>Potential Host Gene</th>\n",
       "      <td>797</td>\n",
       "      <td>392965</td>\n",
       "      <td>4796.500000</td>\n",
       "    </tr>\n",
       "    <tr>\n",
       "      <th>Retrotransposon DIRS</th>\n",
       "      <td>17159</td>\n",
       "      <td>30208064</td>\n",
       "      <td>10018.401099</td>\n",
       "    </tr>\n",
       "    <tr>\n",
       "      <th>Retrotransposon LARD</th>\n",
       "      <td>29257</td>\n",
       "      <td>19080893</td>\n",
       "      <td>5835.588571</td>\n",
       "    </tr>\n",
       "    <tr>\n",
       "      <th>Retrotransposon LINE</th>\n",
       "      <td>2085</td>\n",
       "      <td>1933968</td>\n",
       "      <td>3673.809524</td>\n",
       "    </tr>\n",
       "    <tr>\n",
       "      <th>Retrotransposon LTR</th>\n",
       "      <td>446138</td>\n",
       "      <td>717320292</td>\n",
       "      <td>10133.750767</td>\n",
       "    </tr>\n",
       "    <tr>\n",
       "      <th>Retrotransposon SINE</th>\n",
       "      <td>250</td>\n",
       "      <td>86468</td>\n",
       "      <td>298.083333</td>\n",
       "    </tr>\n",
       "    <tr>\n",
       "      <th>Retrotransposon TRIM</th>\n",
       "      <td>14939</td>\n",
       "      <td>11510107</td>\n",
       "      <td>2359.628866</td>\n",
       "    </tr>\n",
       "    <tr>\n",
       "      <th>Retrotransposon noCat</th>\n",
       "      <td>3560</td>\n",
       "      <td>9483226</td>\n",
       "      <td>11128.153846</td>\n",
       "    </tr>\n",
       "    <tr>\n",
       "      <th>noCat</th>\n",
       "      <td>4229</td>\n",
       "      <td>3603721</td>\n",
       "      <td>5611.410256</td>\n",
       "    </tr>\n",
       "  </tbody>\n",
       "</table>\n",
       "</div>"
      ],
      "text/plain": [
       "                         copies       covg        length\n",
       "Code long                                               \n",
       "DNA_transposon Helitron    1052    1130454  13225.500000\n",
       "DNA_transposon MITE         452     146177    606.900000\n",
       "DNA_transposon Maverick      11        459  12548.000000\n",
       "DNA_transposon TIR        94989  140876202   9335.903226\n",
       "DNA_transposon noCat       1018    1003818   8431.000000\n",
       "Potential Host Gene         797     392965   4796.500000\n",
       "Retrotransposon DIRS      17159   30208064  10018.401099\n",
       "Retrotransposon LARD      29257   19080893   5835.588571\n",
       "Retrotransposon LINE       2085    1933968   3673.809524\n",
       "Retrotransposon LTR      446138  717320292  10133.750767\n",
       "Retrotransposon SINE        250      86468    298.083333\n",
       "Retrotransposon TRIM      14939   11510107   2359.628866\n",
       "Retrotransposon noCat      3560    9483226  11128.153846\n",
       "noCat                      4229    3603721   5611.410256"
      ]
     },
     "execution_count": 26,
     "metadata": {},
     "output_type": "execute_result"
    }
   ],
   "source": [
    "#quick summary for each category based on the REPET summary dataframe\n",
    "REPET_sdf['Code long'] = REPET_sdf['Code'].apply(lambda x: code_dict[x])\n",
    "REPET_sdf_sum_df = pd.pivot_table(REPET_sdf, values=['covg', 'copies'], index='Code long', aggfunc=np.sum)\n",
    "REPET_sdf_mean_df = pd.pivot_table(REPET_sdf, values='length', index='Code long', aggfunc=np.mean)\n",
    "print('quick summary for each category based on the REPET summary dataframe')\n",
    "pd.concat([REPET_sdf_sum_df,REPET_sdf_mean_df], axis=1 )"
   ]
  },
  {
   "cell_type": "code",
   "execution_count": 27,
   "metadata": {
    "ExecuteTime": {
     "end_time": "2019-08-26T06:34:32.764177Z",
     "start_time": "2019-08-26T06:34:29.864432Z"
    },
    "collapsed": true
   },
   "outputs": [],
   "source": [
    "#now read in all actuall REPET GFF file\n",
    "REPET_gff_df = pd.read_csv(os.path.join(out_dir,'%s.%s.REPET.gff3' % (genome, Tenovodb))\\\n",
    "                           , sep='\\t', header = None)\n",
    "#filter out host genes\n",
    "REPET_gff_df = REPET_gff_df[~REPET_gff_df[8].str.contains(\"Potential\")]"
   ]
  },
  {
   "cell_type": "code",
   "execution_count": null,
   "metadata": {},
   "outputs": [
    {
     "data": {
      "text/html": [
       "<div>\n",
       "<style scoped>\n",
       "    .dataframe tbody tr th:only-of-type {\n",
       "        vertical-align: middle;\n",
       "    }\n",
       "\n",
       "    .dataframe tbody tr th {\n",
       "        vertical-align: top;\n",
       "    }\n",
       "\n",
       "    .dataframe thead th {\n",
       "        text-align: right;\n",
       "    }\n",
       "</style>\n",
       "<table border=\"1\" class=\"dataframe\">\n",
       "  <thead>\n",
       "    <tr style=\"text-align: right;\">\n",
       "      <th></th>\n",
       "      <th>0</th>\n",
       "      <th>1</th>\n",
       "      <th>2</th>\n",
       "      <th>3</th>\n",
       "      <th>4</th>\n",
       "      <th>5</th>\n",
       "      <th>6</th>\n",
       "      <th>7</th>\n",
       "      <th>8</th>\n",
       "    </tr>\n",
       "  </thead>\n",
       "  <tbody>\n",
       "    <tr>\n",
       "      <th>0</th>\n",
       "      <td>ApsiP_S0001</td>\n",
       "      <td>MR_P2_a0_REPET_TEs</td>\n",
       "      <td>match</td>\n",
       "      <td>97828741</td>\n",
       "      <td>97830112</td>\n",
       "      <td>0.0</td>\n",
       "      <td>-</td>\n",
       "      <td>.</td>\n",
       "      <td>ID=ms524288_ApsiP_S0001_RLX-incomp-chim_Blc450...</td>\n",
       "    </tr>\n",
       "    <tr>\n",
       "      <th>1</th>\n",
       "      <td>ApsiP_S0001</td>\n",
       "      <td>MR_P2_a0_REPET_TEs</td>\n",
       "      <td>match_part</td>\n",
       "      <td>97828741</td>\n",
       "      <td>97830112</td>\n",
       "      <td>0.0</td>\n",
       "      <td>-</td>\n",
       "      <td>.</td>\n",
       "      <td>ID=mp524288-1_ApsiP_S0001_RLX-incomp-chim_Blc4...</td>\n",
       "    </tr>\n",
       "    <tr>\n",
       "      <th>2</th>\n",
       "      <td>ApsiP_S0001</td>\n",
       "      <td>MR_P2_a0_REPET_TEs</td>\n",
       "      <td>match</td>\n",
       "      <td>97895266</td>\n",
       "      <td>97896251</td>\n",
       "      <td>0.0</td>\n",
       "      <td>+</td>\n",
       "      <td>.</td>\n",
       "      <td>ID=ms524289_ApsiP_S0001_RLX-comp-chim_Blc462_M...</td>\n",
       "    </tr>\n",
       "    <tr>\n",
       "      <th>3</th>\n",
       "      <td>ApsiP_S0001</td>\n",
       "      <td>MR_P2_a0_REPET_TEs</td>\n",
       "      <td>match_part</td>\n",
       "      <td>97895266</td>\n",
       "      <td>97896251</td>\n",
       "      <td>0.0</td>\n",
       "      <td>+</td>\n",
       "      <td>.</td>\n",
       "      <td>ID=mp524289-1_ApsiP_S0001_RLX-comp-chim_Blc462...</td>\n",
       "    </tr>\n",
       "    <tr>\n",
       "      <th>4</th>\n",
       "      <td>ApsiP_S0001</td>\n",
       "      <td>MR_P2_a0_REPET_TEs</td>\n",
       "      <td>match</td>\n",
       "      <td>97910753</td>\n",
       "      <td>97910863</td>\n",
       "      <td>0.0</td>\n",
       "      <td>-</td>\n",
       "      <td>.</td>\n",
       "      <td>ID=ms524290_ApsiP_S0001_RLX-comp-chim_Blc479_M...</td>\n",
       "    </tr>\n",
       "  </tbody>\n",
       "</table>\n",
       "</div>"
      ],
      "text/plain": [
       "             0                   1           2         3         4    5  6  7  \\\n",
       "0  ApsiP_S0001  MR_P2_a0_REPET_TEs       match  97828741  97830112  0.0  -  .   \n",
       "1  ApsiP_S0001  MR_P2_a0_REPET_TEs  match_part  97828741  97830112  0.0  -  .   \n",
       "2  ApsiP_S0001  MR_P2_a0_REPET_TEs       match  97895266  97896251  0.0  +  .   \n",
       "3  ApsiP_S0001  MR_P2_a0_REPET_TEs  match_part  97895266  97896251  0.0  +  .   \n",
       "4  ApsiP_S0001  MR_P2_a0_REPET_TEs       match  97910753  97910863  0.0  -  .   \n",
       "\n",
       "                                                   8  \n",
       "0  ID=ms524288_ApsiP_S0001_RLX-incomp-chim_Blc450...  \n",
       "1  ID=mp524288-1_ApsiP_S0001_RLX-incomp-chim_Blc4...  \n",
       "2  ID=ms524289_ApsiP_S0001_RLX-comp-chim_Blc462_M...  \n",
       "3  ID=mp524289-1_ApsiP_S0001_RLX-comp-chim_Blc462...  \n",
       "4  ID=ms524290_ApsiP_S0001_RLX-comp-chim_Blc479_M...  "
      ]
     },
     "execution_count": 28,
     "metadata": {},
     "output_type": "execute_result"
    }
   ],
   "source": [
    "REPET_gff_df.head()"
   ]
  },
  {
   "cell_type": "code",
   "execution_count": null,
   "metadata": {
    "ExecuteTime": {
     "end_time": "2019-08-26T06:34:52.758461Z",
     "start_time": "2019-08-26T06:34:36.239301Z"
    },
    "collapsed": true
   },
   "outputs": [],
   "source": [
    "REPET_gff_df['ID'] = REPET_gff_df.apply(lambda row: ID_filter_gff(row[1], row[8]), axis=1)"
   ]
  },
  {
   "cell_type": "code",
   "execution_count": null,
   "metadata": {
    "ExecuteTime": {
     "end_time": "2019-08-26T06:34:56.538264Z",
     "start_time": "2019-08-26T06:34:55.891266Z"
    }
   },
   "outputs": [],
   "source": [
    "code_keys_gff = REPET_gff_df[REPET_gff_df[1].str.contains('REPET_TE')]['ID'].unique()\n",
    "code_keys_gff = list({x.split('_')[0] for x in code_keys_gff})\n",
    "three_letter_code = list({x for x in code_keys_gff})\n",
    "three_letter_code.sort()\n",
    "three_letter_values = []\n",
    "for x in three_letter_code:\n",
    "    if 'MITE' in x:\n",
    "        _value = \"ClassII:MITE:?\"\n",
    "        three_letter_values.append(_value)\n",
    "        continue\n",
    "    if 'LARD' in x:\n",
    "        _value = 'ClassI:LARD:?'\n",
    "        three_letter_values.append(_value)\n",
    "        continue\n",
    "    if 'TRIM' in x:\n",
    "        _value = 'ClassI:TRIM:?'\n",
    "        three_letter_values.append(_value)\n",
    "        continue\n",
    "    _value =''\n",
    "    if x[0] == 'D':\n",
    "        _value = _value + 'ClassII:'\n",
    "    if x[0] == 'R':\n",
    "        _value = _value + 'ClassI:'\n",
    "    if x[0] != 'D' and x[0] != 'R':\n",
    "        _value = 'noCat'\n",
    "        three_letter_values.append(_value)\n",
    "        continue\n",
    "    if x[1] == 'T':\n",
    "        _value = _value + 'TIR:?'\n",
    "    if x[1] == 'H':\n",
    "        _value = _value + 'Helitron:?'\n",
    "    if x[1] == 'M':\n",
    "        _value = _value + 'Maverick:?'\n",
    "    if x[0:2] == 'DY':\n",
    "        _value = _value + ':Crypton:?'\n",
    "    if x[1] == 'X':\n",
    "        _value = _value + '?:?'\n",
    "    if x[1] == 'I':\n",
    "        _value = _value + 'LINE:?'\n",
    "    if x[1] == 'L':\n",
    "        _value = _value + 'LTR:?'\n",
    "    if x[1] == 'P':\n",
    "        _value = _value + 'Penelope:?'\n",
    "    if x[1] == 'S':\n",
    "        _value = _value + 'SINE:?'\n",
    "    if x[0:2] == 'RY':\n",
    "        _value = _value + 'DIRS:?'    \n",
    "    three_letter_values.append(_value)\n",
    "\n",
    "if len(three_letter_code) == len(three_letter_values):\n",
    "    print(\"Aas\")\n",
    "    three_letter_dict = dict(zip(three_letter_code, three_letter_values))"
   ]
  },
  {
   "cell_type": "code",
   "execution_count": null,
   "metadata": {
    "ExecuteTime": {
     "end_time": "2019-08-26T06:34:57.502788Z",
     "start_time": "2019-08-26T06:34:57.496178Z"
    }
   },
   "outputs": [],
   "source": [
    "#this three letter dict is required for the blast_hit_gff function to work and needs to be generated\n",
    "three_letter_dict"
   ]
  },
  {
   "cell_type": "code",
   "execution_count": null,
   "metadata": {
    "ExecuteTime": {
     "end_time": "2019-08-26T06:35:21.521790Z",
     "start_time": "2019-08-26T06:35:03.131889Z"
    },
    "collapsed": true
   },
   "outputs": [],
   "source": [
    "REPET_gff_df['Class:Order:Superfamily'] = REPET_gff_df.apply(lambda row: blast_hit_gff(row[1], row[8], row['ID']), axis=1)"
   ]
  },
  {
   "cell_type": "code",
   "execution_count": null,
   "metadata": {
    "ExecuteTime": {
     "end_time": "2019-08-26T06:35:38.678685Z",
     "start_time": "2019-08-26T06:35:37.346956Z"
    }
   },
   "outputs": [],
   "source": [
    "#generate a dict that can be used to rename the Class:Order:Superfamily column \n",
    "#considering that partial matches ([2] == match_part) might contain different\n",
    "#IDs even though they are the same TE only partial.\n",
    "_tmp_subset = REPET_gff_df[~REPET_gff_df[1].str.contains('SSR')].loc[:, 'ID':].sort_values(by=['ID','Class:Order:Superfamily'])\\\n",
    ".drop_duplicates(subset='ID', keep ='last')\n",
    "\n",
    "TE_COS_dict = dict(zip(_tmp_subset.loc[:, 'ID'], _tmp_subset.loc[:, 'Class:Order:Superfamily' ]))\n",
    "\n",
    "_tmp_subset = REPET_gff_df[REPET_gff_df[1].str.contains('SSR')].loc[:, 'ID':].sort_values(by=['ID','Class:Order:Superfamily'])\\\n",
    ".drop_duplicates(subset='ID', keep ='last')\n",
    "\n",
    "_tmp_dict = dict(zip(_tmp_subset.loc[:, 'ID'], _tmp_subset.loc[:, 'Class:Order:Superfamily' ]))\n",
    "\n",
    "TE_COS_dict.update(_tmp_dict)\n",
    "#remove all backslashes from the values as this will conflict with the output later on\n",
    "for x in TE_COS_dict.keys():\n",
    "    if '/' in TE_COS_dict[x]:\n",
    "        value = TE_COS_dict[x]\n",
    "        print(value)\n",
    "        TE_COS_dict[x] = value.replace('/','_')\n",
    "        print(TE_COS_dict[x])"
   ]
  },
  {
   "cell_type": "code",
   "execution_count": null,
   "metadata": {
    "ExecuteTime": {
     "end_time": "2019-08-26T06:35:43.312191Z",
     "start_time": "2019-08-26T06:35:38.680679Z"
    },
    "collapsed": true
   },
   "outputs": [],
   "source": [
    "REPET_gff_df.to_csv(os.path.join(out_dir,'%s.%s.REPET.long.df' % (genome, Tenovodb)),\n",
    "                    sep='\\t', header = None, index=None )"
   ]
  },
  {
   "cell_type": "code",
   "execution_count": null,
   "metadata": {
    "ExecuteTime": {
     "end_time": "2019-08-26T06:35:43.525616Z",
     "start_time": "2019-08-26T06:35:43.314893Z"
    },
    "collapsed": true
   },
   "outputs": [],
   "source": [
    "REPET_gff_df['Class:Order:Superfamily'] = REPET_gff_df['ID'].apply(lambda x: TE_COS_dict[x])"
   ]
  },
  {
   "cell_type": "code",
   "execution_count": null,
   "metadata": {
    "ExecuteTime": {
     "end_time": "2019-08-26T06:35:43.567490Z",
     "start_time": "2019-08-26T06:35:43.527663Z"
    }
   },
   "outputs": [],
   "source": [
    "print('These are the unique Class:Order:Superfamily classifiers of this dataframe:')\n",
    "print(REPET_gff_df['Class:Order:Superfamily'].unique())"
   ]
  },
  {
   "cell_type": "code",
   "execution_count": null,
   "metadata": {
    "ExecuteTime": {
     "end_time": "2019-08-26T06:36:00.483071Z",
     "start_time": "2019-08-26T06:35:44.917709Z"
    },
    "collapsed": true
   },
   "outputs": [],
   "source": [
    "#have a rough summary of the coverage not considering overlaps.\n",
    "REPET_gff_df.drop_duplicates(subset=[3,4,'ID'], inplace =True) \n",
    "#this drops all duplicates in the df that completey overlap and have the same ID. Avoid double counting.\n",
    "REPET_gff_df['Length'] = REPET_gff_df[4] - REPET_gff_df[3]\n",
    "REPET_gff_df['Class'] = REPET_gff_df.apply(lambda row: TE_classification_filter(row['Class:Order:Superfamily'], 0), axis=1)\n",
    "REPET_gff_df['Order'] = REPET_gff_df.apply(lambda row: TE_classification_filter(row['Class:Order:Superfamily'], 1), axis=1)\n",
    "REPET_gff_df['Superfamily'] = REPET_gff_df.apply(lambda row: TE_classification_filter(row['Class:Order:Superfamily'], 2), axis=1)\n",
    "REPET_gff_df_COS = REPET_gff_df.groupby(by=['Class','Order','Superfamily'])['Length'].sum()\n",
    "REPET_gff_df_S = REPET_gff_df.groupby(by=['Class:Order:Superfamily'])['Length'].sum()"
   ]
  },
  {
   "cell_type": "code",
   "execution_count": null,
   "metadata": {
    "ExecuteTime": {
     "end_time": "2019-08-26T06:36:04.293456Z",
     "start_time": "2019-08-26T06:36:04.283239Z"
    }
   },
   "outputs": [],
   "source": [
    "print(\"This is the summary of overlapping coverage according to Class, Order, Superfamily\")\n",
    "print(REPET_gff_df_COS)"
   ]
  },
  {
   "cell_type": "code",
   "execution_count": null,
   "metadata": {
    "ExecuteTime": {
     "end_time": "2019-08-26T06:36:27.160647Z",
     "start_time": "2019-08-26T06:36:27.067261Z"
    }
   },
   "outputs": [],
   "source": [
    "print(\"This is the summary of unqiue TE insertions for each Class, Order, Superfamily\")\n",
    "print(REPET_gff_df.groupby(by=['Class','Order','Superfamily'])['Length'].count())"
   ]
  },
  {
   "cell_type": "code",
   "execution_count": null,
   "metadata": {
    "ExecuteTime": {
     "end_time": "2019-08-26T06:36:29.475932Z",
     "start_time": "2019-08-26T06:36:29.468350Z"
    }
   },
   "outputs": [],
   "source": [
    "print(\"This is the summary of overlapping coverage according to Superfamily\")\n",
    "print(REPET_gff_df_S)"
   ]
  },
  {
   "cell_type": "code",
   "execution_count": null,
   "metadata": {
    "ExecuteTime": {
     "end_time": "2019-08-26T06:36:30.866717Z",
     "start_time": "2019-08-26T06:36:30.323680Z"
    }
   },
   "outputs": [],
   "source": [
    "num_unique_TEs = len(REPET_gff_df[~REPET_gff_df[1].str.contains('SSR')]['ID'].unique())\n",
    "num_unique_TE_super = len(REPET_gff_df[~REPET_gff_df[1].str.contains('SSR')]['Class:Order:Superfamily'].unique())\n",
    "\n",
    "print('This is the number of unique TEs: %i\\nThis is the number of unique TE superfamilies: %i' % (num_unique_TEs, num_unique_TE_super))"
   ]
  },
  {
   "cell_type": "code",
   "execution_count": null,
   "metadata": {
    "ExecuteTime": {
     "end_time": "2019-08-26T06:36:38.483680Z",
     "start_time": "2019-08-26T06:36:38.444799Z"
    }
   },
   "outputs": [],
   "source": [
    "print('This is the count of unique TEs in each category')\n",
    "print(REPET_gff_df.groupby(by=['Class:Order:Superfamily'])['Length'].count())"
   ]
  },
  {
   "cell_type": "code",
   "execution_count": null,
   "metadata": {
    "ExecuteTime": {
     "end_time": "2019-08-26T06:36:43.501971Z",
     "start_time": "2019-08-26T06:36:43.213243Z"
    }
   },
   "outputs": [],
   "source": [
    "REPET_gff_wo_SSRs_df = REPET_gff_df[~REPET_gff_df[1].str.contains('SSR')]\n",
    "print('This is the relative number of identified element in each category')\n",
    "REPET_gff_wo_SSRs_df.groupby(by=['Class:Order:Superfamily'])['Length'].count()/REPET_gff_wo_SSRs_df.groupby(by=['Class:Order:Superfamily'])['Length'].count().sum()*100"
   ]
  },
  {
   "cell_type": "code",
   "execution_count": null,
   "metadata": {
    "ExecuteTime": {
     "end_time": "2019-08-26T06:37:06.462352Z",
     "start_time": "2019-08-26T06:37:03.263560Z"
    },
    "collapsed": true
   },
   "outputs": [],
   "source": [
    "REPET_gff_df.to_csv(os.path.join(out_dir,'%s.%s.REPET.long_v2.df' % (genome, Tenovodb)),\\\n",
    "                    sep='\\t', header = None, index=None)"
   ]
  },
  {
   "cell_type": "code",
   "execution_count": null,
   "metadata": {
    "ExecuteTime": {
     "end_time": "2019-08-26T06:37:23.518314Z",
     "start_time": "2019-08-26T06:37:22.195143Z"
    },
    "collapsed": true
   },
   "outputs": [],
   "source": [
    "#make new gff files where the ID column is the superfamily level\n",
    "REPET_gff_superfamily = REPET_gff_df.iloc[:,:]\n",
    "REPET_gff_superfamily[8] = REPET_gff_df['Class:Order:Superfamily']\n",
    "REPET_gff_superfamily.iloc[:,0:9].to_csv(\\\n",
    "    os.path.join(out_dir,'%s.%s.REPET.superfamily.gff' % (genome, Tenovodb)),\\\n",
    "                                         sep='\\t', header = None, index=None,columns=None)"
   ]
  },
  {
   "cell_type": "code",
   "execution_count": null,
   "metadata": {
    "ExecuteTime": {
     "end_time": "2019-08-26T06:37:25.990300Z",
     "start_time": "2019-08-26T06:37:24.529205Z"
    },
    "collapsed": true
   },
   "outputs": [],
   "source": [
    "#make new gff file where the ID column is the TE level\n",
    "REPET_gff_TE = REPET_gff_df.iloc[:,:]\n",
    "REPET_gff_TE[8] = REPET_gff_TE['ID']\n",
    "REPET_gff_TE.iloc[:,0:9].to_csv(\\\n",
    "    os.path.join(out_dir,'%s.%s.REPET.TE.gff' % (genome, Tenovodb)),\\\n",
    "    sep='\\t', header = None, index=None,columns=None)"
   ]
  },
  {
   "cell_type": "code",
   "execution_count": null,
   "metadata": {
    "ExecuteTime": {
     "end_time": "2019-08-26T06:37:37.629745Z",
     "start_time": "2019-08-26T06:37:37.615529Z"
    },
    "collapsed": true
   },
   "outputs": [],
   "source": [
    "#generate the directory structure to safe specific coverage files\n",
    "TE_types = ['Retrotransposon', 'DNA_transposon', 'noCat', 'SSR']\n",
    "TE_path = [os.path.join(out_dir, x) for x in TE_types]\n",
    "TE_path_dict = dict(zip(TE_types, TE_path))\n",
    "for TE_type in TE_types:\n",
    "    new_path = os.path.join(out_dir, TE_type)\n",
    "    if not os.path.exists(new_path):\n",
    "        os.mkdir(new_path)"
   ]
  },
  {
   "cell_type": "code",
   "execution_count": null,
   "metadata": {
    "ExecuteTime": {
     "end_time": "2019-08-26T06:37:40.679193Z",
     "start_time": "2019-08-26T06:37:40.673438Z"
    },
    "collapsed": true
   },
   "outputs": [],
   "source": [
    "REPET_sf_gff_fh = os.path.join(out_dir,'%s.%s.REPET.superfamily.gff' % (genome, Tenovodb))\n",
    "REPET_TE_gff_fh = os.path.join(out_dir,'%s.%s.REPET.TE.gff' % (genome, Tenovodb))"
   ]
  },
  {
   "cell_type": "code",
   "execution_count": null,
   "metadata": {
    "ExecuteTime": {
     "end_time": "2019-08-26T06:37:52.658548Z",
     "start_time": "2019-08-26T06:37:52.640413Z"
    },
    "collapsed": true
   },
   "outputs": [],
   "source": [
    "#define some prefixes used to aggregate coverages\n",
    "#and the genome file for bedtools\n",
    "repet_prefix_TE = '%s.%s.REPET.TE' % (genome, Tenovodb)\n",
    "repet_prefix_S =  '%s.%s.REPET.superfamily' % (genome, Tenovodb)\n",
    "genome_file_fh = os.path.join(source_dir, '%s.genome_file' % genome)\n",
    "genome_df = pd.read_csv(genome_file_fh, sep='\\t', header=None,names=['contig', 'length'])\n",
    "genome_size = genome_df['length'].sum()"
   ]
  },
  {
   "cell_type": "code",
   "execution_count": 62,
   "metadata": {
    "ExecuteTime": {
     "end_time": "2019-08-26T06:38:00.184395Z",
     "start_time": "2019-08-26T06:38:00.177984Z"
    }
   },
   "outputs": [
    {
     "data": {
      "text/plain": [
       "1018398822"
      ]
     },
     "execution_count": 62,
     "metadata": {},
     "output_type": "execute_result"
    }
   ],
   "source": [
    "genome_size"
   ]
  },
  {
   "cell_type": "code",
   "execution_count": null,
   "metadata": {
    "ExecuteTime": {
     "end_time": "2019-08-26T06:38:36.459457Z",
     "start_time": "2019-08-26T06:38:27.441864Z"
    },
    "collapsed": true
   },
   "outputs": [],
   "source": [
    "#generate the bedobjects\n",
    "RE_TE_gff = pybedtools.BedTool(REPET_TE_gff_fh)\n",
    "g_TE = RE_TE_gff.remove_invalid().saveas(REPET_TE_gff_fh.replace('gff', 'bedobject'))\n",
    "#use the blast filtered dataframe as well\n",
    "RE_S_gff = pybedtools.BedTool(REPET_sf_gff_fh)\n",
    "g_S = RE_S_gff.remove_invalid().saveas(REPET_sf_gff_fh.replace('gff', 'bedobject'))"
   ]
  },
  {
   "cell_type": "code",
   "execution_count": null,
   "metadata": {},
   "outputs": [],
   "source": [
    "genome_file_fh.replace('.genome_file', '.REPET.genome_file')"
   ]
  },
  {
   "cell_type": "code",
   "execution_count": null,
   "metadata": {},
   "outputs": [],
   "source": [
    "genome_file_REPET_fh = genome_file_fh.replace('.genome_file', '.REPET.genome_file')"
   ]
  },
  {
   "cell_type": "code",
   "execution_count": null,
   "metadata": {},
   "outputs": [],
   "source": [
    "with open(genome_file_fh) as infile:\n",
    "    with open(genome_file_REPET_fh, 'w') as outfile:\n",
    "        for line in infile:\n",
    "            line =line.rstrip()\n",
    "            line = line.replace('APSI_P0', 'ApsiP_S00')\n",
    "            print(line, file=outfile)"
   ]
  },
  {
   "cell_type": "code",
   "execution_count": null,
   "metadata": {
    "ExecuteTime": {
     "end_time": "2019-08-26T06:39:46.853206Z",
     "start_time": "2019-08-26T06:38:39.984915Z"
    }
   },
   "outputs": [],
   "source": [
    "#use simple loop to loop over the bedcov genome coverage per classification. Keep track if everything is already done.\n",
    "jobs = []\n",
    "superfamily_bed_fh = REPET_sf_gff_fh.replace('gff', 'bedobject')\n",
    "superfamilies = REPET_gff_df['Class:Order:Superfamily'].unique()\n",
    "Parallel(n_jobs=threads)(delayed(subset_id)(ID, superfamily_bed_fh, repet_prefix_S, genome_file_REPET_fh)\\\n",
    "                      for ID in superfamilies)"
   ]
  },
  {
   "cell_type": "code",
   "execution_count": null,
   "metadata": {},
   "outputs": [],
   "source": [
    "class_gff_files = []\n",
    "for path in TE_path:\n",
    "    gff_files = [os.path.join(path, x) for x in os.listdir(path) if x.endswith('.gff') and x.startswith(genome)]\n",
    "    for file in gff_files:\n",
    "        class_gff_files.append(file)"
   ]
  },
  {
   "cell_type": "code",
   "execution_count": 63,
   "metadata": {},
   "outputs": [
    {
     "data": {
      "text/plain": [
       "array(['ClassI:LTR:?', 'ClassI:LTR:Gypsy', 'ClassI:LARD:?',\n",
       "       'ClassII:TIR:?', 'ClassII:TIR:MuDR', 'ClassI:TRIM:?',\n",
       "       'ClassI:LTR:Copia', 'ClassII:TIR:PIF-Harbinger',\n",
       "       'ClassII:TIR:CACTA', 'noCat', 'ClassII:?:?', 'ClassII:TIR:hAT',\n",
       "       'ClassII:TIR:Tc1-Mariner', 'ClassII:Helitron:?', 'ClassII:MITE:?',\n",
       "       'ClassI:LINE:I', 'ClassI:LINE:?', 'ClassI:SINE:?', 'ClassI:DIRS:?',\n",
       "       'ClassI:?:?', 'ClassII:?:Ginger2_TDD', 'ClassII:Maverick:?', 'SSR',\n",
       "       'ClassI:LTR:ERV', 'ClassI:DIRS:DIRS', 'ClassII:?:Ginger1',\n",
       "       'ClassII:Helitron:Helitron', 'ClassI:LTR:Retrovirus',\n",
       "       'ClassI:LINE:Jockey', 'ClassII:TIR:P', 'ClassI:LINE:RTE',\n",
       "       'ClassI:LTR:Bel-Pao', 'ClassII:?:Novosib', 'ClassI:LINE:R2',\n",
       "       'ClassII:?:Sola', 'ClassII:TIR:PiggyBac',\n",
       "       'ClassII:Maverick:Maverick', 'ClassII:?:Kolobok',\n",
       "       'ClassII:Crypton:Crypton', 'ClassI:LINE:L1', 'ClassII:TIR:Transib',\n",
       "       'ClassI:PLE:Penelope', 'ClassI:SINE:5S'], dtype=object)"
      ]
     },
     "execution_count": 63,
     "metadata": {},
     "output_type": "execute_result"
    }
   ],
   "source": [
    "superfamilies"
   ]
  },
  {
   "cell_type": "code",
   "execution_count": 120,
   "metadata": {},
   "outputs": [],
   "source": [
    "class_cov_dict = {}\n",
    "order_cov_dict = {}\n",
    "superfamily_cov_dict = {}"
   ]
  },
  {
   "cell_type": "code",
   "execution_count": 121,
   "metadata": {},
   "outputs": [],
   "source": [
    "classes = [os.path.basename(x) for x in TE_path]"
   ]
  },
  {
   "cell_type": "code",
   "execution_count": 122,
   "metadata": {},
   "outputs": [
    {
     "data": {
      "text/plain": [
       "['../../TE_analysis/Retrotransposon',\n",
       " '../../TE_analysis/DNA_transposon',\n",
       " '../../TE_analysis/noCat',\n",
       " '../../TE_analysis/SSR']"
      ]
     },
     "execution_count": 122,
     "metadata": {},
     "output_type": "execute_result"
    }
   ],
   "source": [
    "TE_path"
   ]
  },
  {
   "cell_type": "code",
   "execution_count": 123,
   "metadata": {},
   "outputs": [
    {
     "data": {
      "text/plain": [
       "['Retrotransposon', 'DNA_transposon', 'noCat', 'SSR']"
      ]
     },
     "execution_count": 123,
     "metadata": {},
     "output_type": "execute_result"
    }
   ],
   "source": [
    "classes"
   ]
  },
  {
   "cell_type": "code",
   "execution_count": 124,
   "metadata": {},
   "outputs": [
    {
     "name": "stdout",
     "output_type": "stream",
     "text": [
      "Retrotransposon\n",
      "['../../TE_analysis/Retrotransposon/APSI_primary_v1.MR_P2A_300Mb.REPET.superfamily.ClassI:SINE:?.nr.bed', '../../TE_analysis/Retrotransposon/APSI_primary_v1.MR_P2A_300Mb.REPET.superfamily.ClassI:PLE:Penelope.nr.bed', '../../TE_analysis/Retrotransposon/APSI_primary_v1.MR_P2A_300Mb.REPET.superfamily.ClassI:DIRS:?.nr.bed', '../../TE_analysis/Retrotransposon/APSI_primary_v1.MR_P2A_300Mb.REPET.superfamily.ClassI:TRIM:?.nr.bed', '../../TE_analysis/Retrotransposon/APSI_primary_v1.MR_P2A_300Mb.REPET.superfamily.ClassI:LTR:Retrovirus.nr.bed', '../../TE_analysis/Retrotransposon/APSI_primary_v1.MR_P2A_300Mb.REPET.superfamily.ClassI:LTR:Copia.nr.bed', '../../TE_analysis/Retrotransposon/APSI_primary_v1.MR_P2A_300Mb.REPET.superfamily.ClassI:LARD:?.nr.bed', '../../TE_analysis/Retrotransposon/APSI_primary_v1.MR_P2A_300Mb.REPET.superfamily.ClassI:LTR:Gypsy.nr.bed', '../../TE_analysis/Retrotransposon/APSI_primary_v1.MR_P2A_300Mb.REPET.superfamily.ClassI:?:?.nr.bed', '../../TE_analysis/Retrotransposon/APSI_primary_v1.MR_P2A_300Mb.REPET.superfamily.ClassI:LINE:I.nr.bed', '../../TE_analysis/Retrotransposon/APSI_primary_v1.MR_P2A_300Mb.REPET.superfamily.ClassI:LTR:?.nr.bed', '../../TE_analysis/Retrotransposon/APSI_primary_v1.MR_P2A_300Mb.REPET.superfamily.ClassI:LINE:Jockey.nr.bed', '../../TE_analysis/Retrotransposon/APSI_primary_v1.MR_P2A_300Mb.REPET.superfamily.ClassI:SINE:5S.nr.bed', '../../TE_analysis/Retrotransposon/APSI_primary_v1.MR_P2A_300Mb.REPET.superfamily.ClassI:LINE:L1.nr.bed', '../../TE_analysis/Retrotransposon/APSI_primary_v1.MR_P2A_300Mb.REPET.superfamily.ClassI:DIRS:DIRS.nr.bed', '../../TE_analysis/Retrotransposon/APSI_primary_v1.MR_P2A_300Mb.REPET.superfamily.ClassI:LINE:R2.nr.bed', '../../TE_analysis/Retrotransposon/APSI_primary_v1.MR_P2A_300Mb.REPET.superfamily.ClassI:LINE:RTE.nr.bed', '../../TE_analysis/Retrotransposon/APSI_primary_v1.MR_P2A_300Mb.REPET.superfamily.ClassI:LTR:ERV.nr.bed', '../../TE_analysis/Retrotransposon/APSI_primary_v1.MR_P2A_300Mb.REPET.superfamily.ClassI:LINE:?.nr.bed', '../../TE_analysis/Retrotransposon/APSI_primary_v1.MR_P2A_300Mb.REPET.superfamily.ClassI:LTR:Bel-Pao.nr.bed']\n",
      "Retrotransposon\n",
      "['../../TE_analysis/Retrotransposon/APSI_primary_v1.MR_P2A_300Mb.REPET.superfamily.ClassI:SINE:?.nr.bed', '../../TE_analysis/Retrotransposon/APSI_primary_v1.MR_P2A_300Mb.REPET.superfamily.ClassI:PLE:Penelope.nr.bed', '../../TE_analysis/Retrotransposon/APSI_primary_v1.MR_P2A_300Mb.REPET.superfamily.ClassI:DIRS:?.nr.bed', '../../TE_analysis/Retrotransposon/APSI_primary_v1.MR_P2A_300Mb.REPET.superfamily.ClassI:TRIM:?.nr.bed', '../../TE_analysis/Retrotransposon/APSI_primary_v1.MR_P2A_300Mb.REPET.superfamily.ClassI:LTR:Retrovirus.nr.bed', '../../TE_analysis/Retrotransposon/APSI_primary_v1.MR_P2A_300Mb.REPET.superfamily.ClassI:LTR:Copia.nr.bed', '../../TE_analysis/Retrotransposon/APSI_primary_v1.MR_P2A_300Mb.REPET.superfamily.ClassI:LARD:?.nr.bed', '../../TE_analysis/Retrotransposon/APSI_primary_v1.MR_P2A_300Mb.REPET.superfamily.ClassI:LTR:Gypsy.nr.bed', '../../TE_analysis/Retrotransposon/APSI_primary_v1.MR_P2A_300Mb.REPET.superfamily.ClassI:?:?.nr.bed', '../../TE_analysis/Retrotransposon/APSI_primary_v1.MR_P2A_300Mb.REPET.superfamily.ClassI:LINE:I.nr.bed', '../../TE_analysis/Retrotransposon/APSI_primary_v1.MR_P2A_300Mb.REPET.superfamily.ClassI:LTR:?.nr.bed', '../../TE_analysis/Retrotransposon/APSI_primary_v1.MR_P2A_300Mb.REPET.superfamily.ClassI:LINE:Jockey.nr.bed', '../../TE_analysis/Retrotransposon/APSI_primary_v1.MR_P2A_300Mb.REPET.superfamily.ClassI:SINE:5S.nr.bed', '../../TE_analysis/Retrotransposon/APSI_primary_v1.MR_P2A_300Mb.REPET.superfamily.ClassI:LINE:L1.nr.bed', '../../TE_analysis/Retrotransposon/APSI_primary_v1.MR_P2A_300Mb.REPET.superfamily.ClassI:DIRS:DIRS.nr.bed', '../../TE_analysis/Retrotransposon/APSI_primary_v1.MR_P2A_300Mb.REPET.superfamily.ClassI:LINE:R2.nr.bed', '../../TE_analysis/Retrotransposon/APSI_primary_v1.MR_P2A_300Mb.REPET.superfamily.ClassI:LINE:RTE.nr.bed', '../../TE_analysis/Retrotransposon/APSI_primary_v1.MR_P2A_300Mb.REPET.superfamily.ClassI:LTR:ERV.nr.bed', '../../TE_analysis/Retrotransposon/APSI_primary_v1.MR_P2A_300Mb.REPET.superfamily.ClassI:LINE:?.nr.bed', '../../TE_analysis/Retrotransposon/APSI_primary_v1.MR_P2A_300Mb.REPET.superfamily.ClassI:LTR:Bel-Pao.nr.bed']\n",
      "Retrotransposon\n",
      "['../../TE_analysis/Retrotransposon/APSI_primary_v1.MR_P2A_300Mb.REPET.superfamily.ClassI:SINE:?.nr.bed', '../../TE_analysis/Retrotransposon/APSI_primary_v1.MR_P2A_300Mb.REPET.superfamily.ClassI:PLE:Penelope.nr.bed', '../../TE_analysis/Retrotransposon/APSI_primary_v1.MR_P2A_300Mb.REPET.superfamily.ClassI:DIRS:?.nr.bed', '../../TE_analysis/Retrotransposon/APSI_primary_v1.MR_P2A_300Mb.REPET.superfamily.ClassI:TRIM:?.nr.bed', '../../TE_analysis/Retrotransposon/APSI_primary_v1.MR_P2A_300Mb.REPET.superfamily.ClassI:LTR:Retrovirus.nr.bed', '../../TE_analysis/Retrotransposon/APSI_primary_v1.MR_P2A_300Mb.REPET.superfamily.ClassI:LTR:Copia.nr.bed', '../../TE_analysis/Retrotransposon/APSI_primary_v1.MR_P2A_300Mb.REPET.superfamily.ClassI:LARD:?.nr.bed', '../../TE_analysis/Retrotransposon/APSI_primary_v1.MR_P2A_300Mb.REPET.superfamily.ClassI:LTR:Gypsy.nr.bed', '../../TE_analysis/Retrotransposon/APSI_primary_v1.MR_P2A_300Mb.REPET.superfamily.ClassI:?:?.nr.bed', '../../TE_analysis/Retrotransposon/APSI_primary_v1.MR_P2A_300Mb.REPET.superfamily.ClassI:LINE:I.nr.bed', '../../TE_analysis/Retrotransposon/APSI_primary_v1.MR_P2A_300Mb.REPET.superfamily.ClassI:LTR:?.nr.bed', '../../TE_analysis/Retrotransposon/APSI_primary_v1.MR_P2A_300Mb.REPET.superfamily.ClassI:LINE:Jockey.nr.bed', '../../TE_analysis/Retrotransposon/APSI_primary_v1.MR_P2A_300Mb.REPET.superfamily.ClassI:SINE:5S.nr.bed', '../../TE_analysis/Retrotransposon/APSI_primary_v1.MR_P2A_300Mb.REPET.superfamily.ClassI:LINE:L1.nr.bed', '../../TE_analysis/Retrotransposon/APSI_primary_v1.MR_P2A_300Mb.REPET.superfamily.ClassI:DIRS:DIRS.nr.bed', '../../TE_analysis/Retrotransposon/APSI_primary_v1.MR_P2A_300Mb.REPET.superfamily.ClassI:LINE:R2.nr.bed', '../../TE_analysis/Retrotransposon/APSI_primary_v1.MR_P2A_300Mb.REPET.superfamily.ClassI:LINE:RTE.nr.bed', '../../TE_analysis/Retrotransposon/APSI_primary_v1.MR_P2A_300Mb.REPET.superfamily.ClassI:LTR:ERV.nr.bed', '../../TE_analysis/Retrotransposon/APSI_primary_v1.MR_P2A_300Mb.REPET.superfamily.ClassI:LINE:?.nr.bed', '../../TE_analysis/Retrotransposon/APSI_primary_v1.MR_P2A_300Mb.REPET.superfamily.ClassI:LTR:Bel-Pao.nr.bed']\n",
      "Retrotransposon\n",
      "['../../TE_analysis/Retrotransposon/APSI_primary_v1.MR_P2A_300Mb.REPET.superfamily.ClassI:SINE:?.nr.bed', '../../TE_analysis/Retrotransposon/APSI_primary_v1.MR_P2A_300Mb.REPET.superfamily.ClassI:PLE:Penelope.nr.bed', '../../TE_analysis/Retrotransposon/APSI_primary_v1.MR_P2A_300Mb.REPET.superfamily.ClassI:DIRS:?.nr.bed', '../../TE_analysis/Retrotransposon/APSI_primary_v1.MR_P2A_300Mb.REPET.superfamily.ClassI:TRIM:?.nr.bed', '../../TE_analysis/Retrotransposon/APSI_primary_v1.MR_P2A_300Mb.REPET.superfamily.ClassI:LTR:Retrovirus.nr.bed', '../../TE_analysis/Retrotransposon/APSI_primary_v1.MR_P2A_300Mb.REPET.superfamily.ClassI:LTR:Copia.nr.bed', '../../TE_analysis/Retrotransposon/APSI_primary_v1.MR_P2A_300Mb.REPET.superfamily.ClassI:LARD:?.nr.bed', '../../TE_analysis/Retrotransposon/APSI_primary_v1.MR_P2A_300Mb.REPET.superfamily.ClassI:LTR:Gypsy.nr.bed', '../../TE_analysis/Retrotransposon/APSI_primary_v1.MR_P2A_300Mb.REPET.superfamily.ClassI:?:?.nr.bed', '../../TE_analysis/Retrotransposon/APSI_primary_v1.MR_P2A_300Mb.REPET.superfamily.ClassI:LINE:I.nr.bed', '../../TE_analysis/Retrotransposon/APSI_primary_v1.MR_P2A_300Mb.REPET.superfamily.ClassI:LTR:?.nr.bed', '../../TE_analysis/Retrotransposon/APSI_primary_v1.MR_P2A_300Mb.REPET.superfamily.ClassI:LINE:Jockey.nr.bed', '../../TE_analysis/Retrotransposon/APSI_primary_v1.MR_P2A_300Mb.REPET.superfamily.ClassI:SINE:5S.nr.bed', '../../TE_analysis/Retrotransposon/APSI_primary_v1.MR_P2A_300Mb.REPET.superfamily.ClassI:LINE:L1.nr.bed', '../../TE_analysis/Retrotransposon/APSI_primary_v1.MR_P2A_300Mb.REPET.superfamily.ClassI:DIRS:DIRS.nr.bed', '../../TE_analysis/Retrotransposon/APSI_primary_v1.MR_P2A_300Mb.REPET.superfamily.ClassI:LINE:R2.nr.bed', '../../TE_analysis/Retrotransposon/APSI_primary_v1.MR_P2A_300Mb.REPET.superfamily.ClassI:LINE:RTE.nr.bed', '../../TE_analysis/Retrotransposon/APSI_primary_v1.MR_P2A_300Mb.REPET.superfamily.ClassI:LTR:ERV.nr.bed', '../../TE_analysis/Retrotransposon/APSI_primary_v1.MR_P2A_300Mb.REPET.superfamily.ClassI:LINE:?.nr.bed', '../../TE_analysis/Retrotransposon/APSI_primary_v1.MR_P2A_300Mb.REPET.superfamily.ClassI:LTR:Bel-Pao.nr.bed']\n",
      "Retrotransposon\n",
      "['../../TE_analysis/Retrotransposon/APSI_primary_v1.MR_P2A_300Mb.REPET.superfamily.ClassI:SINE:?.nr.bed', '../../TE_analysis/Retrotransposon/APSI_primary_v1.MR_P2A_300Mb.REPET.superfamily.ClassI:PLE:Penelope.nr.bed', '../../TE_analysis/Retrotransposon/APSI_primary_v1.MR_P2A_300Mb.REPET.superfamily.ClassI:DIRS:?.nr.bed', '../../TE_analysis/Retrotransposon/APSI_primary_v1.MR_P2A_300Mb.REPET.superfamily.ClassI:TRIM:?.nr.bed', '../../TE_analysis/Retrotransposon/APSI_primary_v1.MR_P2A_300Mb.REPET.superfamily.ClassI:LTR:Retrovirus.nr.bed', '../../TE_analysis/Retrotransposon/APSI_primary_v1.MR_P2A_300Mb.REPET.superfamily.ClassI:LTR:Copia.nr.bed', '../../TE_analysis/Retrotransposon/APSI_primary_v1.MR_P2A_300Mb.REPET.superfamily.ClassI:LARD:?.nr.bed', '../../TE_analysis/Retrotransposon/APSI_primary_v1.MR_P2A_300Mb.REPET.superfamily.ClassI:LTR:Gypsy.nr.bed', '../../TE_analysis/Retrotransposon/APSI_primary_v1.MR_P2A_300Mb.REPET.superfamily.ClassI:?:?.nr.bed', '../../TE_analysis/Retrotransposon/APSI_primary_v1.MR_P2A_300Mb.REPET.superfamily.ClassI:LINE:I.nr.bed', '../../TE_analysis/Retrotransposon/APSI_primary_v1.MR_P2A_300Mb.REPET.superfamily.ClassI:LTR:?.nr.bed', '../../TE_analysis/Retrotransposon/APSI_primary_v1.MR_P2A_300Mb.REPET.superfamily.ClassI:LINE:Jockey.nr.bed', '../../TE_analysis/Retrotransposon/APSI_primary_v1.MR_P2A_300Mb.REPET.superfamily.ClassI:SINE:5S.nr.bed', '../../TE_analysis/Retrotransposon/APSI_primary_v1.MR_P2A_300Mb.REPET.superfamily.ClassI:LINE:L1.nr.bed', '../../TE_analysis/Retrotransposon/APSI_primary_v1.MR_P2A_300Mb.REPET.superfamily.ClassI:DIRS:DIRS.nr.bed', '../../TE_analysis/Retrotransposon/APSI_primary_v1.MR_P2A_300Mb.REPET.superfamily.ClassI:LINE:R2.nr.bed', '../../TE_analysis/Retrotransposon/APSI_primary_v1.MR_P2A_300Mb.REPET.superfamily.ClassI:LINE:RTE.nr.bed', '../../TE_analysis/Retrotransposon/APSI_primary_v1.MR_P2A_300Mb.REPET.superfamily.ClassI:LTR:ERV.nr.bed', '../../TE_analysis/Retrotransposon/APSI_primary_v1.MR_P2A_300Mb.REPET.superfamily.ClassI:LINE:?.nr.bed', '../../TE_analysis/Retrotransposon/APSI_primary_v1.MR_P2A_300Mb.REPET.superfamily.ClassI:LTR:Bel-Pao.nr.bed']\n",
      "Retrotransposon\n",
      "['../../TE_analysis/Retrotransposon/APSI_primary_v1.MR_P2A_300Mb.REPET.superfamily.ClassI:SINE:?.nr.bed', '../../TE_analysis/Retrotransposon/APSI_primary_v1.MR_P2A_300Mb.REPET.superfamily.ClassI:PLE:Penelope.nr.bed', '../../TE_analysis/Retrotransposon/APSI_primary_v1.MR_P2A_300Mb.REPET.superfamily.ClassI:DIRS:?.nr.bed', '../../TE_analysis/Retrotransposon/APSI_primary_v1.MR_P2A_300Mb.REPET.superfamily.ClassI:TRIM:?.nr.bed', '../../TE_analysis/Retrotransposon/APSI_primary_v1.MR_P2A_300Mb.REPET.superfamily.ClassI:LTR:Retrovirus.nr.bed', '../../TE_analysis/Retrotransposon/APSI_primary_v1.MR_P2A_300Mb.REPET.superfamily.ClassI:LTR:Copia.nr.bed', '../../TE_analysis/Retrotransposon/APSI_primary_v1.MR_P2A_300Mb.REPET.superfamily.ClassI:LARD:?.nr.bed', '../../TE_analysis/Retrotransposon/APSI_primary_v1.MR_P2A_300Mb.REPET.superfamily.ClassI:LTR:Gypsy.nr.bed', '../../TE_analysis/Retrotransposon/APSI_primary_v1.MR_P2A_300Mb.REPET.superfamily.ClassI:?:?.nr.bed', '../../TE_analysis/Retrotransposon/APSI_primary_v1.MR_P2A_300Mb.REPET.superfamily.ClassI:LINE:I.nr.bed', '../../TE_analysis/Retrotransposon/APSI_primary_v1.MR_P2A_300Mb.REPET.superfamily.ClassI:LTR:?.nr.bed', '../../TE_analysis/Retrotransposon/APSI_primary_v1.MR_P2A_300Mb.REPET.superfamily.ClassI:LINE:Jockey.nr.bed', '../../TE_analysis/Retrotransposon/APSI_primary_v1.MR_P2A_300Mb.REPET.superfamily.ClassI:SINE:5S.nr.bed', '../../TE_analysis/Retrotransposon/APSI_primary_v1.MR_P2A_300Mb.REPET.superfamily.ClassI:LINE:L1.nr.bed', '../../TE_analysis/Retrotransposon/APSI_primary_v1.MR_P2A_300Mb.REPET.superfamily.ClassI:DIRS:DIRS.nr.bed', '../../TE_analysis/Retrotransposon/APSI_primary_v1.MR_P2A_300Mb.REPET.superfamily.ClassI:LINE:R2.nr.bed', '../../TE_analysis/Retrotransposon/APSI_primary_v1.MR_P2A_300Mb.REPET.superfamily.ClassI:LINE:RTE.nr.bed', '../../TE_analysis/Retrotransposon/APSI_primary_v1.MR_P2A_300Mb.REPET.superfamily.ClassI:LTR:ERV.nr.bed', '../../TE_analysis/Retrotransposon/APSI_primary_v1.MR_P2A_300Mb.REPET.superfamily.ClassI:LINE:?.nr.bed', '../../TE_analysis/Retrotransposon/APSI_primary_v1.MR_P2A_300Mb.REPET.superfamily.ClassI:LTR:Bel-Pao.nr.bed']\n",
      "Retrotransposon\n",
      "['../../TE_analysis/Retrotransposon/APSI_primary_v1.MR_P2A_300Mb.REPET.superfamily.ClassI:SINE:?.nr.bed', '../../TE_analysis/Retrotransposon/APSI_primary_v1.MR_P2A_300Mb.REPET.superfamily.ClassI:PLE:Penelope.nr.bed', '../../TE_analysis/Retrotransposon/APSI_primary_v1.MR_P2A_300Mb.REPET.superfamily.ClassI:DIRS:?.nr.bed', '../../TE_analysis/Retrotransposon/APSI_primary_v1.MR_P2A_300Mb.REPET.superfamily.ClassI:TRIM:?.nr.bed', '../../TE_analysis/Retrotransposon/APSI_primary_v1.MR_P2A_300Mb.REPET.superfamily.ClassI:LTR:Retrovirus.nr.bed', '../../TE_analysis/Retrotransposon/APSI_primary_v1.MR_P2A_300Mb.REPET.superfamily.ClassI:LTR:Copia.nr.bed', '../../TE_analysis/Retrotransposon/APSI_primary_v1.MR_P2A_300Mb.REPET.superfamily.ClassI:LARD:?.nr.bed', '../../TE_analysis/Retrotransposon/APSI_primary_v1.MR_P2A_300Mb.REPET.superfamily.ClassI:LTR:Gypsy.nr.bed', '../../TE_analysis/Retrotransposon/APSI_primary_v1.MR_P2A_300Mb.REPET.superfamily.ClassI:?:?.nr.bed', '../../TE_analysis/Retrotransposon/APSI_primary_v1.MR_P2A_300Mb.REPET.superfamily.ClassI:LINE:I.nr.bed', '../../TE_analysis/Retrotransposon/APSI_primary_v1.MR_P2A_300Mb.REPET.superfamily.ClassI:LTR:?.nr.bed', '../../TE_analysis/Retrotransposon/APSI_primary_v1.MR_P2A_300Mb.REPET.superfamily.ClassI:LINE:Jockey.nr.bed', '../../TE_analysis/Retrotransposon/APSI_primary_v1.MR_P2A_300Mb.REPET.superfamily.ClassI:SINE:5S.nr.bed', '../../TE_analysis/Retrotransposon/APSI_primary_v1.MR_P2A_300Mb.REPET.superfamily.ClassI:LINE:L1.nr.bed', '../../TE_analysis/Retrotransposon/APSI_primary_v1.MR_P2A_300Mb.REPET.superfamily.ClassI:DIRS:DIRS.nr.bed', '../../TE_analysis/Retrotransposon/APSI_primary_v1.MR_P2A_300Mb.REPET.superfamily.ClassI:LINE:R2.nr.bed', '../../TE_analysis/Retrotransposon/APSI_primary_v1.MR_P2A_300Mb.REPET.superfamily.ClassI:LINE:RTE.nr.bed', '../../TE_analysis/Retrotransposon/APSI_primary_v1.MR_P2A_300Mb.REPET.superfamily.ClassI:LTR:ERV.nr.bed', '../../TE_analysis/Retrotransposon/APSI_primary_v1.MR_P2A_300Mb.REPET.superfamily.ClassI:LINE:?.nr.bed', '../../TE_analysis/Retrotransposon/APSI_primary_v1.MR_P2A_300Mb.REPET.superfamily.ClassI:LTR:Bel-Pao.nr.bed']\n",
      "Retrotransposon\n",
      "['../../TE_analysis/Retrotransposon/APSI_primary_v1.MR_P2A_300Mb.REPET.superfamily.ClassI:SINE:?.nr.bed', '../../TE_analysis/Retrotransposon/APSI_primary_v1.MR_P2A_300Mb.REPET.superfamily.ClassI:PLE:Penelope.nr.bed', '../../TE_analysis/Retrotransposon/APSI_primary_v1.MR_P2A_300Mb.REPET.superfamily.ClassI:DIRS:?.nr.bed', '../../TE_analysis/Retrotransposon/APSI_primary_v1.MR_P2A_300Mb.REPET.superfamily.ClassI:TRIM:?.nr.bed', '../../TE_analysis/Retrotransposon/APSI_primary_v1.MR_P2A_300Mb.REPET.superfamily.ClassI:LTR:Retrovirus.nr.bed', '../../TE_analysis/Retrotransposon/APSI_primary_v1.MR_P2A_300Mb.REPET.superfamily.ClassI:LTR:Copia.nr.bed', '../../TE_analysis/Retrotransposon/APSI_primary_v1.MR_P2A_300Mb.REPET.superfamily.ClassI:LARD:?.nr.bed', '../../TE_analysis/Retrotransposon/APSI_primary_v1.MR_P2A_300Mb.REPET.superfamily.ClassI:LTR:Gypsy.nr.bed', '../../TE_analysis/Retrotransposon/APSI_primary_v1.MR_P2A_300Mb.REPET.superfamily.ClassI:?:?.nr.bed', '../../TE_analysis/Retrotransposon/APSI_primary_v1.MR_P2A_300Mb.REPET.superfamily.ClassI:LINE:I.nr.bed', '../../TE_analysis/Retrotransposon/APSI_primary_v1.MR_P2A_300Mb.REPET.superfamily.ClassI:LTR:?.nr.bed', '../../TE_analysis/Retrotransposon/APSI_primary_v1.MR_P2A_300Mb.REPET.superfamily.ClassI:LINE:Jockey.nr.bed', '../../TE_analysis/Retrotransposon/APSI_primary_v1.MR_P2A_300Mb.REPET.superfamily.ClassI:SINE:5S.nr.bed', '../../TE_analysis/Retrotransposon/APSI_primary_v1.MR_P2A_300Mb.REPET.superfamily.ClassI:LINE:L1.nr.bed', '../../TE_analysis/Retrotransposon/APSI_primary_v1.MR_P2A_300Mb.REPET.superfamily.ClassI:DIRS:DIRS.nr.bed', '../../TE_analysis/Retrotransposon/APSI_primary_v1.MR_P2A_300Mb.REPET.superfamily.ClassI:LINE:R2.nr.bed', '../../TE_analysis/Retrotransposon/APSI_primary_v1.MR_P2A_300Mb.REPET.superfamily.ClassI:LINE:RTE.nr.bed', '../../TE_analysis/Retrotransposon/APSI_primary_v1.MR_P2A_300Mb.REPET.superfamily.ClassI:LTR:ERV.nr.bed', '../../TE_analysis/Retrotransposon/APSI_primary_v1.MR_P2A_300Mb.REPET.superfamily.ClassI:LINE:?.nr.bed', '../../TE_analysis/Retrotransposon/APSI_primary_v1.MR_P2A_300Mb.REPET.superfamily.ClassI:LTR:Bel-Pao.nr.bed']\n",
      "DNA_transposon\n",
      "['../../TE_analysis/DNA_transposon/APSI_primary_v1.MR_P2A_300Mb.REPET.superfamily.ClassII:TIR:CACTA.nr.bed', '../../TE_analysis/DNA_transposon/APSI_primary_v1.MR_P2A_300Mb.REPET.superfamily.ClassII:TIR:Tc1-Mariner.nr.bed', '../../TE_analysis/DNA_transposon/APSI_primary_v1.MR_P2A_300Mb.REPET.superfamily.ClassII:TIR:P.nr.bed', '../../TE_analysis/DNA_transposon/APSI_primary_v1.MR_P2A_300Mb.REPET.superfamily.ClassII:TIR:?.nr.bed', '../../TE_analysis/DNA_transposon/APSI_primary_v1.MR_P2A_300Mb.REPET.superfamily.ClassII:?:Sola.nr.bed', '../../TE_analysis/DNA_transposon/APSI_primary_v1.MR_P2A_300Mb.REPET.superfamily.ClassII:TIR:MuDR.nr.bed', '../../TE_analysis/DNA_transposon/APSI_primary_v1.MR_P2A_300Mb.REPET.superfamily.ClassII:TIR:hAT.nr.bed', '../../TE_analysis/DNA_transposon/APSI_primary_v1.MR_P2A_300Mb.REPET.superfamily.ClassII:Maverick:?.nr.bed', '../../TE_analysis/DNA_transposon/APSI_primary_v1.MR_P2A_300Mb.REPET.superfamily.ClassII:?:Kolobok.nr.bed', '../../TE_analysis/DNA_transposon/APSI_primary_v1.MR_P2A_300Mb.REPET.superfamily.ClassII:?:Ginger1.nr.bed', '../../TE_analysis/DNA_transposon/APSI_primary_v1.MR_P2A_300Mb.REPET.superfamily.ClassII:MITE:?.nr.bed', '../../TE_analysis/DNA_transposon/APSI_primary_v1.MR_P2A_300Mb.REPET.superfamily.ClassII:TIR:PiggyBac.nr.bed', '../../TE_analysis/DNA_transposon/APSI_primary_v1.MR_P2A_300Mb.REPET.superfamily.ClassII:Maverick:Maverick.nr.bed', '../../TE_analysis/DNA_transposon/APSI_primary_v1.MR_P2A_300Mb.REPET.superfamily.ClassII:Helitron:Helitron.nr.bed', '../../TE_analysis/DNA_transposon/APSI_primary_v1.MR_P2A_300Mb.REPET.superfamily.ClassII:?:?.nr.bed', '../../TE_analysis/DNA_transposon/APSI_primary_v1.MR_P2A_300Mb.REPET.superfamily.ClassII:?:Ginger2_TDD.nr.bed', '../../TE_analysis/DNA_transposon/APSI_primary_v1.MR_P2A_300Mb.REPET.superfamily.ClassII:?:Novosib.nr.bed', '../../TE_analysis/DNA_transposon/APSI_primary_v1.MR_P2A_300Mb.REPET.superfamily.ClassII:Helitron:?.nr.bed', '../../TE_analysis/DNA_transposon/APSI_primary_v1.MR_P2A_300Mb.REPET.superfamily.ClassII:TIR:Transib.nr.bed', '../../TE_analysis/DNA_transposon/APSI_primary_v1.MR_P2A_300Mb.REPET.superfamily.ClassII:TIR:PIF-Harbinger.nr.bed', '../../TE_analysis/DNA_transposon/APSI_primary_v1.MR_P2A_300Mb.REPET.superfamily.ClassII:Crypton:Crypton.nr.bed']\n",
      "DNA_transposon\n",
      "['../../TE_analysis/DNA_transposon/APSI_primary_v1.MR_P2A_300Mb.REPET.superfamily.ClassII:TIR:CACTA.nr.bed', '../../TE_analysis/DNA_transposon/APSI_primary_v1.MR_P2A_300Mb.REPET.superfamily.ClassII:TIR:Tc1-Mariner.nr.bed', '../../TE_analysis/DNA_transposon/APSI_primary_v1.MR_P2A_300Mb.REPET.superfamily.ClassII:TIR:P.nr.bed', '../../TE_analysis/DNA_transposon/APSI_primary_v1.MR_P2A_300Mb.REPET.superfamily.ClassII:TIR:?.nr.bed', '../../TE_analysis/DNA_transposon/APSI_primary_v1.MR_P2A_300Mb.REPET.superfamily.ClassII:?:Sola.nr.bed', '../../TE_analysis/DNA_transposon/APSI_primary_v1.MR_P2A_300Mb.REPET.superfamily.ClassII:TIR:MuDR.nr.bed', '../../TE_analysis/DNA_transposon/APSI_primary_v1.MR_P2A_300Mb.REPET.superfamily.ClassII:TIR:hAT.nr.bed', '../../TE_analysis/DNA_transposon/APSI_primary_v1.MR_P2A_300Mb.REPET.superfamily.ClassII:Maverick:?.nr.bed', '../../TE_analysis/DNA_transposon/APSI_primary_v1.MR_P2A_300Mb.REPET.superfamily.ClassII:?:Kolobok.nr.bed', '../../TE_analysis/DNA_transposon/APSI_primary_v1.MR_P2A_300Mb.REPET.superfamily.ClassII:?:Ginger1.nr.bed', '../../TE_analysis/DNA_transposon/APSI_primary_v1.MR_P2A_300Mb.REPET.superfamily.ClassII:MITE:?.nr.bed', '../../TE_analysis/DNA_transposon/APSI_primary_v1.MR_P2A_300Mb.REPET.superfamily.ClassII:TIR:PiggyBac.nr.bed', '../../TE_analysis/DNA_transposon/APSI_primary_v1.MR_P2A_300Mb.REPET.superfamily.ClassII:Maverick:Maverick.nr.bed', '../../TE_analysis/DNA_transposon/APSI_primary_v1.MR_P2A_300Mb.REPET.superfamily.ClassII:Helitron:Helitron.nr.bed', '../../TE_analysis/DNA_transposon/APSI_primary_v1.MR_P2A_300Mb.REPET.superfamily.ClassII:?:?.nr.bed', '../../TE_analysis/DNA_transposon/APSI_primary_v1.MR_P2A_300Mb.REPET.superfamily.ClassII:?:Ginger2_TDD.nr.bed', '../../TE_analysis/DNA_transposon/APSI_primary_v1.MR_P2A_300Mb.REPET.superfamily.ClassII:?:Novosib.nr.bed', '../../TE_analysis/DNA_transposon/APSI_primary_v1.MR_P2A_300Mb.REPET.superfamily.ClassII:Helitron:?.nr.bed', '../../TE_analysis/DNA_transposon/APSI_primary_v1.MR_P2A_300Mb.REPET.superfamily.ClassII:TIR:Transib.nr.bed', '../../TE_analysis/DNA_transposon/APSI_primary_v1.MR_P2A_300Mb.REPET.superfamily.ClassII:TIR:PIF-Harbinger.nr.bed', '../../TE_analysis/DNA_transposon/APSI_primary_v1.MR_P2A_300Mb.REPET.superfamily.ClassII:Crypton:Crypton.nr.bed']\n",
      "DNA_transposon\n",
      "['../../TE_analysis/DNA_transposon/APSI_primary_v1.MR_P2A_300Mb.REPET.superfamily.ClassII:TIR:CACTA.nr.bed', '../../TE_analysis/DNA_transposon/APSI_primary_v1.MR_P2A_300Mb.REPET.superfamily.ClassII:TIR:Tc1-Mariner.nr.bed', '../../TE_analysis/DNA_transposon/APSI_primary_v1.MR_P2A_300Mb.REPET.superfamily.ClassII:TIR:P.nr.bed', '../../TE_analysis/DNA_transposon/APSI_primary_v1.MR_P2A_300Mb.REPET.superfamily.ClassII:TIR:?.nr.bed', '../../TE_analysis/DNA_transposon/APSI_primary_v1.MR_P2A_300Mb.REPET.superfamily.ClassII:?:Sola.nr.bed', '../../TE_analysis/DNA_transposon/APSI_primary_v1.MR_P2A_300Mb.REPET.superfamily.ClassII:TIR:MuDR.nr.bed', '../../TE_analysis/DNA_transposon/APSI_primary_v1.MR_P2A_300Mb.REPET.superfamily.ClassII:TIR:hAT.nr.bed', '../../TE_analysis/DNA_transposon/APSI_primary_v1.MR_P2A_300Mb.REPET.superfamily.ClassII:Maverick:?.nr.bed', '../../TE_analysis/DNA_transposon/APSI_primary_v1.MR_P2A_300Mb.REPET.superfamily.ClassII:?:Kolobok.nr.bed', '../../TE_analysis/DNA_transposon/APSI_primary_v1.MR_P2A_300Mb.REPET.superfamily.ClassII:?:Ginger1.nr.bed', '../../TE_analysis/DNA_transposon/APSI_primary_v1.MR_P2A_300Mb.REPET.superfamily.ClassII:MITE:?.nr.bed', '../../TE_analysis/DNA_transposon/APSI_primary_v1.MR_P2A_300Mb.REPET.superfamily.ClassII:TIR:PiggyBac.nr.bed', '../../TE_analysis/DNA_transposon/APSI_primary_v1.MR_P2A_300Mb.REPET.superfamily.ClassII:Maverick:Maverick.nr.bed', '../../TE_analysis/DNA_transposon/APSI_primary_v1.MR_P2A_300Mb.REPET.superfamily.ClassII:Helitron:Helitron.nr.bed', '../../TE_analysis/DNA_transposon/APSI_primary_v1.MR_P2A_300Mb.REPET.superfamily.ClassII:?:?.nr.bed', '../../TE_analysis/DNA_transposon/APSI_primary_v1.MR_P2A_300Mb.REPET.superfamily.ClassII:?:Ginger2_TDD.nr.bed', '../../TE_analysis/DNA_transposon/APSI_primary_v1.MR_P2A_300Mb.REPET.superfamily.ClassII:?:Novosib.nr.bed', '../../TE_analysis/DNA_transposon/APSI_primary_v1.MR_P2A_300Mb.REPET.superfamily.ClassII:Helitron:?.nr.bed', '../../TE_analysis/DNA_transposon/APSI_primary_v1.MR_P2A_300Mb.REPET.superfamily.ClassII:TIR:Transib.nr.bed', '../../TE_analysis/DNA_transposon/APSI_primary_v1.MR_P2A_300Mb.REPET.superfamily.ClassII:TIR:PIF-Harbinger.nr.bed', '../../TE_analysis/DNA_transposon/APSI_primary_v1.MR_P2A_300Mb.REPET.superfamily.ClassII:Crypton:Crypton.nr.bed']\n",
      "DNA_transposon\n",
      "['../../TE_analysis/DNA_transposon/APSI_primary_v1.MR_P2A_300Mb.REPET.superfamily.ClassII:TIR:CACTA.nr.bed', '../../TE_analysis/DNA_transposon/APSI_primary_v1.MR_P2A_300Mb.REPET.superfamily.ClassII:TIR:Tc1-Mariner.nr.bed', '../../TE_analysis/DNA_transposon/APSI_primary_v1.MR_P2A_300Mb.REPET.superfamily.ClassII:TIR:P.nr.bed', '../../TE_analysis/DNA_transposon/APSI_primary_v1.MR_P2A_300Mb.REPET.superfamily.ClassII:TIR:?.nr.bed', '../../TE_analysis/DNA_transposon/APSI_primary_v1.MR_P2A_300Mb.REPET.superfamily.ClassII:?:Sola.nr.bed', '../../TE_analysis/DNA_transposon/APSI_primary_v1.MR_P2A_300Mb.REPET.superfamily.ClassII:TIR:MuDR.nr.bed', '../../TE_analysis/DNA_transposon/APSI_primary_v1.MR_P2A_300Mb.REPET.superfamily.ClassII:TIR:hAT.nr.bed', '../../TE_analysis/DNA_transposon/APSI_primary_v1.MR_P2A_300Mb.REPET.superfamily.ClassII:Maverick:?.nr.bed', '../../TE_analysis/DNA_transposon/APSI_primary_v1.MR_P2A_300Mb.REPET.superfamily.ClassII:?:Kolobok.nr.bed', '../../TE_analysis/DNA_transposon/APSI_primary_v1.MR_P2A_300Mb.REPET.superfamily.ClassII:?:Ginger1.nr.bed', '../../TE_analysis/DNA_transposon/APSI_primary_v1.MR_P2A_300Mb.REPET.superfamily.ClassII:MITE:?.nr.bed', '../../TE_analysis/DNA_transposon/APSI_primary_v1.MR_P2A_300Mb.REPET.superfamily.ClassII:TIR:PiggyBac.nr.bed', '../../TE_analysis/DNA_transposon/APSI_primary_v1.MR_P2A_300Mb.REPET.superfamily.ClassII:Maverick:Maverick.nr.bed', '../../TE_analysis/DNA_transposon/APSI_primary_v1.MR_P2A_300Mb.REPET.superfamily.ClassII:Helitron:Helitron.nr.bed', '../../TE_analysis/DNA_transposon/APSI_primary_v1.MR_P2A_300Mb.REPET.superfamily.ClassII:?:?.nr.bed', '../../TE_analysis/DNA_transposon/APSI_primary_v1.MR_P2A_300Mb.REPET.superfamily.ClassII:?:Ginger2_TDD.nr.bed', '../../TE_analysis/DNA_transposon/APSI_primary_v1.MR_P2A_300Mb.REPET.superfamily.ClassII:?:Novosib.nr.bed', '../../TE_analysis/DNA_transposon/APSI_primary_v1.MR_P2A_300Mb.REPET.superfamily.ClassII:Helitron:?.nr.bed', '../../TE_analysis/DNA_transposon/APSI_primary_v1.MR_P2A_300Mb.REPET.superfamily.ClassII:TIR:Transib.nr.bed', '../../TE_analysis/DNA_transposon/APSI_primary_v1.MR_P2A_300Mb.REPET.superfamily.ClassII:TIR:PIF-Harbinger.nr.bed', '../../TE_analysis/DNA_transposon/APSI_primary_v1.MR_P2A_300Mb.REPET.superfamily.ClassII:Crypton:Crypton.nr.bed']\n",
      "DNA_transposon\n",
      "['../../TE_analysis/DNA_transposon/APSI_primary_v1.MR_P2A_300Mb.REPET.superfamily.ClassII:TIR:CACTA.nr.bed', '../../TE_analysis/DNA_transposon/APSI_primary_v1.MR_P2A_300Mb.REPET.superfamily.ClassII:TIR:Tc1-Mariner.nr.bed', '../../TE_analysis/DNA_transposon/APSI_primary_v1.MR_P2A_300Mb.REPET.superfamily.ClassII:TIR:P.nr.bed', '../../TE_analysis/DNA_transposon/APSI_primary_v1.MR_P2A_300Mb.REPET.superfamily.ClassII:TIR:?.nr.bed', '../../TE_analysis/DNA_transposon/APSI_primary_v1.MR_P2A_300Mb.REPET.superfamily.ClassII:?:Sola.nr.bed', '../../TE_analysis/DNA_transposon/APSI_primary_v1.MR_P2A_300Mb.REPET.superfamily.ClassII:TIR:MuDR.nr.bed', '../../TE_analysis/DNA_transposon/APSI_primary_v1.MR_P2A_300Mb.REPET.superfamily.ClassII:TIR:hAT.nr.bed', '../../TE_analysis/DNA_transposon/APSI_primary_v1.MR_P2A_300Mb.REPET.superfamily.ClassII:Maverick:?.nr.bed', '../../TE_analysis/DNA_transposon/APSI_primary_v1.MR_P2A_300Mb.REPET.superfamily.ClassII:?:Kolobok.nr.bed', '../../TE_analysis/DNA_transposon/APSI_primary_v1.MR_P2A_300Mb.REPET.superfamily.ClassII:?:Ginger1.nr.bed', '../../TE_analysis/DNA_transposon/APSI_primary_v1.MR_P2A_300Mb.REPET.superfamily.ClassII:MITE:?.nr.bed', '../../TE_analysis/DNA_transposon/APSI_primary_v1.MR_P2A_300Mb.REPET.superfamily.ClassII:TIR:PiggyBac.nr.bed', '../../TE_analysis/DNA_transposon/APSI_primary_v1.MR_P2A_300Mb.REPET.superfamily.ClassII:Maverick:Maverick.nr.bed', '../../TE_analysis/DNA_transposon/APSI_primary_v1.MR_P2A_300Mb.REPET.superfamily.ClassII:Helitron:Helitron.nr.bed', '../../TE_analysis/DNA_transposon/APSI_primary_v1.MR_P2A_300Mb.REPET.superfamily.ClassII:?:?.nr.bed', '../../TE_analysis/DNA_transposon/APSI_primary_v1.MR_P2A_300Mb.REPET.superfamily.ClassII:?:Ginger2_TDD.nr.bed', '../../TE_analysis/DNA_transposon/APSI_primary_v1.MR_P2A_300Mb.REPET.superfamily.ClassII:?:Novosib.nr.bed', '../../TE_analysis/DNA_transposon/APSI_primary_v1.MR_P2A_300Mb.REPET.superfamily.ClassII:Helitron:?.nr.bed', '../../TE_analysis/DNA_transposon/APSI_primary_v1.MR_P2A_300Mb.REPET.superfamily.ClassII:TIR:Transib.nr.bed', '../../TE_analysis/DNA_transposon/APSI_primary_v1.MR_P2A_300Mb.REPET.superfamily.ClassII:TIR:PIF-Harbinger.nr.bed', '../../TE_analysis/DNA_transposon/APSI_primary_v1.MR_P2A_300Mb.REPET.superfamily.ClassII:Crypton:Crypton.nr.bed']\n",
      "DNA_transposon\n",
      "['../../TE_analysis/DNA_transposon/APSI_primary_v1.MR_P2A_300Mb.REPET.superfamily.ClassII:TIR:CACTA.nr.bed', '../../TE_analysis/DNA_transposon/APSI_primary_v1.MR_P2A_300Mb.REPET.superfamily.ClassII:TIR:Tc1-Mariner.nr.bed', '../../TE_analysis/DNA_transposon/APSI_primary_v1.MR_P2A_300Mb.REPET.superfamily.ClassII:TIR:P.nr.bed', '../../TE_analysis/DNA_transposon/APSI_primary_v1.MR_P2A_300Mb.REPET.superfamily.ClassII:TIR:?.nr.bed', '../../TE_analysis/DNA_transposon/APSI_primary_v1.MR_P2A_300Mb.REPET.superfamily.ClassII:?:Sola.nr.bed', '../../TE_analysis/DNA_transposon/APSI_primary_v1.MR_P2A_300Mb.REPET.superfamily.ClassII:TIR:MuDR.nr.bed', '../../TE_analysis/DNA_transposon/APSI_primary_v1.MR_P2A_300Mb.REPET.superfamily.ClassII:TIR:hAT.nr.bed', '../../TE_analysis/DNA_transposon/APSI_primary_v1.MR_P2A_300Mb.REPET.superfamily.ClassII:Maverick:?.nr.bed', '../../TE_analysis/DNA_transposon/APSI_primary_v1.MR_P2A_300Mb.REPET.superfamily.ClassII:?:Kolobok.nr.bed', '../../TE_analysis/DNA_transposon/APSI_primary_v1.MR_P2A_300Mb.REPET.superfamily.ClassII:?:Ginger1.nr.bed', '../../TE_analysis/DNA_transposon/APSI_primary_v1.MR_P2A_300Mb.REPET.superfamily.ClassII:MITE:?.nr.bed', '../../TE_analysis/DNA_transposon/APSI_primary_v1.MR_P2A_300Mb.REPET.superfamily.ClassII:TIR:PiggyBac.nr.bed', '../../TE_analysis/DNA_transposon/APSI_primary_v1.MR_P2A_300Mb.REPET.superfamily.ClassII:Maverick:Maverick.nr.bed', '../../TE_analysis/DNA_transposon/APSI_primary_v1.MR_P2A_300Mb.REPET.superfamily.ClassII:Helitron:Helitron.nr.bed', '../../TE_analysis/DNA_transposon/APSI_primary_v1.MR_P2A_300Mb.REPET.superfamily.ClassII:?:?.nr.bed', '../../TE_analysis/DNA_transposon/APSI_primary_v1.MR_P2A_300Mb.REPET.superfamily.ClassII:?:Ginger2_TDD.nr.bed', '../../TE_analysis/DNA_transposon/APSI_primary_v1.MR_P2A_300Mb.REPET.superfamily.ClassII:?:Novosib.nr.bed', '../../TE_analysis/DNA_transposon/APSI_primary_v1.MR_P2A_300Mb.REPET.superfamily.ClassII:Helitron:?.nr.bed', '../../TE_analysis/DNA_transposon/APSI_primary_v1.MR_P2A_300Mb.REPET.superfamily.ClassII:TIR:Transib.nr.bed', '../../TE_analysis/DNA_transposon/APSI_primary_v1.MR_P2A_300Mb.REPET.superfamily.ClassII:TIR:PIF-Harbinger.nr.bed', '../../TE_analysis/DNA_transposon/APSI_primary_v1.MR_P2A_300Mb.REPET.superfamily.ClassII:Crypton:Crypton.nr.bed']\n"
     ]
    }
   ],
   "source": [
    "for _class in classes:\n",
    "    _class_df_list = []\n",
    "    tmp_path = [x for x in TE_path if x.endswith(_class)][0]\n",
    "    gff_files = [os.path.join(tmp_path, x) for x in os.listdir(tmp_path) if x.endswith('.gff')]\n",
    "    orders = []\n",
    "    \n",
    "    if _class == 'SSR' or _class == 'noCat':\n",
    "        tmp_bed = pybedtools.BedTool(gff_files[0]).sort().merge()\n",
    "        tmp_df = tmp_bed.to_dataframe()\n",
    "        tmp_df['cov'] = tmp_df['end'] - tmp_df['start']\n",
    "        coverage = tmp_df['cov'].sum()\n",
    "        class_cov_dict[_class] = [coverage]\n",
    "        \n",
    "    else:    \n",
    "    \n",
    "        for gff_file in gff_files:\n",
    "            #sort out the superfamilies\n",
    "            tmp_bed = pybedtools.BedTool(gff_file).sort().merge()\n",
    "            tmp_df = tmp_bed.to_dataframe()\n",
    "            tmp_df['cov'] = tmp_df['end'] - tmp_df['start']\n",
    "            coverage = tmp_df['cov'].sum()\n",
    "            superfamily = os.path.basename(gff_file).split('.')[-2]\n",
    "            superfamily_cov_dict[superfamily] = [coverage]\n",
    "            orders.append(superfamily.split(':')[1])        \n",
    "            tmp_bed.saveas(gff_file.replace('.gff', '.nr.bed'))\n",
    "\n",
    "        #now look into orders but don't take previous generarted 'order' and 'class' files.\n",
    "        nr_gff_files = [os.path.join(tmp_path, x) for x in os.listdir(tmp_path) if x.endswith('.nr.bed') and x.split(\".\")[3] != 'order' and x.split(\".\")[3] != 'class']\n",
    "\n",
    "        for order in set(orders):\n",
    "            print(_class)\n",
    "            print(nr_gff_files)\n",
    "            order_files = [x for x in nr_gff_files if os.path.basename(x).split('.')[4].split(':')[1] == order]\n",
    "            out_fn = order_files[0]\n",
    "            out_fn = '%s%s%s%s' % (out_fn[:out_fn.index('superfamily')], 'order.', order, '.bed')\n",
    "\n",
    "            concatfiles(out_fn, order_files)\n",
    "\n",
    "            tmp_bed = pybedtools.BedTool(out_fn).sort().merge()\n",
    "            tmp_df = tmp_bed.to_dataframe()\n",
    "            tmp_df['cov'] = tmp_df['end'] - tmp_df['start']\n",
    "            coverage = tmp_df['cov'].sum()\n",
    "            order_cov_dict[order] = [coverage]\n",
    "\n",
    "\n",
    "            tmp_bed.saveas(out_fn.replace('.bed', '.nr.bed'))\n",
    "\n",
    "\n",
    "        nr_gff_files = [os.path.join(tmp_path, x) for x in os.listdir(tmp_path) if x.endswith('.nr.bed') and os.path.basename(x).split('.')[3] == 'order']\n",
    "\n",
    "        out_fn = nr_gff_files[0]\n",
    "        out_fn = '%s%s%s%s' % (out_fn[:out_fn.index('order')], 'class.', _class, '.bed')\n",
    "        concatfiles(out_fn, nr_gff_files)\n",
    "        tmp_bed = pybedtools.BedTool(out_fn).sort().merge()\n",
    "        tmp_df = tmp_bed.to_dataframe()\n",
    "        tmp_df['cov'] = tmp_df['end'] - tmp_df['start']\n",
    "        coverage = tmp_df['cov'].sum()\n",
    "        class_cov_dict[_class] = [coverage]\n",
    "        tmp_bed.saveas(out_fn.replace('.bed', '.nr.bed'))"
   ]
  },
  {
   "cell_type": "code",
   "execution_count": 144,
   "metadata": {},
   "outputs": [],
   "source": [
    "#total coverage\n",
    "tmp_bed = pybedtools.BedTool(TE_gff_fh).sort().merge()\n",
    "tmp_df = tmp_bed.to_dataframe()\n",
    "tmp_df['cov'] = tmp_df['end'] - tmp_df['start']\n",
    "total_TE_coverage = tmp_df['cov'].sum()"
   ]
  },
  {
   "cell_type": "code",
   "execution_count": 145,
   "metadata": {},
   "outputs": [],
   "source": [
    "class_cov_dict['cov_all_TEs'] = total_TE_coverage"
   ]
  },
  {
   "cell_type": "code",
   "execution_count": 153,
   "metadata": {},
   "outputs": [
    {
     "data": {
      "text/plain": [
       "{'SSR', 'noCat'}"
      ]
     },
     "execution_count": 153,
     "metadata": {},
     "output_type": "execute_result"
    }
   ],
   "source": [
    "set(superfamilies) - set(superfamily_cov_dict.keys())"
   ]
  },
  {
   "cell_type": "code",
   "execution_count": 147,
   "metadata": {},
   "outputs": [
    {
     "data": {
      "text/plain": [
       "{'?': [2478784],\n",
       " 'Crypton': [4221],\n",
       " 'DIRS': [167926],\n",
       " 'Helitron': [2333494],\n",
       " 'LARD': [27399008],\n",
       " 'LINE': [2940740],\n",
       " 'LTR': [796150116],\n",
       " 'MITE': [148411],\n",
       " 'Maverick': [427],\n",
       " 'PLE': [108342],\n",
       " 'SINE': [91666],\n",
       " 'TIR': [173864959],\n",
       " 'TRIM': [20546707]}"
      ]
     },
     "execution_count": 147,
     "metadata": {},
     "output_type": "execute_result"
    }
   ],
   "source": [
    "order_cov_dict"
   ]
  },
  {
   "cell_type": "code",
   "execution_count": 148,
   "metadata": {},
   "outputs": [
    {
     "data": {
      "text/plain": [
       "{'DNA_transposon': [178378268],\n",
       " 'Retrotransposon': [829491622],\n",
       " 'SSR': [37785675],\n",
       " 'cov_all_TEs': 932575815,\n",
       " 'noCat': [5369035]}"
      ]
     },
     "execution_count": 148,
     "metadata": {},
     "output_type": "execute_result"
    }
   ],
   "source": [
    "class_cov_dict"
   ]
  },
  {
   "cell_type": "code",
   "execution_count": null,
   "metadata": {},
   "outputs": [],
   "source": [
    "### need complete coverage of TEs based on repet_gff with sort merge"
   ]
  },
  {
   "cell_type": "code",
   "execution_count": 149,
   "metadata": {},
   "outputs": [],
   "source": [
    "cov_per_superfamily_df = pd.DataFrame.from_dict(superfamily_cov_dict).T\n",
    "cov_per_superfamily_df = cov_per_superfamily_df.append(pd.DataFrame.from_dict(class_cov_dict).T)"
   ]
  },
  {
   "cell_type": "code",
   "execution_count": 157,
   "metadata": {},
   "outputs": [],
   "source": [
    "cov_per_superfamily_df.rename(columns={0: 'bp'}, inplace=True)\n",
    "cov_per_superfamily_df['%'] = cov_per_superfamily_df['bp']/genome_size*100"
   ]
  },
  {
   "cell_type": "code",
   "execution_count": 165,
   "metadata": {},
   "outputs": [
    {
     "data": {
      "text/plain": [
       "Index(['ClassI:?:?', 'ClassI:DIRS:?', 'ClassI:DIRS:DIRS', 'ClassI:LARD:?',\n",
       "       'ClassI:LINE:?', 'ClassI:LINE:I', 'ClassI:LINE:Jockey',\n",
       "       'ClassI:LINE:L1', 'ClassI:LINE:R2', 'ClassI:LINE:RTE', 'ClassI:LTR:?',\n",
       "       'ClassI:LTR:Bel-Pao', 'ClassI:LTR:Copia', 'ClassI:LTR:ERV',\n",
       "       'ClassI:LTR:Gypsy', 'ClassI:LTR:Retrovirus', 'ClassI:PLE:Penelope',\n",
       "       'ClassI:SINE:5S', 'ClassI:SINE:?', 'ClassI:TRIM:?', 'ClassII:?:?',\n",
       "       'ClassII:?:Ginger1', 'ClassII:?:Ginger2_TDD', 'ClassII:?:Kolobok',\n",
       "       'ClassII:?:Novosib', 'ClassII:?:Sola', 'ClassII:Crypton:Crypton',\n",
       "       'ClassII:Helitron:?', 'ClassII:Helitron:Helitron', 'ClassII:MITE:?',\n",
       "       'ClassII:Maverick:?', 'ClassII:Maverick:Maverick', 'ClassII:TIR:?',\n",
       "       'ClassII:TIR:CACTA', 'ClassII:TIR:MuDR', 'ClassII:TIR:P',\n",
       "       'ClassII:TIR:PIF-Harbinger', 'ClassII:TIR:PiggyBac',\n",
       "       'ClassII:TIR:Tc1-Mariner', 'ClassII:TIR:Transib', 'ClassII:TIR:hAT',\n",
       "       'DNA_transposon', 'Retrotransposon', 'SSR', 'cov_all_TEs', 'noCat'],\n",
       "      dtype='object', name='Class:Order:Superfamily')"
      ]
     },
     "execution_count": 165,
     "metadata": {},
     "output_type": "execute_result"
    }
   ],
   "source": [
    "cov_per_superfamily_df.index"
   ]
  },
  {
   "cell_type": "code",
   "execution_count": 167,
   "metadata": {},
   "outputs": [],
   "source": [
    "cov_per_superfamily_df['Class:Order:Superfamily'] = cov_per_superfamily_df.index"
   ]
  },
  {
   "cell_type": "code",
   "execution_count": 168,
   "metadata": {},
   "outputs": [],
   "source": [
    "cov_per_superfamily_df.index.rename('Class:Order:Superfamily', inplace = True)\n",
    "cov_per_superfamily_df['Class'] = cov_per_superfamily_df.apply(lambda row: TE_classification_filter(row['Class:Order:Superfamily'], 0), axis=1)\n",
    "cov_per_superfamily_df['Order'] = cov_per_superfamily_df.apply(lambda row: TE_classification_filter(row['Class:Order:Superfamily'], 1), axis=1)\n",
    "cov_per_superfamily_df['Superfamily'] = cov_per_superfamily_df.apply(lambda row: TE_classification_filter(row['Class:Order:Superfamily'], 2), axis=1)"
   ]
  },
  {
   "cell_type": "code",
   "execution_count": 172,
   "metadata": {},
   "outputs": [],
   "source": [
    "cov_per_class_df = pd.DataFrame.from_dict(class_cov_dict).T\n",
    "cov_per_class_df.rename(columns={0: 'bp'}, inplace=True)\n",
    "cov_per_class_df['%'] = cov_per_class_df['bp']/genome_size*100"
   ]
  },
  {
   "cell_type": "code",
   "execution_count": 169,
   "metadata": {},
   "outputs": [
    {
     "data": {
      "text/html": [
       "<div>\n",
       "<style scoped>\n",
       "    .dataframe tbody tr th:only-of-type {\n",
       "        vertical-align: middle;\n",
       "    }\n",
       "\n",
       "    .dataframe tbody tr th {\n",
       "        vertical-align: top;\n",
       "    }\n",
       "\n",
       "    .dataframe thead th {\n",
       "        text-align: right;\n",
       "    }\n",
       "</style>\n",
       "<table border=\"1\" class=\"dataframe\">\n",
       "  <thead>\n",
       "    <tr style=\"text-align: right;\">\n",
       "      <th></th>\n",
       "      <th>bp</th>\n",
       "      <th>%</th>\n",
       "      <th>Class:Order:Superfamily</th>\n",
       "      <th>Class</th>\n",
       "      <th>Order</th>\n",
       "      <th>Superfamily</th>\n",
       "    </tr>\n",
       "    <tr>\n",
       "      <th>Class:Order:Superfamily</th>\n",
       "      <th></th>\n",
       "      <th></th>\n",
       "      <th></th>\n",
       "      <th></th>\n",
       "      <th></th>\n",
       "      <th></th>\n",
       "    </tr>\n",
       "  </thead>\n",
       "  <tbody>\n",
       "    <tr>\n",
       "      <th>ClassI:?:?</th>\n",
       "      <td>214413</td>\n",
       "      <td>0.021054</td>\n",
       "      <td>ClassI:?:?</td>\n",
       "      <td>Retrotransposon</td>\n",
       "      <td>noCat</td>\n",
       "      <td>noCat</td>\n",
       "    </tr>\n",
       "    <tr>\n",
       "      <th>ClassI:DIRS:?</th>\n",
       "      <td>106701</td>\n",
       "      <td>0.010477</td>\n",
       "      <td>ClassI:DIRS:?</td>\n",
       "      <td>Retrotransposon</td>\n",
       "      <td>DIRS</td>\n",
       "      <td>noCat</td>\n",
       "    </tr>\n",
       "    <tr>\n",
       "      <th>ClassI:DIRS:DIRS</th>\n",
       "      <td>61225</td>\n",
       "      <td>0.006012</td>\n",
       "      <td>ClassI:DIRS:DIRS</td>\n",
       "      <td>Retrotransposon</td>\n",
       "      <td>DIRS</td>\n",
       "      <td>DIRS</td>\n",
       "    </tr>\n",
       "    <tr>\n",
       "      <th>ClassI:LARD:?</th>\n",
       "      <td>27399008</td>\n",
       "      <td>2.690401</td>\n",
       "      <td>ClassI:LARD:?</td>\n",
       "      <td>Retrotransposon</td>\n",
       "      <td>LARD</td>\n",
       "      <td>noCat</td>\n",
       "    </tr>\n",
       "    <tr>\n",
       "      <th>ClassI:LINE:?</th>\n",
       "      <td>628140</td>\n",
       "      <td>0.061679</td>\n",
       "      <td>ClassI:LINE:?</td>\n",
       "      <td>Retrotransposon</td>\n",
       "      <td>LINE</td>\n",
       "      <td>noCat</td>\n",
       "    </tr>\n",
       "    <tr>\n",
       "      <th>ClassI:LINE:I</th>\n",
       "      <td>2386948</td>\n",
       "      <td>0.234382</td>\n",
       "      <td>ClassI:LINE:I</td>\n",
       "      <td>Retrotransposon</td>\n",
       "      <td>LINE</td>\n",
       "      <td>I</td>\n",
       "    </tr>\n",
       "    <tr>\n",
       "      <th>ClassI:LINE:Jockey</th>\n",
       "      <td>34506</td>\n",
       "      <td>0.003388</td>\n",
       "      <td>ClassI:LINE:Jockey</td>\n",
       "      <td>Retrotransposon</td>\n",
       "      <td>LINE</td>\n",
       "      <td>Jockey</td>\n",
       "    </tr>\n",
       "    <tr>\n",
       "      <th>ClassI:LINE:L1</th>\n",
       "      <td>889</td>\n",
       "      <td>0.000087</td>\n",
       "      <td>ClassI:LINE:L1</td>\n",
       "      <td>Retrotransposon</td>\n",
       "      <td>LINE</td>\n",
       "      <td>L1</td>\n",
       "    </tr>\n",
       "    <tr>\n",
       "      <th>ClassI:LINE:R2</th>\n",
       "      <td>5899</td>\n",
       "      <td>0.000579</td>\n",
       "      <td>ClassI:LINE:R2</td>\n",
       "      <td>Retrotransposon</td>\n",
       "      <td>LINE</td>\n",
       "      <td>R2</td>\n",
       "    </tr>\n",
       "    <tr>\n",
       "      <th>ClassI:LINE:RTE</th>\n",
       "      <td>4360</td>\n",
       "      <td>0.000428</td>\n",
       "      <td>ClassI:LINE:RTE</td>\n",
       "      <td>Retrotransposon</td>\n",
       "      <td>LINE</td>\n",
       "      <td>RTE</td>\n",
       "    </tr>\n",
       "    <tr>\n",
       "      <th>ClassI:LTR:?</th>\n",
       "      <td>27807762</td>\n",
       "      <td>2.730538</td>\n",
       "      <td>ClassI:LTR:?</td>\n",
       "      <td>Retrotransposon</td>\n",
       "      <td>LTR</td>\n",
       "      <td>noCat</td>\n",
       "    </tr>\n",
       "    <tr>\n",
       "      <th>ClassI:LTR:Bel-Pao</th>\n",
       "      <td>66141</td>\n",
       "      <td>0.006495</td>\n",
       "      <td>ClassI:LTR:Bel-Pao</td>\n",
       "      <td>Retrotransposon</td>\n",
       "      <td>LTR</td>\n",
       "      <td>Bel-Pao</td>\n",
       "    </tr>\n",
       "    <tr>\n",
       "      <th>ClassI:LTR:Copia</th>\n",
       "      <td>64765841</td>\n",
       "      <td>6.359575</td>\n",
       "      <td>ClassI:LTR:Copia</td>\n",
       "      <td>Retrotransposon</td>\n",
       "      <td>LTR</td>\n",
       "      <td>Copia</td>\n",
       "    </tr>\n",
       "    <tr>\n",
       "      <th>ClassI:LTR:ERV</th>\n",
       "      <td>2615094</td>\n",
       "      <td>0.256785</td>\n",
       "      <td>ClassI:LTR:ERV</td>\n",
       "      <td>Retrotransposon</td>\n",
       "      <td>LTR</td>\n",
       "      <td>ERV</td>\n",
       "    </tr>\n",
       "    <tr>\n",
       "      <th>ClassI:LTR:Gypsy</th>\n",
       "      <td>744220388</td>\n",
       "      <td>73.077499</td>\n",
       "      <td>ClassI:LTR:Gypsy</td>\n",
       "      <td>Retrotransposon</td>\n",
       "      <td>LTR</td>\n",
       "      <td>Gypsy</td>\n",
       "    </tr>\n",
       "    <tr>\n",
       "      <th>ClassI:LTR:Retrovirus</th>\n",
       "      <td>114690</td>\n",
       "      <td>0.011262</td>\n",
       "      <td>ClassI:LTR:Retrovirus</td>\n",
       "      <td>Retrotransposon</td>\n",
       "      <td>LTR</td>\n",
       "      <td>Retrovirus</td>\n",
       "    </tr>\n",
       "    <tr>\n",
       "      <th>ClassI:PLE:Penelope</th>\n",
       "      <td>108342</td>\n",
       "      <td>0.010638</td>\n",
       "      <td>ClassI:PLE:Penelope</td>\n",
       "      <td>Retrotransposon</td>\n",
       "      <td>PLE</td>\n",
       "      <td>Penelope</td>\n",
       "    </tr>\n",
       "    <tr>\n",
       "      <th>ClassI:SINE:5S</th>\n",
       "      <td>450</td>\n",
       "      <td>0.000044</td>\n",
       "      <td>ClassI:SINE:5S</td>\n",
       "      <td>Retrotransposon</td>\n",
       "      <td>SINE</td>\n",
       "      <td>5S</td>\n",
       "    </tr>\n",
       "    <tr>\n",
       "      <th>ClassI:SINE:?</th>\n",
       "      <td>91216</td>\n",
       "      <td>0.008957</td>\n",
       "      <td>ClassI:SINE:?</td>\n",
       "      <td>Retrotransposon</td>\n",
       "      <td>SINE</td>\n",
       "      <td>noCat</td>\n",
       "    </tr>\n",
       "    <tr>\n",
       "      <th>ClassI:TRIM:?</th>\n",
       "      <td>20546707</td>\n",
       "      <td>2.017550</td>\n",
       "      <td>ClassI:TRIM:?</td>\n",
       "      <td>Retrotransposon</td>\n",
       "      <td>TRIM</td>\n",
       "      <td>noCat</td>\n",
       "    </tr>\n",
       "    <tr>\n",
       "      <th>ClassII:?:?</th>\n",
       "      <td>2216667</td>\n",
       "      <td>0.217662</td>\n",
       "      <td>ClassII:?:?</td>\n",
       "      <td>DNA_transposon</td>\n",
       "      <td>noCat</td>\n",
       "      <td>noCat</td>\n",
       "    </tr>\n",
       "    <tr>\n",
       "      <th>ClassII:?:Ginger1</th>\n",
       "      <td>187004</td>\n",
       "      <td>0.018363</td>\n",
       "      <td>ClassII:?:Ginger1</td>\n",
       "      <td>DNA_transposon</td>\n",
       "      <td>noCat</td>\n",
       "      <td>Ginger1</td>\n",
       "    </tr>\n",
       "    <tr>\n",
       "      <th>ClassII:?:Ginger2_TDD</th>\n",
       "      <td>65326</td>\n",
       "      <td>0.006415</td>\n",
       "      <td>ClassII:?:Ginger2_TDD</td>\n",
       "      <td>DNA_transposon</td>\n",
       "      <td>noCat</td>\n",
       "      <td>Ginger2_TDD</td>\n",
       "    </tr>\n",
       "    <tr>\n",
       "      <th>ClassII:?:Kolobok</th>\n",
       "      <td>2478</td>\n",
       "      <td>0.000243</td>\n",
       "      <td>ClassII:?:Kolobok</td>\n",
       "      <td>DNA_transposon</td>\n",
       "      <td>noCat</td>\n",
       "      <td>Kolobok</td>\n",
       "    </tr>\n",
       "    <tr>\n",
       "      <th>ClassII:?:Novosib</th>\n",
       "      <td>11443</td>\n",
       "      <td>0.001124</td>\n",
       "      <td>ClassII:?:Novosib</td>\n",
       "      <td>DNA_transposon</td>\n",
       "      <td>noCat</td>\n",
       "      <td>Novosib</td>\n",
       "    </tr>\n",
       "    <tr>\n",
       "      <th>ClassII:?:Sola</th>\n",
       "      <td>10346</td>\n",
       "      <td>0.001016</td>\n",
       "      <td>ClassII:?:Sola</td>\n",
       "      <td>DNA_transposon</td>\n",
       "      <td>noCat</td>\n",
       "      <td>Sola</td>\n",
       "    </tr>\n",
       "    <tr>\n",
       "      <th>ClassII:Crypton:Crypton</th>\n",
       "      <td>4221</td>\n",
       "      <td>0.000414</td>\n",
       "      <td>ClassII:Crypton:Crypton</td>\n",
       "      <td>DNA_transposon</td>\n",
       "      <td>Crypton</td>\n",
       "      <td>Crypton</td>\n",
       "    </tr>\n",
       "    <tr>\n",
       "      <th>ClassII:Helitron:?</th>\n",
       "      <td>1808299</td>\n",
       "      <td>0.177563</td>\n",
       "      <td>ClassII:Helitron:?</td>\n",
       "      <td>DNA_transposon</td>\n",
       "      <td>Helitron</td>\n",
       "      <td>noCat</td>\n",
       "    </tr>\n",
       "    <tr>\n",
       "      <th>ClassII:Helitron:Helitron</th>\n",
       "      <td>876910</td>\n",
       "      <td>0.086107</td>\n",
       "      <td>ClassII:Helitron:Helitron</td>\n",
       "      <td>DNA_transposon</td>\n",
       "      <td>Helitron</td>\n",
       "      <td>Helitron</td>\n",
       "    </tr>\n",
       "    <tr>\n",
       "      <th>ClassII:MITE:?</th>\n",
       "      <td>148411</td>\n",
       "      <td>0.014573</td>\n",
       "      <td>ClassII:MITE:?</td>\n",
       "      <td>DNA_transposon</td>\n",
       "      <td>MITE</td>\n",
       "      <td>noCat</td>\n",
       "    </tr>\n",
       "    <tr>\n",
       "      <th>ClassII:Maverick:?</th>\n",
       "      <td>400</td>\n",
       "      <td>0.000039</td>\n",
       "      <td>ClassII:Maverick:?</td>\n",
       "      <td>DNA_transposon</td>\n",
       "      <td>Maverick</td>\n",
       "      <td>noCat</td>\n",
       "    </tr>\n",
       "    <tr>\n",
       "      <th>ClassII:Maverick:Maverick</th>\n",
       "      <td>27</td>\n",
       "      <td>0.000003</td>\n",
       "      <td>ClassII:Maverick:Maverick</td>\n",
       "      <td>DNA_transposon</td>\n",
       "      <td>Maverick</td>\n",
       "      <td>Maverick</td>\n",
       "    </tr>\n",
       "    <tr>\n",
       "      <th>ClassII:TIR:?</th>\n",
       "      <td>110363471</td>\n",
       "      <td>10.836960</td>\n",
       "      <td>ClassII:TIR:?</td>\n",
       "      <td>DNA_transposon</td>\n",
       "      <td>TIR</td>\n",
       "      <td>noCat</td>\n",
       "    </tr>\n",
       "    <tr>\n",
       "      <th>ClassII:TIR:CACTA</th>\n",
       "      <td>36709428</td>\n",
       "      <td>3.604622</td>\n",
       "      <td>ClassII:TIR:CACTA</td>\n",
       "      <td>DNA_transposon</td>\n",
       "      <td>TIR</td>\n",
       "      <td>CACTA</td>\n",
       "    </tr>\n",
       "    <tr>\n",
       "      <th>ClassII:TIR:MuDR</th>\n",
       "      <td>22209129</td>\n",
       "      <td>2.180789</td>\n",
       "      <td>ClassII:TIR:MuDR</td>\n",
       "      <td>DNA_transposon</td>\n",
       "      <td>TIR</td>\n",
       "      <td>MuDR</td>\n",
       "    </tr>\n",
       "    <tr>\n",
       "      <th>ClassII:TIR:P</th>\n",
       "      <td>23283</td>\n",
       "      <td>0.002286</td>\n",
       "      <td>ClassII:TIR:P</td>\n",
       "      <td>DNA_transposon</td>\n",
       "      <td>TIR</td>\n",
       "      <td>P</td>\n",
       "    </tr>\n",
       "    <tr>\n",
       "      <th>ClassII:TIR:PIF-Harbinger</th>\n",
       "      <td>18120806</td>\n",
       "      <td>1.779343</td>\n",
       "      <td>ClassII:TIR:PIF-Harbinger</td>\n",
       "      <td>DNA_transposon</td>\n",
       "      <td>TIR</td>\n",
       "      <td>PIF-Harbinger</td>\n",
       "    </tr>\n",
       "    <tr>\n",
       "      <th>ClassII:TIR:PiggyBac</th>\n",
       "      <td>2893</td>\n",
       "      <td>0.000284</td>\n",
       "      <td>ClassII:TIR:PiggyBac</td>\n",
       "      <td>DNA_transposon</td>\n",
       "      <td>TIR</td>\n",
       "      <td>PiggyBac</td>\n",
       "    </tr>\n",
       "    <tr>\n",
       "      <th>ClassII:TIR:Tc1-Mariner</th>\n",
       "      <td>4178210</td>\n",
       "      <td>0.410272</td>\n",
       "      <td>ClassII:TIR:Tc1-Mariner</td>\n",
       "      <td>DNA_transposon</td>\n",
       "      <td>TIR</td>\n",
       "      <td>Tc1-Mariner</td>\n",
       "    </tr>\n",
       "    <tr>\n",
       "      <th>ClassII:TIR:Transib</th>\n",
       "      <td>216</td>\n",
       "      <td>0.000021</td>\n",
       "      <td>ClassII:TIR:Transib</td>\n",
       "      <td>DNA_transposon</td>\n",
       "      <td>TIR</td>\n",
       "      <td>Transib</td>\n",
       "    </tr>\n",
       "    <tr>\n",
       "      <th>ClassII:TIR:hAT</th>\n",
       "      <td>4432583</td>\n",
       "      <td>0.435250</td>\n",
       "      <td>ClassII:TIR:hAT</td>\n",
       "      <td>DNA_transposon</td>\n",
       "      <td>TIR</td>\n",
       "      <td>hAT</td>\n",
       "    </tr>\n",
       "    <tr>\n",
       "      <th>DNA_transposon</th>\n",
       "      <td>178378268</td>\n",
       "      <td>17.515561</td>\n",
       "      <td>DNA_transposon</td>\n",
       "      <td>DNA_transposon</td>\n",
       "      <td>DNA_transposon</td>\n",
       "      <td>DNA_transposon</td>\n",
       "    </tr>\n",
       "    <tr>\n",
       "      <th>Retrotransposon</th>\n",
       "      <td>829491622</td>\n",
       "      <td>81.450568</td>\n",
       "      <td>Retrotransposon</td>\n",
       "      <td>Retrotransposon</td>\n",
       "      <td>Retrotransposon</td>\n",
       "      <td>Retrotransposon</td>\n",
       "    </tr>\n",
       "    <tr>\n",
       "      <th>SSR</th>\n",
       "      <td>37785675</td>\n",
       "      <td>3.710302</td>\n",
       "      <td>SSR</td>\n",
       "      <td>SSR</td>\n",
       "      <td>SSR</td>\n",
       "      <td>SSR</td>\n",
       "    </tr>\n",
       "    <tr>\n",
       "      <th>cov_all_TEs</th>\n",
       "      <td>932575815</td>\n",
       "      <td>91.572751</td>\n",
       "      <td>cov_all_TEs</td>\n",
       "      <td>cov_all_TEs</td>\n",
       "      <td>cov_all_TEs</td>\n",
       "      <td>cov_all_TEs</td>\n",
       "    </tr>\n",
       "    <tr>\n",
       "      <th>noCat</th>\n",
       "      <td>5369035</td>\n",
       "      <td>0.527204</td>\n",
       "      <td>noCat</td>\n",
       "      <td>noCat</td>\n",
       "      <td>noCat</td>\n",
       "      <td>noCat</td>\n",
       "    </tr>\n",
       "  </tbody>\n",
       "</table>\n",
       "</div>"
      ],
      "text/plain": [
       "                                  bp          %    Class:Order:Superfamily  \\\n",
       "Class:Order:Superfamily                                                      \n",
       "ClassI:?:?                    214413   0.021054                 ClassI:?:?   \n",
       "ClassI:DIRS:?                 106701   0.010477              ClassI:DIRS:?   \n",
       "ClassI:DIRS:DIRS               61225   0.006012           ClassI:DIRS:DIRS   \n",
       "ClassI:LARD:?               27399008   2.690401              ClassI:LARD:?   \n",
       "ClassI:LINE:?                 628140   0.061679              ClassI:LINE:?   \n",
       "ClassI:LINE:I                2386948   0.234382              ClassI:LINE:I   \n",
       "ClassI:LINE:Jockey             34506   0.003388         ClassI:LINE:Jockey   \n",
       "ClassI:LINE:L1                   889   0.000087             ClassI:LINE:L1   \n",
       "ClassI:LINE:R2                  5899   0.000579             ClassI:LINE:R2   \n",
       "ClassI:LINE:RTE                 4360   0.000428            ClassI:LINE:RTE   \n",
       "ClassI:LTR:?                27807762   2.730538               ClassI:LTR:?   \n",
       "ClassI:LTR:Bel-Pao             66141   0.006495         ClassI:LTR:Bel-Pao   \n",
       "ClassI:LTR:Copia            64765841   6.359575           ClassI:LTR:Copia   \n",
       "ClassI:LTR:ERV               2615094   0.256785             ClassI:LTR:ERV   \n",
       "ClassI:LTR:Gypsy           744220388  73.077499           ClassI:LTR:Gypsy   \n",
       "ClassI:LTR:Retrovirus         114690   0.011262      ClassI:LTR:Retrovirus   \n",
       "ClassI:PLE:Penelope           108342   0.010638        ClassI:PLE:Penelope   \n",
       "ClassI:SINE:5S                   450   0.000044             ClassI:SINE:5S   \n",
       "ClassI:SINE:?                  91216   0.008957              ClassI:SINE:?   \n",
       "ClassI:TRIM:?               20546707   2.017550              ClassI:TRIM:?   \n",
       "ClassII:?:?                  2216667   0.217662                ClassII:?:?   \n",
       "ClassII:?:Ginger1             187004   0.018363          ClassII:?:Ginger1   \n",
       "ClassII:?:Ginger2_TDD          65326   0.006415      ClassII:?:Ginger2_TDD   \n",
       "ClassII:?:Kolobok               2478   0.000243          ClassII:?:Kolobok   \n",
       "ClassII:?:Novosib              11443   0.001124          ClassII:?:Novosib   \n",
       "ClassII:?:Sola                 10346   0.001016             ClassII:?:Sola   \n",
       "ClassII:Crypton:Crypton         4221   0.000414    ClassII:Crypton:Crypton   \n",
       "ClassII:Helitron:?           1808299   0.177563         ClassII:Helitron:?   \n",
       "ClassII:Helitron:Helitron     876910   0.086107  ClassII:Helitron:Helitron   \n",
       "ClassII:MITE:?                148411   0.014573             ClassII:MITE:?   \n",
       "ClassII:Maverick:?               400   0.000039         ClassII:Maverick:?   \n",
       "ClassII:Maverick:Maverick         27   0.000003  ClassII:Maverick:Maverick   \n",
       "ClassII:TIR:?              110363471  10.836960              ClassII:TIR:?   \n",
       "ClassII:TIR:CACTA           36709428   3.604622          ClassII:TIR:CACTA   \n",
       "ClassII:TIR:MuDR            22209129   2.180789           ClassII:TIR:MuDR   \n",
       "ClassII:TIR:P                  23283   0.002286              ClassII:TIR:P   \n",
       "ClassII:TIR:PIF-Harbinger   18120806   1.779343  ClassII:TIR:PIF-Harbinger   \n",
       "ClassII:TIR:PiggyBac            2893   0.000284       ClassII:TIR:PiggyBac   \n",
       "ClassII:TIR:Tc1-Mariner      4178210   0.410272    ClassII:TIR:Tc1-Mariner   \n",
       "ClassII:TIR:Transib              216   0.000021        ClassII:TIR:Transib   \n",
       "ClassII:TIR:hAT              4432583   0.435250            ClassII:TIR:hAT   \n",
       "DNA_transposon             178378268  17.515561             DNA_transposon   \n",
       "Retrotransposon            829491622  81.450568            Retrotransposon   \n",
       "SSR                         37785675   3.710302                        SSR   \n",
       "cov_all_TEs                932575815  91.572751                cov_all_TEs   \n",
       "noCat                        5369035   0.527204                      noCat   \n",
       "\n",
       "                                     Class            Order      Superfamily  \n",
       "Class:Order:Superfamily                                                       \n",
       "ClassI:?:?                 Retrotransposon            noCat            noCat  \n",
       "ClassI:DIRS:?              Retrotransposon             DIRS            noCat  \n",
       "ClassI:DIRS:DIRS           Retrotransposon             DIRS             DIRS  \n",
       "ClassI:LARD:?              Retrotransposon             LARD            noCat  \n",
       "ClassI:LINE:?              Retrotransposon             LINE            noCat  \n",
       "ClassI:LINE:I              Retrotransposon             LINE                I  \n",
       "ClassI:LINE:Jockey         Retrotransposon             LINE           Jockey  \n",
       "ClassI:LINE:L1             Retrotransposon             LINE               L1  \n",
       "ClassI:LINE:R2             Retrotransposon             LINE               R2  \n",
       "ClassI:LINE:RTE            Retrotransposon             LINE              RTE  \n",
       "ClassI:LTR:?               Retrotransposon              LTR            noCat  \n",
       "ClassI:LTR:Bel-Pao         Retrotransposon              LTR          Bel-Pao  \n",
       "ClassI:LTR:Copia           Retrotransposon              LTR            Copia  \n",
       "ClassI:LTR:ERV             Retrotransposon              LTR              ERV  \n",
       "ClassI:LTR:Gypsy           Retrotransposon              LTR            Gypsy  \n",
       "ClassI:LTR:Retrovirus      Retrotransposon              LTR       Retrovirus  \n",
       "ClassI:PLE:Penelope        Retrotransposon              PLE         Penelope  \n",
       "ClassI:SINE:5S             Retrotransposon             SINE               5S  \n",
       "ClassI:SINE:?              Retrotransposon             SINE            noCat  \n",
       "ClassI:TRIM:?              Retrotransposon             TRIM            noCat  \n",
       "ClassII:?:?                 DNA_transposon            noCat            noCat  \n",
       "ClassII:?:Ginger1           DNA_transposon            noCat          Ginger1  \n",
       "ClassII:?:Ginger2_TDD       DNA_transposon            noCat      Ginger2_TDD  \n",
       "ClassII:?:Kolobok           DNA_transposon            noCat          Kolobok  \n",
       "ClassII:?:Novosib           DNA_transposon            noCat          Novosib  \n",
       "ClassII:?:Sola              DNA_transposon            noCat             Sola  \n",
       "ClassII:Crypton:Crypton     DNA_transposon          Crypton          Crypton  \n",
       "ClassII:Helitron:?          DNA_transposon         Helitron            noCat  \n",
       "ClassII:Helitron:Helitron   DNA_transposon         Helitron         Helitron  \n",
       "ClassII:MITE:?              DNA_transposon             MITE            noCat  \n",
       "ClassII:Maverick:?          DNA_transposon         Maverick            noCat  \n",
       "ClassII:Maverick:Maverick   DNA_transposon         Maverick         Maverick  \n",
       "ClassII:TIR:?               DNA_transposon              TIR            noCat  \n",
       "ClassII:TIR:CACTA           DNA_transposon              TIR            CACTA  \n",
       "ClassII:TIR:MuDR            DNA_transposon              TIR             MuDR  \n",
       "ClassII:TIR:P               DNA_transposon              TIR                P  \n",
       "ClassII:TIR:PIF-Harbinger   DNA_transposon              TIR    PIF-Harbinger  \n",
       "ClassII:TIR:PiggyBac        DNA_transposon              TIR         PiggyBac  \n",
       "ClassII:TIR:Tc1-Mariner     DNA_transposon              TIR      Tc1-Mariner  \n",
       "ClassII:TIR:Transib         DNA_transposon              TIR          Transib  \n",
       "ClassII:TIR:hAT             DNA_transposon              TIR              hAT  \n",
       "DNA_transposon              DNA_transposon   DNA_transposon   DNA_transposon  \n",
       "Retrotransposon            Retrotransposon  Retrotransposon  Retrotransposon  \n",
       "SSR                                    SSR              SSR              SSR  \n",
       "cov_all_TEs                    cov_all_TEs      cov_all_TEs      cov_all_TEs  \n",
       "noCat                                noCat            noCat            noCat  "
      ]
     },
     "execution_count": 169,
     "metadata": {},
     "output_type": "execute_result"
    }
   ],
   "source": [
    "cov_per_superfamily_df"
   ]
  },
  {
   "cell_type": "code",
   "execution_count": 170,
   "metadata": {},
   "outputs": [],
   "source": [
    "cov_per_superfamily_df.to_csv(out_dir+'/'+repet_prefix_S+'.tab', sep='\\t')"
   ]
  },
  {
   "cell_type": "code",
   "execution_count": null,
   "metadata": {},
   "outputs": [],
   "source": []
  },
  {
   "cell_type": "code",
   "execution_count": 179,
   "metadata": {
    "ExecuteTime": {
     "end_time": "2019-08-26T07:07:37.456004Z",
     "start_time": "2019-08-26T07:07:35.880263Z"
    }
   },
   "outputs": [
    {
     "data": {
      "image/png": "[encoded data removed]",
      "text/plain": [
       "<Figure size 864x1080 with 3 Axes>"
      ]
     },
     "metadata": {},
     "output_type": "display_data"
    }
   ],
   "source": [
    "plt.style.use('seaborn-talk')\n",
    "fig, (ax0, ax1, ax2) = plt.subplots(nrows=3, ncols=1, figsize=(12,15))\n",
    "fig.suptitle(\"Repetitive elements in  %s\" % genome, fontsize=14, fontweight = 'bold')\n",
    "\n",
    "#color cycle from color blind people \n",
    "CB_color_cycle = ['#377eb8', '#ff7f00', '#4daf4a',\n",
    "                  '#f781bf', '#a65628', '#984ea3',\n",
    "'#999999', '#e41a1c', '#dede00']\n",
    "\n",
    "#plot the overall genome coverage by repetitive element category\n",
    "cov_per_class_df.sort_values(['%'], inplace=True)\n",
    "cov_per_class_df.plot(kind='barh', y='%', ax=ax0,  color='r')\n",
    "ax0.set_xlim([-5,100])\n",
    "ax0.legend().set_visible(False)\n",
    "ax0.set_yticklabels(list(cov_per_class_df.index),fontsize=10, fontweight='bold')\n",
    "ax0.set_ylabel(ylabel='RE categories', fontsize=14, fontweight='bold')\n",
    "\n",
    "#plot class I \n",
    "classI_df = cov_per_superfamily_df[cov_per_superfamily_df['Class'] == 'Retrotransposon'].sort_values('%',\\\n",
    "                                                            ascending=True)\n",
    "classI_df.drop('Retrotransposon', inplace = True)\n",
    "#pick out the colors to do color matching on the order level\n",
    "tmp_cn = len(classI_df['Order'].unique())\n",
    "tmp_colors = CB_color_cycle[0:tmp_cn]\n",
    "tmp_col_dict = dict(zip(classI_df['Order'].unique(), tmp_colors))\n",
    "classI_df['Color'] = classI_df['Order'].apply(lambda x: tmp_col_dict[x])\n",
    "ax1.barh(np.arange(len(classI_df.index)), classI_df['%'],\n",
    "        color=classI_df['Color'], ecolor='black')\n",
    "ax1.set_yticks(np.arange(len(classI_df.index)))\n",
    "ax1.set_xlim([-2,90])\n",
    "ax1.set_yticklabels(list(classI_df.index),fontsize=10, fontweight='bold')\n",
    "ax1.set_ylabel(ylabel='Class:Order:Superfamily', fontsize=14, fontweight='bold')\n",
    "ax1.set_title('ClassI: Retrotransposons', fontsize=14, fontweight='bold')\n",
    "\n",
    "#add tick lables\n",
    "\n",
    "for p, value in zip(ax1.patches, classI_df['%']):\n",
    "    ax1.annotate('{0:.3f}'.format(value), (80,p.get_y() * 1.005),fontsize=10, fontweight='bold' )\n",
    "\n",
    "#plot class II\n",
    "classII_df = cov_per_superfamily_df[cov_per_superfamily_df['Class'] == 'DNA_transposon'].sort_values('%',\\\n",
    "                                                                                        ascending=True)\n",
    "classII_df.drop('DNA_transposon', inplace = True)\n",
    "\n",
    "#pick out the colors to do color matching on the order level\n",
    "tmp_cn = len(classII_df['Order'].unique())\n",
    "tmp_colors = CB_color_cycle[0:tmp_cn]\n",
    "tmp_col_dict = dict(zip(classII_df['Order'].unique(), tmp_colors))\n",
    "classII_df['Color'] = classII_df['Order'].apply(lambda x: tmp_col_dict[x])\n",
    "\n",
    "#plot the class II out\n",
    "\n",
    "ax2.barh(np.arange(len(classII_df.index)), classII_df['%'],\n",
    "        color=classII_df['Color'], ecolor='black')\n",
    "\n",
    "ax2.set_xlim([-2, 90])\n",
    "ax2.set_yticks(np.arange(len(classII_df.index)))\n",
    "\n",
    "ax2.set_yticklabels(list(classII_df.index),fontsize=10, fontweight='bold')\n",
    "ax2.set_ylabel(ylabel='Class:Order:Superfamily', fontsize=14, fontweight='bold')\n",
    "ax2.set_title('ClassII: DNA transposons', fontsize=14, fontweight='bold')\n",
    "ax2.set_xlabel('% genome coverage', fontsize=14, fontweight='bold')\n",
    "\n",
    "#add tick lables\n",
    "\n",
    "for p, value in zip(ax2.patches, classII_df['%']):\n",
    "    ax2.annotate('{0:.3f}'.format(value), (80 ,p.get_y() * 1.005),fontsize=10, fontweight='bold' )\n",
    "\n",
    "    \n",
    "##OUTPATH for figures\n",
    "   \n",
    "#fig.savefig(os.path.join(out_dir, genome+'.REPET_summary_pc.seaborn-talk.png'), dpi=600, bbox_inches=\"tight\")\n",
    "outfn = os.path.join(OUTPATH, genome+'.REPET_summary_pc.seaborn-talk.tiff')\n",
    "#fig.savefig(outfn, dpi=600, bbox_inches=\"tight\")"
   ]
  },
  {
   "cell_type": "code",
   "execution_count": null,
   "metadata": {
    "ExecuteTime": {
     "end_time": "2019-08-26T07:09:51.489226Z",
     "start_time": "2019-08-26T07:09:18.032575Z"
    }
   },
   "outputs": [],
   "source": [
    "plt.style.use('seaborn-talk')\n",
    "fig, (ax0, ax1, ax2) = plt.subplots(nrows=3, ncols=1, figsize=(12,15))\n",
    "fig.suptitle(\"Repetitive elements in P. striformis f. sp. tritici %s\" % genome, fontsize=14, fontweight = 'bold')\n",
    "\n",
    "#color cycle from color blind people \n",
    "CB_color_cycle = ['#377eb8', '#ff7f00', '#4daf4a',\n",
    "                  '#f781bf', '#a65628', '#984ea3',\n",
    "'#999999', '#e41a1c', '#dede00']\n",
    "\n",
    "#plot the overall genome coverage by repetitive element category\n",
    "cov_per_class_df.plot(kind='barh', y='bp', ax=ax0,  color='r')\n",
    "ax0.set_xlim([-5,50000000])\n",
    "ax0.legend().set_visible(False)\n",
    "ax0.set_yticklabels(list(cov_per_class_df.index),fontsize=10, fontweight='bold')\n",
    "ax0.set_ylabel(ylabel='RE categories', fontsize=14, fontweight='bold')\n",
    "\n",
    "#plot class I \n",
    "classI_df = cov_per_superfamily_df[cov_per_superfamily_df['Class'] == 'Retrotransposon'].sort_values('%',\\\n",
    "                                                            ascending=True)\n",
    "#pick out the colors to do color matching on the order level\n",
    "tmp_cn = len(classI_df['Order'].unique())\n",
    "tmp_colors = CB_color_cycle[0:tmp_cn]\n",
    "tmp_col_dict = dict(zip(classI_df['Order'].unique(), tmp_colors))\n",
    "classI_df['Color'] = classI_df['Order'].apply(lambda x: tmp_col_dict[x])\n",
    "ax1.barh(np.arange(len(classI_df.index)), classI_df['bp'],\n",
    "        color=classI_df['Color'], ecolor='black')\n",
    "ax1.set_yticks(np.arange(len(classI_df.index)))\n",
    "ax1.set_xlim([-2,14000000])\n",
    "ax1.set_yticklabels(list(classI_df.index),fontsize=10, fontweight='bold')\n",
    "ax1.set_ylabel(ylabel='Class:Order:Superfamily', fontsize=14, fontweight='bold')\n",
    "ax1.set_title('ClassI: Retrotransposons', fontsize=14, fontweight='bold')\n",
    "\n",
    "#add tick lables\n",
    "\n",
    "for p, value in zip(ax1.patches, classI_df['bp']):\n",
    "    ax1.annotate('{0:.2E}'.format(value), (14000000,p.get_y() * 1.005),fontsize=10, fontweight='bold' )\n",
    "\n",
    "#plot class II\n",
    "classII_df = cov_per_superfamily_df[cov_per_superfamily_df['Class'] == 'DNA_transposon'].sort_values('%',\\\n",
    "                                                                                        ascending=True)\n",
    "\n",
    "#pick out the colors to do color matching on the order level\n",
    "tmp_cn = len(classII_df['Order'].unique())\n",
    "tmp_colors = CB_color_cycle[0:tmp_cn]\n",
    "tmp_col_dict = dict(zip(classII_df['Order'].unique(), tmp_colors))\n",
    "classII_df['Color'] = classII_df['Order'].apply(lambda x: tmp_col_dict[x])\n",
    "\n",
    "#plot the class II out\n",
    "\n",
    "ax2.barh(np.arange(len(classII_df.index)), classII_df['bp'],\n",
    "        color=classII_df['Color'], ecolor='black')\n",
    "\n",
    "ax2.set_xlim([-2,14000000])\n",
    "ax2.set_yticks(np.arange(len(classII_df.index)))\n",
    "\n",
    "ax2.set_yticklabels(list(classII_df.index),fontsize=10, fontweight='bold')\n",
    "ax2.set_ylabel(ylabel='Class:Order:Superfamily', fontsize=14, fontweight='bold')\n",
    "ax2.set_title('ClassII: DNA transposons', fontsize=14, fontweight='bold')\n",
    "ax2.set_xlabel('bp genome coverage', fontsize=14, fontweight='bold')\n",
    "\n",
    "#add tick lables\n",
    "\n",
    "for p, value in zip(ax2.patches, classII_df['bp']):\n",
    "    ax2.annotate('{0:.2E}'.format(value), (14000000 ,p.get_y() * 1.005),fontsize=10, fontweight='bold' )\n",
    "    \n",
    "fig.savefig(os.path.join(out_dir, genome+'.REPET_summary_bpcov.seaborn-talk.png'), dpi=600, bbox_inches=\"tight\")\n",
    "\n",
    "outfn = os.path.join(OUTPATH, genome+'.REPET_summary_bpcov.seaborn-talk.tiff')\n",
    "fig.savefig(outfn, dpi=600, bbox_inches=\"tight\")"
   ]
  },
  {
   "cell_type": "markdown",
   "metadata": {},
   "source": [
    "### Now some analysis of the divergence of the TEs"
   ]
  },
  {
   "cell_type": "code",
   "execution_count": 181,
   "metadata": {
    "ExecuteTime": {
     "end_time": "2019-08-26T07:05:27.278615Z",
     "start_time": "2019-08-26T07:05:26.991766Z"
    },
    "collapsed": true
   },
   "outputs": [],
   "source": [
    "#now get the summary of allTEs == TEs specificaly identified by TEdenovo from REPET\n",
    "REPET_denovoTEs_df = pd.read_csv(\\\n",
    "        os.path.join(TE_postanalysis_dir, '%s_chr_allTEs_nr_noSSR_join_path.annotStatsPerTE.tab' % genome_repet),\\\n",
    "                                names = TE_post_analysis_p_header, header=None, sep='\\t', skiprows=1 )\n",
    "\n",
    "#now get in the summary of all bankBLRx TEs == TEs identified by repbase20.05_ntSeq_cleaned_TE\n",
    "REPET_nt_repbase_df = pd.read_csv(\\\n",
    "    os.path.join(TE_postanalysis_dir, '%s_chr_bankBLRx_path.annotStatsPerTE.tab' % genome_repet) ,\\\n",
    "    names = TE_post_analysis_p_header, header=None, sep='\\t', skiprows=1 )\n",
    "\n",
    "#now get in the summary of all bankBLRtx TEs == TEs identified by repbase20.05_aaSeq_cleaned_TE\n",
    "REPET_aa_repbase_df = pd.read_csv(\\\n",
    "    os.path.join(TE_postanalysis_dir, '%s_chr_bankBLRtx_path.annotStatsPerTE.tab' % genome_repet) ,\\\n",
    "    names = TE_post_analysis_p_header, header=None, sep='\\t', skiprows=1 )\n"
   ]
  },
  {
   "cell_type": "code",
   "execution_count": 182,
   "metadata": {
    "ExecuteTime": {
     "end_time": "2019-08-26T07:05:28.200215Z",
     "start_time": "2019-08-26T07:05:28.178349Z"
    },
    "collapsed": true
   },
   "outputs": [],
   "source": [
    "#generate a df that contains all TEs: TEdenovo, blastx, blastn\n",
    "REPET_all_TEs_df = pd.concat([REPET_denovoTEs_df ,REPET_nt_repbase_df,\\\n",
    "                                       REPET_aa_repbase_df], axis=0)"
   ]
  },
  {
   "cell_type": "code",
   "execution_count": 183,
   "metadata": {
    "ExecuteTime": {
     "end_time": "2019-08-26T07:05:29.092590Z",
     "start_time": "2019-08-26T07:05:29.056652Z"
    },
    "collapsed": true
   },
   "outputs": [],
   "source": [
    "REPET_all_TEs_df = REPET_all_TEs_df[REPET_all_TEs_df.copies > 0]\n",
    "REPET_all_TEs_df = REPET_all_TEs_df[~REPET_all_TEs_df.TE.str.startswith(\"Potential\")]"
   ]
  },
  {
   "cell_type": "code",
   "execution_count": 184,
   "metadata": {
    "ExecuteTime": {
     "end_time": "2019-08-26T07:05:30.098882Z",
     "start_time": "2019-08-26T07:05:30.048396Z"
    },
    "collapsed": true
   },
   "outputs": [],
   "source": [
    "#update the TE_COS_dict with missing values that come mostly from blastx and blastn searches.\n",
    "missing_TE_keys = list(set(REPET_all_TEs_df.TE.unique())- set(TE_COS_dict.keys()))\n",
    "missing_TE_values  = [x[x.find(':')+1:] for x in missing_TE_keys]\n",
    "TE_COS_dict.update(dict(zip(missing_TE_keys ,missing_TE_values )))"
   ]
  },
  {
   "cell_type": "code",
   "execution_count": 185,
   "metadata": {
    "ExecuteTime": {
     "end_time": "2019-08-26T07:05:31.094809Z",
     "start_time": "2019-08-26T07:05:30.910808Z"
    },
    "collapsed": true
   },
   "outputs": [],
   "source": [
    "#get the Class/order/superfamily column to the dataframe based on the TE_COS_dict\n",
    "REPET_all_TEs_df[\"COS\"] = REPET_all_TEs_df[\"TE\"].apply(lambda x: TE_COS_dict[x])"
   ]
  },
  {
   "cell_type": "code",
   "execution_count": 186,
   "metadata": {
    "ExecuteTime": {
     "end_time": "2019-08-26T07:05:32.080202Z",
     "start_time": "2019-08-26T07:05:32.047468Z"
    },
    "collapsed": true
   },
   "outputs": [],
   "source": [
    "#using the formula T=D/t in arXiv:1209.0176 [q-bio] to approximate TE age\n",
    "# where D = (100-meanId)/100 and \n",
    "# t the substitution rate per site per year\n",
    "# generations per year are estimate at 15 10.1111/j.1365-294X.2007.03513.x\n",
    "# estimate of subsitution rate per year = 2 * 10-9 10.1093/oxfordjournals.molbev.a004056 and\n",
    "# 10.1016/j.fbr.2010.03.001\n",
    "REPET_all_TEs_df['TE_age_Mya'] = (((100-REPET_all_TEs_df.meanId)/100)\\\n",
    "                                        /(2*10**-9))/10**6\n",
    "REPET_all_TEs_df['TE_age'] = (((100-REPET_all_TEs_df.meanId)/100)\\\n",
    "                                        /(2*10**-9))\n",
    "REPET_all_TEs_df = REPET_all_TEs_df[REPET_all_TEs_df.copies > 5]\n"
   ]
  },
  {
   "cell_type": "code",
   "execution_count": 187,
   "metadata": {
    "ExecuteTime": {
     "end_time": "2019-08-26T07:05:33.220792Z",
     "start_time": "2019-08-26T07:05:33.201220Z"
    },
    "collapsed": true
   },
   "outputs": [],
   "source": [
    "REPET_ClassI_TEs_df = REPET_all_TEs_df[REPET_all_TEs_df.COS.str.startswith('ClassI:')]\n",
    "REPET_ClassII_TEs_df = REPET_all_TEs_df[REPET_all_TEs_df.COS.str.startswith('ClassII:')]"
   ]
  },
  {
   "cell_type": "code",
   "execution_count": 188,
   "metadata": {
    "ExecuteTime": {
     "end_time": "2019-08-26T07:05:34.889667Z",
     "start_time": "2019-08-26T07:05:34.880081Z"
    },
    "collapsed": true
   },
   "outputs": [],
   "source": [
    "font = {'family' : 'normal',\n",
    "        'weight' : 'bold',\n",
    "        'size'   : 20}\n",
    "label_config_x = {'fontsize'            : 'large',\n",
    "      'verticalalignment'   : 'top',\n",
    "      'horizontalalignment' : 'center'\n",
    "      }\n",
    "label_config_y = {'fontsize'            : 'large',\n",
    "      'verticalalignment'   : 'bottom',\n",
    "      'horizontalalignment' : 'center'\n",
    "      }\n",
    "matplotlib.rc('font', **font)"
   ]
  },
  {
   "cell_type": "code",
   "execution_count": 190,
   "metadata": {},
   "outputs": [
    {
     "name": "stderr",
     "output_type": "stream",
     "text": [
      "/home/benjamin/anaconda3/lib/python3.5/site-packages/ipykernel/__main__.py:1: SettingWithCopyWarning: \n",
      "A value is trying to be set on a copy of a slice from a DataFrame\n",
      "\n",
      "See the caveats in the documentation: http://pandas.pydata.org/pandas-docs/stable/indexing.html#indexing-view-versus-copy\n",
      "  if __name__ == '__main__':\n"
     ]
    },
    {
     "data": {
      "text/plain": [
       "<matplotlib.axes._subplots.AxesSubplot at 0x7f98c8045dd8>"
      ]
     },
     "execution_count": 190,
     "metadata": {},
     "output_type": "execute_result"
    },
    {
     "data": {
      "image/png": "[encoded data removed]",
      "text/plain": [
       "<Figure size 748.8x514.8 with 1 Axes>"
      ]
     },
     "metadata": {},
     "output_type": "display_data"
    }
   ],
   "source": [
    "REPET_ClassI_TEs_df.sort_values(by='COS', inplace=True)\n",
    "sns.boxplot(x='meanId', y='COS', data=REPET_ClassI_TEs_df,palette=\"vlag\")"
   ]
  },
  {
   "cell_type": "code",
   "execution_count": 189,
   "metadata": {
    "ExecuteTime": {
     "end_time": "2019-08-26T07:05:36.939338Z",
     "start_time": "2019-08-26T07:05:35.685419Z"
    }
   },
   "outputs": [
    {
     "name": "stderr",
     "output_type": "stream",
     "text": [
      "/home/benjamin/anaconda3/lib/python3.5/site-packages/ipykernel/__main__.py:7: SettingWithCopyWarning: \n",
      "A value is trying to be set on a copy of a slice from a DataFrame\n",
      "\n",
      "See the caveats in the documentation: http://pandas.pydata.org/pandas-docs/stable/indexing.html#indexing-view-versus-copy\n"
     ]
    },
    {
     "data": {
      "image/png": "[encoded data removed]",
      "text/plain": [
       "<Figure size 504x432 with 1 Axes>"
      ]
     },
     "metadata": {},
     "output_type": "display_data"
    }
   ],
   "source": [
    "sns.set(style=\"ticks\")\n",
    "\n",
    "# Initialize the figure with a logarithmic x axis\n",
    "f, ax = plt.subplots(figsize=(7, 6))\n",
    "ax.set_xscale(\"log\")\n",
    "\n",
    "REPET_ClassI_TEs_df.sort_values(by='COS', inplace=True)\n",
    "sns.boxplot(x='TE_age', y='COS', data=REPET_ClassI_TEs_df,palette=\"vlag\")\n",
    "\n",
    "plt.xlim(5*10**4, 10**9)\n",
    "plt.ylabel(\"Class:Order:Superfamily\",fontsize = 12, weight= 'bold')\n",
    "plt.xlabel(\"Age [years]\",fontsize = 12, weight= 'bold')\n",
    "\n",
    "ax.xaxis.grid(True)\n",
    "sns.despine(trim=True, left=True)\n",
    "out_fn = os.path.join(out_dir, '%s_%s_ClassI_age.png' % (genome, Tenovodb))"
   ]
  },
  {
   "cell_type": "code",
   "execution_count": 192,
   "metadata": {
    "ExecuteTime": {
     "end_time": "2019-08-26T07:05:48.299483Z",
     "start_time": "2019-08-26T07:05:39.985585Z"
    }
   },
   "outputs": [
    {
     "name": "stderr",
     "output_type": "stream",
     "text": [
      "/home/benjamin/anaconda3/lib/python3.5/site-packages/ipykernel/__main__.py:7: SettingWithCopyWarning: \n",
      "A value is trying to be set on a copy of a slice from a DataFrame\n",
      "\n",
      "See the caveats in the documentation: http://pandas.pydata.org/pandas-docs/stable/indexing.html#indexing-view-versus-copy\n"
     ]
    },
    {
     "data": {
      "image/png": "[encoded data removed]",
      "text/plain": [
       "<Figure size 504x432 with 1 Axes>"
      ]
     },
     "metadata": {},
     "output_type": "display_data"
    }
   ],
   "source": [
    "sns.set(style=\"ticks\")\n",
    "\n",
    "# Initialize the figure with a logarithmic x axis\n",
    "f, ax = plt.subplots(figsize=(7, 6))\n",
    "ax.set_xscale(\"log\")\n",
    "\n",
    "REPET_ClassI_TEs_df.sort_values(by='COS', inplace=True)\n",
    "sns.boxplot(x='TE_age', y='COS', data=REPET_ClassI_TEs_df,palette=\"vlag\")\n",
    "\n",
    "plt.xlim(5*10**6, 10**9)\n",
    "plt.ylabel(\"Class:Order:Superfamily\",fontsize = 12, weight= 'bold')\n",
    "plt.xlabel(\"Age [years]\",fontsize = 12, weight= 'bold')\n",
    "\n",
    "ax.xaxis.grid(True)\n",
    "sns.despine(trim=True, left=True)\n",
    "out_fn = os.path.join(out_dir, '%s_%s_ClassI_age.png' % (genome, Tenovodb))\n",
    "#f.savefig(out_fn, dpi=600,bbox_inches=\"tight\")\n",
    "\n"
   ]
  },
  {
   "cell_type": "code",
   "execution_count": 196,
   "metadata": {},
   "outputs": [
    {
     "name": "stderr",
     "output_type": "stream",
     "text": [
      "/home/benjamin/anaconda3/lib/python3.5/site-packages/ipykernel/__main__.py:1: SettingWithCopyWarning: \n",
      "A value is trying to be set on a copy of a slice from a DataFrame\n",
      "\n",
      "See the caveats in the documentation: http://pandas.pydata.org/pandas-docs/stable/indexing.html#indexing-view-versus-copy\n",
      "  if __name__ == '__main__':\n"
     ]
    },
    {
     "data": {
      "text/plain": [
       "<matplotlib.axes._subplots.AxesSubplot at 0x7f98c8077c50>"
      ]
     },
     "execution_count": 196,
     "metadata": {},
     "output_type": "execute_result"
    },
    {
     "data": {
      "image/png": "[encoded data removed]",
      "text/plain": [
       "<Figure size 748.8x514.8 with 1 Axes>"
      ]
     },
     "metadata": {},
     "output_type": "display_data"
    }
   ],
   "source": [
    "REPET_ClassII_TEs_df.sort_values(by='COS', inplace=True)\n",
    "sns.boxplot(x='meanId', y='COS', data=REPET_ClassII_TEs_df,palette=\"vlag\")"
   ]
  },
  {
   "cell_type": "code",
   "execution_count": 194,
   "metadata": {
    "ExecuteTime": {
     "end_time": "2019-08-26T07:05:56.224097Z",
     "start_time": "2019-08-26T07:05:48.301791Z"
    }
   },
   "outputs": [
    {
     "name": "stderr",
     "output_type": "stream",
     "text": [
      "/home/benjamin/anaconda3/lib/python3.5/site-packages/ipykernel/__main__.py:7: SettingWithCopyWarning: \n",
      "A value is trying to be set on a copy of a slice from a DataFrame\n",
      "\n",
      "See the caveats in the documentation: http://pandas.pydata.org/pandas-docs/stable/indexing.html#indexing-view-versus-copy\n"
     ]
    },
    {
     "data": {
      "image/png": "[encoded data removed]",
      "text/plain": [
       "<Figure size 504x432 with 1 Axes>"
      ]
     },
     "metadata": {},
     "output_type": "display_data"
    }
   ],
   "source": [
    "sns.set(style=\"ticks\")\n",
    "\n",
    "# Initialize the figure with a logarithmic x axis\n",
    "f, ax = plt.subplots(figsize=(7, 6))\n",
    "ax.set_xscale(\"log\")\n",
    "\n",
    "REPET_ClassII_TEs_df.sort_values(by='COS', inplace=True)\n",
    "sns.boxplot(x='TE_age', y='COS', data=REPET_ClassII_TEs_df,palette=\"vlag\")\n",
    "\n",
    "plt.xlim(5*10**6, 10**9)\n",
    "plt.ylabel(\"Class:Order:Superfamily\",fontsize = 12, weight= 'bold')\n",
    "plt.xlabel(\"Age [years]\",fontsize = 12, weight= 'bold')\n",
    "\n",
    "ax.xaxis.grid(True)\n",
    "sns.despine(trim=True, left=True)\n",
    "out_fn = os.path.join(out_dir, '%s_%s_ClassII_age.png' % (genome, Tenovodb))\n",
    "#f.savefig(out_fn, dpi=600,bbox_inches=\"tight\")\n"
   ]
  },
  {
   "cell_type": "code",
   "execution_count": 195,
   "metadata": {
    "ExecuteTime": {
     "end_time": "2019-08-26T07:06:05.526292Z",
     "start_time": "2019-08-26T07:06:04.564158Z"
    }
   },
   "outputs": [
    {
     "name": "stderr",
     "output_type": "stream",
     "text": [
      "/home/benjamin/anaconda3/lib/python3.5/site-packages/ipykernel/__main__.py:7: SettingWithCopyWarning: \n",
      "A value is trying to be set on a copy of a slice from a DataFrame\n",
      "\n",
      "See the caveats in the documentation: http://pandas.pydata.org/pandas-docs/stable/indexing.html#indexing-view-versus-copy\n"
     ]
    },
    {
     "data": {
      "image/png": "[encoded data removed]",
      "text/plain": [
       "<Figure size 504x432 with 1 Axes>"
      ]
     },
     "metadata": {},
     "output_type": "display_data"
    }
   ],
   "source": [
    "sns.set(style=\"ticks\")\n",
    "\n",
    "# Initialize the figure with a logarithmic x axis\n",
    "f, ax = plt.subplots(figsize=(7, 6))\n",
    "ax.set_xscale(\"log\")\n",
    "\n",
    "REPET_ClassII_TEs_df.sort_values(by='COS', inplace=True)\n",
    "sns.boxplot(x='TE_age', y='COS', data=REPET_ClassII_TEs_df,palette=\"vlag\")\n",
    "\n",
    "plt.xlim(5*10**4, 10**9)\n",
    "plt.ylabel(\"Class:Order:Superfamily\",fontsize = 12, weight= 'bold')\n",
    "plt.xlabel(\"Age [years]\",fontsize = 12, weight= 'bold')\n",
    "\n",
    "ax.xaxis.grid(True)\n",
    "sns.despine(trim=True, left=True)\n",
    "out_fn = os.path.join(out_dir, '%s_%s_ClassII_age.png' % (genome, Tenovodb))"
   ]
  },
  {
   "cell_type": "code",
   "execution_count": 245,
   "metadata": {
    "ExecuteTime": {
     "end_time": "2019-08-26T07:06:10.870203Z",
     "start_time": "2019-08-26T07:06:10.802438Z"
    }
   },
   "outputs": [],
   "source": [
    "sub_df_young_many = REPET_all_TEs_df[(REPET_all_TEs_df.copies > 50) &( REPET_all_TEs_df.meanId > 75)]\n",
    "\n",
    "sub_df_young_many_by_COS_sum = sub_df_young_many.groupby('COS').sum()\n",
    "\n",
    "sub_df_young_many_by_COS_sum['Class'] = 'noCat'\n",
    "sub_df_young_many_by_COS_sum[\"Index\"] = sub_df_young_many_by_COS_sum.index\n",
    "sub_df_young_many_by_COS_sum['Order'] = 'noCat'\n",
    "sub_df_young_many_by_COS_sum['Class:Order'] = 'noCat'\n",
    "\n",
    "#generate Class column or noCat\n",
    "sub_df_young_many_by_COS_sum.loc[\\\n",
    "sub_df_young_many_by_COS_sum[sub_df_young_many_by_COS_sum.index.str.contains(':')].index\\\n",
    "                                 , \"Class\"] =\\\n",
    "sub_df_young_many_by_COS_sum[sub_df_young_many_by_COS_sum.index.str.contains(':')].Index.apply\\\n",
    "(lambda x: x.split(':')[0])\n",
    "\n",
    "#generate Order column or noCat\n",
    "sub_df_young_many_by_COS_sum.loc[\\\n",
    "sub_df_young_many_by_COS_sum[sub_df_young_many_by_COS_sum.index.str.contains(':')].index\\\n",
    "                                 , \"Order\"] =\\\n",
    "sub_df_young_many_by_COS_sum[sub_df_young_many_by_COS_sum.index.str.contains(':')].Index.apply\\\n",
    "(lambda x: x.split(':')[1])\n",
    "\n",
    "\n",
    "#generate Class order column\n",
    "sub_df_young_many_by_COS_sum.loc[\\\n",
    "sub_df_young_many_by_COS_sum[sub_df_young_many_by_COS_sum.index.str.contains(':')].index\\\n",
    "                                 , \"Class:Order\"] =\\\n",
    "sub_df_young_many_by_COS_sum[sub_df_young_many_by_COS_sum.index.str.contains(':')]['Class']\\\n",
    "+ ':' +\\\n",
    "sub_df_young_many_by_COS_sum[sub_df_young_many_by_COS_sum.index.str.contains(':')]['Order']"
   ]
  },
  {
   "cell_type": "code",
   "execution_count": 242,
   "metadata": {
    "ExecuteTime": {
     "end_time": "2019-08-26T07:06:12.346169Z",
     "start_time": "2019-08-26T07:06:12.320964Z"
    },
    "collapsed": true
   },
   "outputs": [],
   "source": [
    "#get color column sorted\n",
    "colors = sns.color_palette('cubehelix', n_colors=\\\n",
    "                           len(sub_df_young_many_by_COS_sum['Class:Order'].unique()))\n",
    "color_dict = dict(zip(sub_df_young_many_by_COS_sum['Class:Order'].unique(), colors))"
   ]
  },
  {
   "cell_type": "code",
   "execution_count": 243,
   "metadata": {
    "ExecuteTime": {
     "end_time": "2019-08-26T07:06:12.864770Z",
     "start_time": "2019-08-26T07:06:12.856284Z"
    },
    "collapsed": true
   },
   "outputs": [],
   "source": [
    "sub_df_young_many_by_COS_sum['color'] = sub_df_young_many_by_COS_sum['Class:Order'].apply(\\\n",
    "        lambda x: color_dict[x])\n",
    "color_index_dict = dict(zip(sub_df_young_many_by_COS_sum.Index, sub_df_young_many_by_COS_sum.color))"
   ]
  },
  {
   "cell_type": "code",
   "execution_count": 244,
   "metadata": {
    "ExecuteTime": {
     "end_time": "2019-08-26T07:06:31.061043Z",
     "start_time": "2019-08-26T07:06:29.397369Z"
    }
   },
   "outputs": [
    {
     "name": "stderr",
     "output_type": "stream",
     "text": [
      "No handles with labels found to put in legend.\n",
      "/home/benjamin/anaconda3/lib/python3.5/site-packages/matplotlib/font_manager.py:1328: UserWarning: findfont: Font family ['normal'] not found. Falling back to DejaVu Sans\n",
      "  (prop.get_family(), self.defaultFamily[fontext]))\n"
     ]
    },
    {
     "data": {
      "image/png": "[encoded data removed]",
      "text/plain": [
       "<Figure size 504x432 with 1 Axes>"
      ]
     },
     "metadata": {},
     "output_type": "display_data"
    }
   ],
   "source": [
    "sns.set(style=\"ticks\")\n",
    "#sns.set_style(\"whitegrid\")\n",
    "# Initialize the figure with a logarithmic x axis\n",
    "f, ax = plt.subplots(figsize=(7, 6))\n",
    "sns.barplot(sub_df_young_many_by_COS_sum.index, sub_df_young_many_by_COS_sum.covg/10**6,\\\n",
    "           palette=color_index_dict)\n",
    "plt.ylim(0, 700)\n",
    "plt.ylabel(\"Coverage [Mb]\",**font)\n",
    "plt.xlabel(\"\",**font)\n",
    "sns.despine(trim=True)\n",
    "\n",
    "#change the colors of the legend\n",
    "key_list = list(color_dict.keys())\n",
    "key_list.sort()\n",
    "plt.legend(key_list, loc=(1, 0.1))\n",
    "leg = ax.get_legend()\n",
    "for (x,y) in zip(key_list, leg.legendHandles):\n",
    "    y.set_color(color_dict[x])\n",
    "    \n",
    "\n",
    "\n",
    "for l in ax.get_xticklabels():\n",
    "    l.set_rotation(90)\n",
    "    l.set_fontsize(16)\n",
    "for l in ax.get_yticklabels():\n",
    "    l.set_fontsize(16)\n",
    "    \n",
    "plt.legend(frameon=False)\n",
    "#['top','bottom','left','right']\n",
    "for axis in ['bottom','left']:\n",
    "    ax.spines[axis].set_linewidth(2)\n",
    "for axis in ['top','right']:\n",
    "    ax.spines[axis].set_linewidth(0)\n",
    "ax.tick_params(width=2)    \n",
    "    \n",
    "out_fn = os.path.join(OUTPATH, 'SF2C_%s_%s_TEs_young_and_plenty.tiff'  % (genome, Tenovodb))\n",
    "#f.savefig(out_fn, dpi=600, bbox_inches=\"tight\")"
   ]
  },
  {
   "cell_type": "code",
   "execution_count": 246,
   "metadata": {},
   "outputs": [
    {
     "data": {
      "text/html": [
       "<div>\n",
       "<style scoped>\n",
       "    .dataframe tbody tr th:only-of-type {\n",
       "        vertical-align: middle;\n",
       "    }\n",
       "\n",
       "    .dataframe tbody tr th {\n",
       "        vertical-align: top;\n",
       "    }\n",
       "\n",
       "    .dataframe thead th {\n",
       "        text-align: right;\n",
       "    }\n",
       "</style>\n",
       "<table border=\"1\" class=\"dataframe\">\n",
       "  <thead>\n",
       "    <tr style=\"text-align: right;\">\n",
       "      <th></th>\n",
       "      <th>length</th>\n",
       "      <th>covg</th>\n",
       "      <th>frags</th>\n",
       "      <th>fullLgthFrags</th>\n",
       "      <th>copies</th>\n",
       "      <th>fullLgthCopies</th>\n",
       "      <th>meanId</th>\n",
       "      <th>sdId</th>\n",
       "      <th>minId</th>\n",
       "      <th>q25Id</th>\n",
       "      <th>...</th>\n",
       "      <th>q25LgthPerc</th>\n",
       "      <th>medLgthPerc</th>\n",
       "      <th>q75LgthPerc</th>\n",
       "      <th>maxLgthPerc</th>\n",
       "      <th>TE_age_Mya</th>\n",
       "      <th>TE_age</th>\n",
       "      <th>Class</th>\n",
       "      <th>Index</th>\n",
       "      <th>Order</th>\n",
       "      <th>Class:Order</th>\n",
       "    </tr>\n",
       "    <tr>\n",
       "      <th>COS</th>\n",
       "      <th></th>\n",
       "      <th></th>\n",
       "      <th></th>\n",
       "      <th></th>\n",
       "      <th></th>\n",
       "      <th></th>\n",
       "      <th></th>\n",
       "      <th></th>\n",
       "      <th></th>\n",
       "      <th></th>\n",
       "      <th></th>\n",
       "      <th></th>\n",
       "      <th></th>\n",
       "      <th></th>\n",
       "      <th></th>\n",
       "      <th></th>\n",
       "      <th></th>\n",
       "      <th></th>\n",
       "      <th></th>\n",
       "      <th></th>\n",
       "      <th></th>\n",
       "    </tr>\n",
       "  </thead>\n",
       "  <tbody>\n",
       "    <tr>\n",
       "      <th>ClassI:DIRS:?</th>\n",
       "      <td>13536</td>\n",
       "      <td>83829</td>\n",
       "      <td>103</td>\n",
       "      <td>0</td>\n",
       "      <td>79</td>\n",
       "      <td>0</td>\n",
       "      <td>79.17</td>\n",
       "      <td>10.75</td>\n",
       "      <td>57.90</td>\n",
       "      <td>71.29</td>\n",
       "      <td>...</td>\n",
       "      <td>0.44</td>\n",
       "      <td>2.31</td>\n",
       "      <td>13.02</td>\n",
       "      <td>82.97</td>\n",
       "      <td>104.15</td>\n",
       "      <td>1.041500e+08</td>\n",
       "      <td>ClassI</td>\n",
       "      <td>ClassI:DIRS:?</td>\n",
       "      <td>DIRS</td>\n",
       "      <td>ClassI:DIRS</td>\n",
       "    </tr>\n",
       "    <tr>\n",
       "      <th>ClassI:LARD:?</th>\n",
       "      <td>377903</td>\n",
       "      <td>8687447</td>\n",
       "      <td>14251</td>\n",
       "      <td>68</td>\n",
       "      <td>11567</td>\n",
       "      <td>92</td>\n",
       "      <td>3975.00</td>\n",
       "      <td>482.87</td>\n",
       "      <td>2939.32</td>\n",
       "      <td>3618.22</td>\n",
       "      <td>...</td>\n",
       "      <td>191.22</td>\n",
       "      <td>334.21</td>\n",
       "      <td>667.26</td>\n",
       "      <td>3543.41</td>\n",
       "      <td>5125.00</td>\n",
       "      <td>5.125000e+09</td>\n",
       "      <td>ClassI</td>\n",
       "      <td>ClassI:LARD:?</td>\n",
       "      <td>LARD</td>\n",
       "      <td>ClassI:LARD</td>\n",
       "    </tr>\n",
       "    <tr>\n",
       "      <th>ClassI:LINE:?</th>\n",
       "      <td>25562</td>\n",
       "      <td>430328</td>\n",
       "      <td>395</td>\n",
       "      <td>21</td>\n",
       "      <td>366</td>\n",
       "      <td>23</td>\n",
       "      <td>232.26</td>\n",
       "      <td>34.23</td>\n",
       "      <td>175.20</td>\n",
       "      <td>203.69</td>\n",
       "      <td>...</td>\n",
       "      <td>12.44</td>\n",
       "      <td>27.56</td>\n",
       "      <td>60.59</td>\n",
       "      <td>388.35</td>\n",
       "      <td>338.70</td>\n",
       "      <td>3.387000e+08</td>\n",
       "      <td>ClassI</td>\n",
       "      <td>ClassI:LINE:?</td>\n",
       "      <td>LINE</td>\n",
       "      <td>ClassI:LINE</td>\n",
       "    </tr>\n",
       "    <tr>\n",
       "      <th>ClassI:LINE:I</th>\n",
       "      <td>4068</td>\n",
       "      <td>26757</td>\n",
       "      <td>77</td>\n",
       "      <td>0</td>\n",
       "      <td>73</td>\n",
       "      <td>0</td>\n",
       "      <td>75.41</td>\n",
       "      <td>12.85</td>\n",
       "      <td>55.40</td>\n",
       "      <td>64.40</td>\n",
       "      <td>...</td>\n",
       "      <td>1.03</td>\n",
       "      <td>5.43</td>\n",
       "      <td>21.63</td>\n",
       "      <td>24.66</td>\n",
       "      <td>122.95</td>\n",
       "      <td>1.229500e+08</td>\n",
       "      <td>ClassI</td>\n",
       "      <td>ClassI:LINE:I</td>\n",
       "      <td>LINE</td>\n",
       "      <td>ClassI:LINE</td>\n",
       "    </tr>\n",
       "    <tr>\n",
       "      <th>ClassI:LTR:?</th>\n",
       "      <td>342308</td>\n",
       "      <td>16787285</td>\n",
       "      <td>14276</td>\n",
       "      <td>29</td>\n",
       "      <td>11259</td>\n",
       "      <td>30</td>\n",
       "      <td>1510.20</td>\n",
       "      <td>192.72</td>\n",
       "      <td>1082.89</td>\n",
       "      <td>1364.29</td>\n",
       "      <td>...</td>\n",
       "      <td>25.34</td>\n",
       "      <td>102.00</td>\n",
       "      <td>261.57</td>\n",
       "      <td>1706.85</td>\n",
       "      <td>1949.00</td>\n",
       "      <td>1.949000e+09</td>\n",
       "      <td>ClassI</td>\n",
       "      <td>ClassI:LTR:?</td>\n",
       "      <td>LTR</td>\n",
       "      <td>ClassI:LTR</td>\n",
       "    </tr>\n",
       "  </tbody>\n",
       "</table>\n",
       "<p>5 rows × 33 columns</p>\n",
       "</div>"
      ],
      "text/plain": [
       "               length      covg  frags  fullLgthFrags  copies  fullLgthCopies  \\\n",
       "COS                                                                             \n",
       "ClassI:DIRS:?   13536     83829    103              0      79               0   \n",
       "ClassI:LARD:?  377903   8687447  14251             68   11567              92   \n",
       "ClassI:LINE:?   25562    430328    395             21     366              23   \n",
       "ClassI:LINE:I    4068     26757     77              0      73               0   \n",
       "ClassI:LTR:?   342308  16787285  14276             29   11259              30   \n",
       "\n",
       "                meanId    sdId    minId    q25Id     ...       q25LgthPerc  \\\n",
       "COS                                                  ...                     \n",
       "ClassI:DIRS:?    79.17   10.75    57.90    71.29     ...              0.44   \n",
       "ClassI:LARD:?  3975.00  482.87  2939.32  3618.22     ...            191.22   \n",
       "ClassI:LINE:?   232.26   34.23   175.20   203.69     ...             12.44   \n",
       "ClassI:LINE:I    75.41   12.85    55.40    64.40     ...              1.03   \n",
       "ClassI:LTR:?   1510.20  192.72  1082.89  1364.29     ...             25.34   \n",
       "\n",
       "               medLgthPerc  q75LgthPerc  maxLgthPerc  TE_age_Mya  \\\n",
       "COS                                                                \n",
       "ClassI:DIRS:?         2.31        13.02        82.97      104.15   \n",
       "ClassI:LARD:?       334.21       667.26      3543.41     5125.00   \n",
       "ClassI:LINE:?        27.56        60.59       388.35      338.70   \n",
       "ClassI:LINE:I         5.43        21.63        24.66      122.95   \n",
       "ClassI:LTR:?        102.00       261.57      1706.85     1949.00   \n",
       "\n",
       "                     TE_age   Class          Index  Order  Class:Order  \n",
       "COS                                                                     \n",
       "ClassI:DIRS:?  1.041500e+08  ClassI  ClassI:DIRS:?   DIRS  ClassI:DIRS  \n",
       "ClassI:LARD:?  5.125000e+09  ClassI  ClassI:LARD:?   LARD  ClassI:LARD  \n",
       "ClassI:LINE:?  3.387000e+08  ClassI  ClassI:LINE:?   LINE  ClassI:LINE  \n",
       "ClassI:LINE:I  1.229500e+08  ClassI  ClassI:LINE:I   LINE  ClassI:LINE  \n",
       "ClassI:LTR:?   1.949000e+09  ClassI   ClassI:LTR:?    LTR   ClassI:LTR  \n",
       "\n",
       "[5 rows x 33 columns]"
      ]
     },
     "execution_count": 246,
     "metadata": {},
     "output_type": "execute_result"
    }
   ],
   "source": [
    "sub_df_young_many_by_COS_sum.head()"
   ]
  },
  {
   "cell_type": "code",
   "execution_count": 247,
   "metadata": {},
   "outputs": [
    {
     "data": {
      "text/html": [
       "<div>\n",
       "<style scoped>\n",
       "    .dataframe tbody tr th:only-of-type {\n",
       "        vertical-align: middle;\n",
       "    }\n",
       "\n",
       "    .dataframe tbody tr th {\n",
       "        vertical-align: top;\n",
       "    }\n",
       "\n",
       "    .dataframe thead th {\n",
       "        text-align: right;\n",
       "    }\n",
       "</style>\n",
       "<table border=\"1\" class=\"dataframe\">\n",
       "  <thead>\n",
       "    <tr style=\"text-align: right;\">\n",
       "      <th></th>\n",
       "      <th>TE</th>\n",
       "      <th>length</th>\n",
       "      <th>covg</th>\n",
       "      <th>frags</th>\n",
       "      <th>fullLgthFrags</th>\n",
       "      <th>copies</th>\n",
       "      <th>fullLgthCopies</th>\n",
       "      <th>meanId</th>\n",
       "      <th>sdId</th>\n",
       "      <th>minId</th>\n",
       "      <th>...</th>\n",
       "      <th>meanLgthPerc</th>\n",
       "      <th>sdLgthPerc</th>\n",
       "      <th>minLgthPerc</th>\n",
       "      <th>q25LgthPerc</th>\n",
       "      <th>medLgthPerc</th>\n",
       "      <th>q75LgthPerc</th>\n",
       "      <th>maxLgthPerc</th>\n",
       "      <th>COS</th>\n",
       "      <th>TE_age_Mya</th>\n",
       "      <th>TE_age</th>\n",
       "    </tr>\n",
       "  </thead>\n",
       "  <tbody>\n",
       "    <tr>\n",
       "      <th>1</th>\n",
       "      <td>DHX-incomp-chim_Blc36_MR_P2A_300Mb-L-B58-Map1_...</td>\n",
       "      <td>24248</td>\n",
       "      <td>465770</td>\n",
       "      <td>807</td>\n",
       "      <td>1</td>\n",
       "      <td>657</td>\n",
       "      <td>1</td>\n",
       "      <td>77.04</td>\n",
       "      <td>8.95</td>\n",
       "      <td>55.5</td>\n",
       "      <td>...</td>\n",
       "      <td>2.93</td>\n",
       "      <td>5.61</td>\n",
       "      <td>0.08</td>\n",
       "      <td>0.36</td>\n",
       "      <td>1.22</td>\n",
       "      <td>4.50</td>\n",
       "      <td>100.00</td>\n",
       "      <td>ClassII:Helitron:?</td>\n",
       "      <td>114.80</td>\n",
       "      <td>114800000.0</td>\n",
       "    </tr>\n",
       "    <tr>\n",
       "      <th>2</th>\n",
       "      <td>DHX-incomp-chim_Blc562_MR_P2A_300Mb-L-B575-Map...</td>\n",
       "      <td>16682</td>\n",
       "      <td>200619</td>\n",
       "      <td>176</td>\n",
       "      <td>1</td>\n",
       "      <td>138</td>\n",
       "      <td>1</td>\n",
       "      <td>80.70</td>\n",
       "      <td>10.14</td>\n",
       "      <td>58.7</td>\n",
       "      <td>...</td>\n",
       "      <td>8.72</td>\n",
       "      <td>13.93</td>\n",
       "      <td>0.13</td>\n",
       "      <td>0.86</td>\n",
       "      <td>3.27</td>\n",
       "      <td>10.38</td>\n",
       "      <td>100.00</td>\n",
       "      <td>ClassII:Helitron:?</td>\n",
       "      <td>96.50</td>\n",
       "      <td>96500000.0</td>\n",
       "    </tr>\n",
       "    <tr>\n",
       "      <th>9</th>\n",
       "      <td>DTX-comp_Blc3603_MR_P2A_300Mb-B-P275.0-Map3_re...</td>\n",
       "      <td>6203</td>\n",
       "      <td>2052232</td>\n",
       "      <td>1284</td>\n",
       "      <td>50</td>\n",
       "      <td>1052</td>\n",
       "      <td>58</td>\n",
       "      <td>78.07</td>\n",
       "      <td>9.57</td>\n",
       "      <td>55.8</td>\n",
       "      <td>...</td>\n",
       "      <td>31.46</td>\n",
       "      <td>26.47</td>\n",
       "      <td>0.34</td>\n",
       "      <td>10.51</td>\n",
       "      <td>24.83</td>\n",
       "      <td>48.35</td>\n",
       "      <td>103.53</td>\n",
       "      <td>ClassII:TIR:PIF-Harbinger</td>\n",
       "      <td>109.65</td>\n",
       "      <td>109650000.0</td>\n",
       "    </tr>\n",
       "    <tr>\n",
       "      <th>10</th>\n",
       "      <td>DTX-comp_Blc3621_MR_P2A_300Mb-B-P261.0-Map8</td>\n",
       "      <td>6020</td>\n",
       "      <td>388170</td>\n",
       "      <td>195</td>\n",
       "      <td>23</td>\n",
       "      <td>166</td>\n",
       "      <td>27</td>\n",
       "      <td>81.64</td>\n",
       "      <td>13.37</td>\n",
       "      <td>55.1</td>\n",
       "      <td>...</td>\n",
       "      <td>38.86</td>\n",
       "      <td>36.52</td>\n",
       "      <td>0.37</td>\n",
       "      <td>5.40</td>\n",
       "      <td>28.19</td>\n",
       "      <td>59.57</td>\n",
       "      <td>100.76</td>\n",
       "      <td>ClassII:TIR:PIF-Harbinger</td>\n",
       "      <td>91.80</td>\n",
       "      <td>91800000.0</td>\n",
       "    </tr>\n",
       "    <tr>\n",
       "      <th>12</th>\n",
       "      <td>DTX-comp_Blc3635_MR_P2A_300Mb-B-P160.0-Map3</td>\n",
       "      <td>5816</td>\n",
       "      <td>140544</td>\n",
       "      <td>112</td>\n",
       "      <td>9</td>\n",
       "      <td>103</td>\n",
       "      <td>9</td>\n",
       "      <td>78.81</td>\n",
       "      <td>15.96</td>\n",
       "      <td>55.3</td>\n",
       "      <td>...</td>\n",
       "      <td>23.46</td>\n",
       "      <td>30.48</td>\n",
       "      <td>0.38</td>\n",
       "      <td>1.81</td>\n",
       "      <td>7.36</td>\n",
       "      <td>36.23</td>\n",
       "      <td>99.83</td>\n",
       "      <td>ClassII:TIR:PIF-Harbinger</td>\n",
       "      <td>105.95</td>\n",
       "      <td>105950000.0</td>\n",
       "    </tr>\n",
       "  </tbody>\n",
       "</table>\n",
       "<p>5 rows × 31 columns</p>\n",
       "</div>"
      ],
      "text/plain": [
       "                                                   TE  length     covg  frags  \\\n",
       "1   DHX-incomp-chim_Blc36_MR_P2A_300Mb-L-B58-Map1_...   24248   465770    807   \n",
       "2   DHX-incomp-chim_Blc562_MR_P2A_300Mb-L-B575-Map...   16682   200619    176   \n",
       "9   DTX-comp_Blc3603_MR_P2A_300Mb-B-P275.0-Map3_re...    6203  2052232   1284   \n",
       "10        DTX-comp_Blc3621_MR_P2A_300Mb-B-P261.0-Map8    6020   388170    195   \n",
       "12        DTX-comp_Blc3635_MR_P2A_300Mb-B-P160.0-Map3    5816   140544    112   \n",
       "\n",
       "    fullLgthFrags  copies  fullLgthCopies  meanId   sdId  minId     ...       \\\n",
       "1               1     657               1   77.04   8.95   55.5     ...        \n",
       "2               1     138               1   80.70  10.14   58.7     ...        \n",
       "9              50    1052              58   78.07   9.57   55.8     ...        \n",
       "10             23     166              27   81.64  13.37   55.1     ...        \n",
       "12              9     103               9   78.81  15.96   55.3     ...        \n",
       "\n",
       "    meanLgthPerc  sdLgthPerc  minLgthPerc  q25LgthPerc  medLgthPerc  \\\n",
       "1           2.93        5.61         0.08         0.36         1.22   \n",
       "2           8.72       13.93         0.13         0.86         3.27   \n",
       "9          31.46       26.47         0.34        10.51        24.83   \n",
       "10         38.86       36.52         0.37         5.40        28.19   \n",
       "12         23.46       30.48         0.38         1.81         7.36   \n",
       "\n",
       "    q75LgthPerc  maxLgthPerc                        COS  TE_age_Mya  \\\n",
       "1          4.50       100.00         ClassII:Helitron:?      114.80   \n",
       "2         10.38       100.00         ClassII:Helitron:?       96.50   \n",
       "9         48.35       103.53  ClassII:TIR:PIF-Harbinger      109.65   \n",
       "10        59.57       100.76  ClassII:TIR:PIF-Harbinger       91.80   \n",
       "12        36.23        99.83  ClassII:TIR:PIF-Harbinger      105.95   \n",
       "\n",
       "         TE_age  \n",
       "1   114800000.0  \n",
       "2    96500000.0  \n",
       "9   109650000.0  \n",
       "10   91800000.0  \n",
       "12  105950000.0  \n",
       "\n",
       "[5 rows x 31 columns]"
      ]
     },
     "execution_count": 247,
     "metadata": {},
     "output_type": "execute_result"
    }
   ],
   "source": [
    "sub_df_young_many.head()"
   ]
  },
  {
   "cell_type": "code",
   "execution_count": 248,
   "metadata": {},
   "outputs": [],
   "source": [
    "young_cov_TE = sub_df_young_many[sub_df_young_many.meanId > 75].groupby('TE')['covg'].sum()"
   ]
  },
  {
   "cell_type": "code",
   "execution_count": 249,
   "metadata": {},
   "outputs": [
    {
     "data": {
      "text/plain": [
       "TE\n",
       "RLX-comp_Blc1_MR_P2A_300Mb-L-B3088-Map1                             4661\n",
       "RLX-incomp_Blc3417_MR_P2A_300Mb-L-B4704-Map1                        4844\n",
       "RXX-LARD_Blc4280_MR_P2A_300Mb-L-B5713-Map1                          5052\n",
       "RLX-incomp_Blc3410_MR_P2A_300Mb-L-B4698-Map1                        5095\n",
       "RLX-incomp-chim_Blc825_MR_P2A_300Mb-B-P21.0-Map20_reversed          5176\n",
       "RLX-incomp_Blc2396_MR_P2A_300Mb-L-B3105-Map1_reversed               5603\n",
       "RLX-comp_Blc3422_MR_P2A_300Mb-L-B4709-Map1                          5931\n",
       "RXX-LARD_Blc4329_MR_P2A_300Mb-L-B5771-Map1                          6296\n",
       "RXX-LARD_Blc4192_MR_P2A_300Mb-L-B5617-Map1                          6326\n",
       "RLX-incomp_Blc2577_MR_P2A_300Mb-L-B3428-Map1                        7192\n",
       "RLX-comp_Blc1495_MR_P2A_300Mb-L-B1493-Map1_reversed                 7212\n",
       "RXX-TRIM_Blc4296_MR_P2A_300Mb-L-B5727-Map1                          7307\n",
       "RXX-LARD_Blc4159_MR_P2A_300Mb-L-B5576-Map1                          8109\n",
       "RLX-incomp_Blc1342_MR_P2A_300Mb-L-B1338-Map1_reversed               8370\n",
       "DTX-incomp_Blc4622_MR_P2A_100Mb_RS_486                              8457\n",
       "RXX-LARD_Blc4178_MR_P2A_300Mb-L-B5597-Map1                          8889\n",
       "RLX-comp_Blc1478_MR_P2A_300Mb-L-B1475-Map1_reversed                 8927\n",
       "RLX-incomp_Blc2734_MR_P2A_300Mb-L-B3687-Map1                        9092\n",
       "RLX-incomp-chim_Blc1057_MR_P2A_300Mb-L-B1059-Map1_reversed          9230\n",
       "RLX-incomp_Blc1447_MR_P2A_300Mb-L-B1443-Map1                        9601\n",
       "RLX-comp-chim_Blc2286_MR_P2A_300Mb-L-B2920-Map1                     9727\n",
       "RLX-incomp_Blc1428_MR_P2A_300Mb-L-B1424-Map1                        9739\n",
       "RLX-incomp_Blc1375_MR_P2A_300Mb-L-B1371-Map1                        9908\n",
       "RLX-incomp_Blc1337_MR_P2A_300Mb-L-B1333-Map1                       10809\n",
       "RLX-incomp-chim_Blc1333_MR_P2A_300Mb-L-B1330-Map1_reversed         10917\n",
       "RLX-incomp-chim_Blc1316_MR_P2A_300Mb-L-B1314-Map1_reversed         11019\n",
       "RLX-incomp-chim_Blc1754_MR_P2A_300Mb-L-B1950-Map1_reversed         11118\n",
       "RLX-incomp-chim_Blc1339_MR_P2A_300Mb-L-B1335-Map1_reversed         11343\n",
       "noCat_Blc4588_MR_P2A_300Mb-B-P219.80-Map12                         11446\n",
       "RLX-incomp_Blc1306_MR_P2A_300Mb-L-B1303-Map1_reversed              11692\n",
       "                                                                 ...    \n",
       "RLX-incomp-chim_Blc33_MR_P2A_300Mb-L-B55-Map1                    3841842\n",
       "RLX-comp_Blc227_MR_P2A_300Mb-L-B249-Map1                         3846151\n",
       "RLX-incomp-chim_Blc233_MR_P2A_300Mb-L-B255-Map1_reversed         3872589\n",
       "RLX-incomp-chim_Blc51_MR_P2A_300Mb-L-B74-Map1_reversed           3924410\n",
       "RLX-comp_Blc301_MR_P2A_300Mb-L-B320-Map1_reversed                3960693\n",
       "RLX-incomp-chim_Blc313_MR_P2A_100Mb_RS_2_reversed                4031207\n",
       "RLX-incomp-chim_Blc472_MR_P2A_100Mb_RS_6_reversed                4224298\n",
       "RLX-incomp-chim_Blc128_MR_P2A_300Mb-L-B151-Map1                  4240809\n",
       "RLX-incomp_Blc248_MR_P2A_300Mb-L-B269-Map1                       4259384\n",
       "RLX-incomp-chim_Blc64_MR_P2A_300Mb-L-B87-Map1_reversed           4300440\n",
       "DTX-incomp-chim_Blc677_MR_P2A_300Mb-B-P202.87-Map8_reversed      4336895\n",
       "RXX-chim_Blc255_MR_P2A_300Mb-L-B276-Map1                         4349890\n",
       "RLX-incomp_Blc95_MR_P2A_300Mb-L-B118-Map1_reversed               4719911\n",
       "RLX-incomp-chim_Blc433_MR_P2A_100Mb_RS_5_reversed                4728581\n",
       "RLX-incomp_Blc70_MR_P2A_300Mb-L-B93-Map1                         4983079\n",
       "RLX-comp_Blc175_MR_P2A_300Mb-L-B197-Map1                         5031864\n",
       "RLX-incomp_Blc438_MR_P2A_300Mb-L-B454-Map1                       5109233\n",
       "RLX-incomp_Blc259_MR_P2A_300Mb-L-B280-Map1                       5239409\n",
       "RLX-incomp_Blc153_MR_P2A_300Mb-L-B176-Map1                       5268632\n",
       "RLX-incomp_Blc160_MR_P2A_300Mb-L-B183-Map1                       5571197\n",
       "RLX-incomp-chim_Blc27_MR_P2A_300Mb-L-B49-Map1_reversed           5715725\n",
       "RLX-incomp_Blc281_MR_P2A_300Mb-L-B302-Map1                       6276056\n",
       "RLX-incomp_Blc72_MR_P2A_300Mb-L-B95-Map1                         6669167\n",
       "DTX-incomp-chim_Blc46_MR_P2A_300Mb-L-B69-Map1                    7058540\n",
       "DTX-incomp-chim_Blc152_MR_P2A_300Mb-L-B175-Map1                  8862473\n",
       "RYX-incomp-chim_Blc24_MR_P2A_300Mb-L-B2-Map20_reversed           9029456\n",
       "RLX-incomp_Blc236_MR_P2A_300Mb-L-B258-Map1_reversed              9450737\n",
       "DTX-incomp-chim_Blc132_MR_P2A_300Mb-L-B155-Map1_reversed         9496695\n",
       "DTX-incomp-chim_Blc84_MR_P2A_300Mb-L-B107-Map1                  10232025\n",
       "RLX-incomp-chim_Blc22_MR_P2A_300Mb-L-B1-Map20_reversed         144512997\n",
       "Name: covg, Length: 1467, dtype: int64"
      ]
     },
     "execution_count": 249,
     "metadata": {},
     "output_type": "execute_result"
    }
   ],
   "source": [
    "young_cov_TE.sort_values()"
   ]
  },
  {
   "cell_type": "code",
   "execution_count": 278,
   "metadata": {},
   "outputs": [],
   "source": [
    "#reusing above\n",
    "sub_df_young_many = REPET_all_TEs_df[(REPET_all_TEs_df.copies > 10) &( REPET_all_TEs_df.meanId > 10)]\n",
    "\n",
    "sub_df_young_many_by_COS_sum = sub_df_young_many.groupby('COS').sum()\n",
    "\n",
    "sub_df_young_many_by_COS_sum['Class'] = 'noCat'\n",
    "sub_df_young_many_by_COS_sum[\"Index\"] = sub_df_young_many_by_COS_sum.index\n",
    "sub_df_young_many_by_COS_sum['Order'] = 'noCat'\n",
    "sub_df_young_many_by_COS_sum['Class:Order'] = 'noCat'\n",
    "\n",
    "#generate Class column or noCat\n",
    "sub_df_young_many_by_COS_sum.loc[\\\n",
    "sub_df_young_many_by_COS_sum[sub_df_young_many_by_COS_sum.index.str.contains(':')].index\\\n",
    "                                 , \"Class\"] =\\\n",
    "sub_df_young_many_by_COS_sum[sub_df_young_many_by_COS_sum.index.str.contains(':')].Index.apply\\\n",
    "(lambda x: x.split(':')[0])\n",
    "\n",
    "#generate Order column or noCat\n",
    "sub_df_young_many_by_COS_sum.loc[\\\n",
    "sub_df_young_many_by_COS_sum[sub_df_young_many_by_COS_sum.index.str.contains(':')].index\\\n",
    "                                 , \"Order\"] =\\\n",
    "sub_df_young_many_by_COS_sum[sub_df_young_many_by_COS_sum.index.str.contains(':')].Index.apply\\\n",
    "(lambda x: x.split(':')[1])\n",
    "\n",
    "\n",
    "#generate Class order column\n",
    "sub_df_young_many_by_COS_sum.loc[\\\n",
    "sub_df_young_many_by_COS_sum[sub_df_young_many_by_COS_sum.index.str.contains(':')].index\\\n",
    "                                 , \"Class:Order\"] =\\\n",
    "sub_df_young_many_by_COS_sum[sub_df_young_many_by_COS_sum.index.str.contains(':')]['Class']\\\n",
    "+ ':' +\\\n",
    "sub_df_young_many_by_COS_sum[sub_df_young_many_by_COS_sum.index.str.contains(':')]['Order']"
   ]
  },
  {
   "cell_type": "code",
   "execution_count": 279,
   "metadata": {},
   "outputs": [
    {
     "data": {
      "text/html": [
       "<div>\n",
       "<style scoped>\n",
       "    .dataframe tbody tr th:only-of-type {\n",
       "        vertical-align: middle;\n",
       "    }\n",
       "\n",
       "    .dataframe tbody tr th {\n",
       "        vertical-align: top;\n",
       "    }\n",
       "\n",
       "    .dataframe thead th {\n",
       "        text-align: right;\n",
       "    }\n",
       "</style>\n",
       "<table border=\"1\" class=\"dataframe\">\n",
       "  <thead>\n",
       "    <tr style=\"text-align: right;\">\n",
       "      <th></th>\n",
       "      <th>TE</th>\n",
       "      <th>length</th>\n",
       "      <th>covg</th>\n",
       "      <th>frags</th>\n",
       "      <th>fullLgthFrags</th>\n",
       "      <th>copies</th>\n",
       "      <th>fullLgthCopies</th>\n",
       "      <th>meanId</th>\n",
       "      <th>sdId</th>\n",
       "      <th>minId</th>\n",
       "      <th>...</th>\n",
       "      <th>meanLgthPerc</th>\n",
       "      <th>sdLgthPerc</th>\n",
       "      <th>minLgthPerc</th>\n",
       "      <th>q25LgthPerc</th>\n",
       "      <th>medLgthPerc</th>\n",
       "      <th>q75LgthPerc</th>\n",
       "      <th>maxLgthPerc</th>\n",
       "      <th>COS</th>\n",
       "      <th>TE_age_Mya</th>\n",
       "      <th>TE_age</th>\n",
       "    </tr>\n",
       "  </thead>\n",
       "  <tbody>\n",
       "    <tr>\n",
       "      <th>0</th>\n",
       "      <td>DHX-incomp-chim_Blc1018_MR_P2A_300Mb-L-B1021-Map1</td>\n",
       "      <td>11814</td>\n",
       "      <td>458217</td>\n",
       "      <td>342</td>\n",
       "      <td>1</td>\n",
       "      <td>217</td>\n",
       "      <td>1</td>\n",
       "      <td>65.07</td>\n",
       "      <td>10.19</td>\n",
       "      <td>54.4</td>\n",
       "      <td>...</td>\n",
       "      <td>17.91</td>\n",
       "      <td>18.50</td>\n",
       "      <td>0.19</td>\n",
       "      <td>4.41</td>\n",
       "      <td>10.34</td>\n",
       "      <td>31.27</td>\n",
       "      <td>100.00</td>\n",
       "      <td>ClassII:Helitron:?</td>\n",
       "      <td>174.65</td>\n",
       "      <td>174650000.0</td>\n",
       "    </tr>\n",
       "    <tr>\n",
       "      <th>1</th>\n",
       "      <td>DHX-incomp-chim_Blc36_MR_P2A_300Mb-L-B58-Map1_...</td>\n",
       "      <td>24248</td>\n",
       "      <td>465770</td>\n",
       "      <td>807</td>\n",
       "      <td>1</td>\n",
       "      <td>657</td>\n",
       "      <td>1</td>\n",
       "      <td>77.04</td>\n",
       "      <td>8.95</td>\n",
       "      <td>55.5</td>\n",
       "      <td>...</td>\n",
       "      <td>2.93</td>\n",
       "      <td>5.61</td>\n",
       "      <td>0.08</td>\n",
       "      <td>0.36</td>\n",
       "      <td>1.22</td>\n",
       "      <td>4.50</td>\n",
       "      <td>100.00</td>\n",
       "      <td>ClassII:Helitron:?</td>\n",
       "      <td>114.80</td>\n",
       "      <td>114800000.0</td>\n",
       "    </tr>\n",
       "    <tr>\n",
       "      <th>2</th>\n",
       "      <td>DHX-incomp-chim_Blc562_MR_P2A_300Mb-L-B575-Map...</td>\n",
       "      <td>16682</td>\n",
       "      <td>200619</td>\n",
       "      <td>176</td>\n",
       "      <td>1</td>\n",
       "      <td>138</td>\n",
       "      <td>1</td>\n",
       "      <td>80.70</td>\n",
       "      <td>10.14</td>\n",
       "      <td>58.7</td>\n",
       "      <td>...</td>\n",
       "      <td>8.72</td>\n",
       "      <td>13.93</td>\n",
       "      <td>0.13</td>\n",
       "      <td>0.86</td>\n",
       "      <td>3.27</td>\n",
       "      <td>10.38</td>\n",
       "      <td>100.00</td>\n",
       "      <td>ClassII:Helitron:?</td>\n",
       "      <td>96.50</td>\n",
       "      <td>96500000.0</td>\n",
       "    </tr>\n",
       "    <tr>\n",
       "      <th>3</th>\n",
       "      <td>DHX-incomp_Blc4656_MR_P2A_100Mb_RS_775</td>\n",
       "      <td>158</td>\n",
       "      <td>5848</td>\n",
       "      <td>40</td>\n",
       "      <td>29</td>\n",
       "      <td>40</td>\n",
       "      <td>29</td>\n",
       "      <td>84.08</td>\n",
       "      <td>7.07</td>\n",
       "      <td>72.9</td>\n",
       "      <td>...</td>\n",
       "      <td>92.53</td>\n",
       "      <td>13.54</td>\n",
       "      <td>43.04</td>\n",
       "      <td>94.30</td>\n",
       "      <td>99.37</td>\n",
       "      <td>100.00</td>\n",
       "      <td>100.63</td>\n",
       "      <td>ClassII:Helitron:?</td>\n",
       "      <td>79.60</td>\n",
       "      <td>79600000.0</td>\n",
       "    </tr>\n",
       "    <tr>\n",
       "      <th>4</th>\n",
       "      <td>DMX-incomp-chim_Blc907_MR_P2A_300Mb-L-B29-Map2</td>\n",
       "      <td>12548</td>\n",
       "      <td>459</td>\n",
       "      <td>11</td>\n",
       "      <td>0</td>\n",
       "      <td>11</td>\n",
       "      <td>0</td>\n",
       "      <td>80.95</td>\n",
       "      <td>8.03</td>\n",
       "      <td>66.2</td>\n",
       "      <td>...</td>\n",
       "      <td>0.38</td>\n",
       "      <td>0.23</td>\n",
       "      <td>0.19</td>\n",
       "      <td>0.23</td>\n",
       "      <td>0.29</td>\n",
       "      <td>0.47</td>\n",
       "      <td>0.98</td>\n",
       "      <td>ClassII:Maverick:?</td>\n",
       "      <td>95.25</td>\n",
       "      <td>95250000.0</td>\n",
       "    </tr>\n",
       "  </tbody>\n",
       "</table>\n",
       "<p>5 rows × 31 columns</p>\n",
       "</div>"
      ],
      "text/plain": [
       "                                                  TE  length    covg  frags  \\\n",
       "0  DHX-incomp-chim_Blc1018_MR_P2A_300Mb-L-B1021-Map1   11814  458217    342   \n",
       "1  DHX-incomp-chim_Blc36_MR_P2A_300Mb-L-B58-Map1_...   24248  465770    807   \n",
       "2  DHX-incomp-chim_Blc562_MR_P2A_300Mb-L-B575-Map...   16682  200619    176   \n",
       "3             DHX-incomp_Blc4656_MR_P2A_100Mb_RS_775     158    5848     40   \n",
       "4     DMX-incomp-chim_Blc907_MR_P2A_300Mb-L-B29-Map2   12548     459     11   \n",
       "\n",
       "   fullLgthFrags  copies  fullLgthCopies  meanId   sdId  minId     ...       \\\n",
       "0              1     217               1   65.07  10.19   54.4     ...        \n",
       "1              1     657               1   77.04   8.95   55.5     ...        \n",
       "2              1     138               1   80.70  10.14   58.7     ...        \n",
       "3             29      40              29   84.08   7.07   72.9     ...        \n",
       "4              0      11               0   80.95   8.03   66.2     ...        \n",
       "\n",
       "   meanLgthPerc  sdLgthPerc  minLgthPerc  q25LgthPerc  medLgthPerc  \\\n",
       "0         17.91       18.50         0.19         4.41        10.34   \n",
       "1          2.93        5.61         0.08         0.36         1.22   \n",
       "2          8.72       13.93         0.13         0.86         3.27   \n",
       "3         92.53       13.54        43.04        94.30        99.37   \n",
       "4          0.38        0.23         0.19         0.23         0.29   \n",
       "\n",
       "   q75LgthPerc  maxLgthPerc                 COS  TE_age_Mya       TE_age  \n",
       "0        31.27       100.00  ClassII:Helitron:?      174.65  174650000.0  \n",
       "1         4.50       100.00  ClassII:Helitron:?      114.80  114800000.0  \n",
       "2        10.38       100.00  ClassII:Helitron:?       96.50   96500000.0  \n",
       "3       100.00       100.63  ClassII:Helitron:?       79.60   79600000.0  \n",
       "4         0.47         0.98  ClassII:Maverick:?       95.25   95250000.0  \n",
       "\n",
       "[5 rows x 31 columns]"
      ]
     },
     "execution_count": 279,
     "metadata": {},
     "output_type": "execute_result"
    }
   ],
   "source": [
    "sub_df_young_many.head()"
   ]
  },
  {
   "cell_type": "code",
   "execution_count": 339,
   "metadata": {},
   "outputs": [
    {
     "name": "stderr",
     "output_type": "stream",
     "text": [
      "/home/benjamin/anaconda3/lib/python3.5/site-packages/ipykernel/__main__.py:2: SettingWithCopyWarning: \n",
      "A value is trying to be set on a copy of a slice from a DataFrame.\n",
      "Try using .loc[row_indexer,col_indexer] = value instead\n",
      "\n",
      "See the caveats in the documentation: http://pandas.pydata.org/pandas-docs/stable/indexing.html#indexing-view-versus-copy\n",
      "  from ipykernel import kernelapp as app\n"
     ]
    }
   ],
   "source": [
    "intervals = pd.interval_range(start=20, end=100, closed='right', periods=80)\n",
    "sub_df_young_many['Intervals'] = pd.cut(sub_df_young_many.meanId, intervals)\n",
    "\n",
    "grouped = sub_df_young_many.groupby(['COS','Intervals'])\n",
    "sum_df = grouped.agg({'meanId': 'mean', 'covg': 'sum'})\n",
    "#sum_df['Interval_edge'] = intervals.right\n",
    "sum_df['freq_covg'] = sum_df.covg / sum_df.covg.sum()\n",
    "#sum_df[\"re_cumsum_covg\"] = sum_df.sort_values('Interval_edge', ascending='False')['covg'].cumsum()"
   ]
  },
  {
   "cell_type": "code",
   "execution_count": 340,
   "metadata": {},
   "outputs": [],
   "source": [
    "sum_freq_covg_df = sum_df.unstack()['freq_covg'].T\n",
    "sum_freq_covg_df['Interval_edge'] = [x.right for x in sum_freq_covg_df.index]"
   ]
  },
  {
   "cell_type": "code",
   "execution_count": 341,
   "metadata": {},
   "outputs": [],
   "source": [
    "#sum_freq_covg_df.drop('RLX-incomp_Blc2748_MR_P2A_300Mb-L-B3707-Map1', axis=1, inplace=True)\n",
    "sum_freq_covg_df.sort_values('Interval_edge', inplace=True)"
   ]
  },
  {
   "cell_type": "code",
   "execution_count": 342,
   "metadata": {},
   "outputs": [],
   "source": [
    "column_filter = sum_freq_covg_df.sum()*100 > 0.5"
   ]
  },
  {
   "cell_type": "code",
   "execution_count": 343,
   "metadata": {},
   "outputs": [
    {
     "data": {
      "text/plain": [
       "Index(['ClassI:?:?', 'ClassI:DIRS:?', 'ClassI:DIRS:DIRS', 'ClassI:LARD:?',\n",
       "       'ClassI:LINE:?', 'ClassI:LINE:I', 'ClassI:LINE:Jockey',\n",
       "       'ClassI:LINE:R2', 'ClassI:LTR:?', 'ClassI:LTR:Bel-Pao',\n",
       "       'ClassI:LTR:Copia', 'ClassI:LTR:ERV', 'ClassI:LTR:Gypsy',\n",
       "       'ClassI:LTR:Retrovirus', 'ClassI:PLE:Penelope', 'ClassI:SINE:5S',\n",
       "       'ClassI:SINE:?', 'ClassI:TRIM:?', 'ClassII:?:?', 'ClassII:?:Ginger1',\n",
       "       'ClassII:?:Ginger2_TDD', 'ClassII:?:Novosib', 'ClassII:?:Sola',\n",
       "       'ClassII:Helitron:?', 'ClassII:Helitron:Helitron', 'ClassII:MITE:?',\n",
       "       'ClassII:Maverick:?', 'ClassII:TIR:?', 'ClassII:TIR:CACTA',\n",
       "       'ClassII:TIR:MuDR', 'ClassII:TIR:P', 'ClassII:TIR:PIF-Harbinger',\n",
       "       'ClassII:TIR:PiggyBac', 'ClassII:TIR:Tc1-Mariner', 'ClassII:TIR:hAT',\n",
       "       'RLX-incomp_Blc2748_MR_P2A_300Mb-L-B3707-Map1', 'noCat',\n",
       "       'Interval_edge'],\n",
       "      dtype='object', name='COS')"
      ]
     },
     "execution_count": 343,
     "metadata": {},
     "output_type": "execute_result"
    }
   ],
   "source": [
    "column_filter.index"
   ]
  },
  {
   "cell_type": "code",
   "execution_count": 316,
   "metadata": {},
   "outputs": [],
   "source": [
    "from scipy.interpolate import interp1d"
   ]
  },
  {
   "cell_type": "code",
   "execution_count": 419,
   "metadata": {},
   "outputs": [
    {
     "data": {
      "text/plain": [
       "[(0.00392156862745098, 0.45098039215686275, 0.6980392156862745),\n",
       " (0.8705882352941177, 0.5607843137254902, 0.0196078431372549),\n",
       " (0.00784313725490196, 0.6196078431372549, 0.45098039215686275),\n",
       " (0.8352941176470589, 0.3686274509803922, 0.0),\n",
       " (0.8, 0.47058823529411764, 0.7372549019607844),\n",
       " (0.792156862745098, 0.5686274509803921, 0.3803921568627451),\n",
       " (0.984313725490196, 0.6862745098039216, 0.8941176470588236),\n",
       " (0.5803921568627451, 0.5803921568627451, 0.5803921568627451),\n",
       " (0.9254901960784314, 0.8823529411764706, 0.2),\n",
       " (0.33725490196078434, 0.7058823529411765, 0.9137254901960784)]"
      ]
     },
     "execution_count": 419,
     "metadata": {},
     "output_type": "execute_result"
    }
   ],
   "source": [
    "sns.color_palette('colorblind')"
   ]
  },
  {
   "cell_type": "code",
   "execution_count": 344,
   "metadata": {},
   "outputs": [
    {
     "name": "stderr",
     "output_type": "stream",
     "text": [
      "/home/benjamin/anaconda3/lib/python3.5/site-packages/matplotlib/font_manager.py:1328: UserWarning: findfont: Font family ['normal'] not found. Falling back to DejaVu Sans\n",
      "  (prop.get_family(), self.defaultFamily[fontext]))\n"
     ]
    },
    {
     "data": {
      "image/png": "[encoded data removed]",
      "text/plain": [
       "<Figure size 576x576 with 1 Axes>"
      ]
     },
     "metadata": {},
     "output_type": "display_data"
    }
   ],
   "source": [
    "f, ax = plt.subplots(figsize=(8,8))\n",
    "\n",
    "df = sum_freq_covg_df.loc[:, column_filter]\n",
    "\n",
    "superfamilies = [x for x in sum_freq_covg_df.loc[:, column_filter].columns if not x == 'Interval_edge']\n",
    "\n",
    "col_n = len(sum_freq_covg_df.loc[:, column_filter].columns)\n",
    "\n",
    "pallete = sns.color_palette('colorblind')\n",
    "\n",
    "\n",
    "for sf, color in zip(superfamilies, pallete):\n",
    "    x, y = df['Interval_edge'], df[sf]\n",
    "    f2 = interp1d(x, y)\n",
    "    xnew = np.linspace(x.min(), x.max(), num=80, endpoint=True)\n",
    "    ax.plot(xnew, f2(xnew), '-', color=color, label = sf,  linewidth=3, alpha = 0.7)\n",
    "ax.legend()\n",
    "ax.set_ylabel('Relative frequency', **font)\n",
    "ax.set_xlabel('TE superfamily % identity', **font)\n",
    "#outfn = os.path.join(OUTPATH, 'SF2A_TE_variation.tiff')\n",
    "plt.legend(loc='upper left', frameon=False)\n",
    "#['top','bottom','left','right']\n",
    "for axis in ['bottom','left']:\n",
    "    ax.spines[axis].set_linewidth(2)\n",
    "for axis in ['top','right']:\n",
    "    ax.spines[axis].set_linewidth(0)\n",
    "ax.tick_params(width=2)"
   ]
  },
  {
   "cell_type": "code",
   "execution_count": 330,
   "metadata": {},
   "outputs": [
    {
     "name": "stdout",
     "output_type": "stream",
     "text": [
      "COS        ClassI:LARD:?  ClassI:LTR:?  ClassI:LTR:Copia  ClassI:LTR:Gypsy  \\\n",
      "Intervals                                                                    \n",
      "(50, 51]             NaN           NaN          0.000006          0.001044   \n",
      "(51, 52]             NaN           NaN          0.000016          0.001578   \n",
      "(52, 53]             NaN           NaN               NaN          0.002673   \n",
      "(53, 54]             NaN           NaN               NaN          0.002965   \n",
      "(54, 55]             NaN           NaN               NaN          0.000121   \n",
      "(55, 56]             NaN           NaN               NaN          0.000136   \n",
      "(57, 58]             NaN           NaN               NaN          0.023736   \n",
      "(58, 59]             NaN           NaN               NaN          0.000200   \n",
      "(59, 60]             NaN           NaN               NaN               NaN   \n",
      "(60, 61]        0.000193           NaN               NaN               NaN   \n",
      "(61, 62]        0.000300           NaN          0.000002          0.000042   \n",
      "(62, 63]             NaN           NaN          0.000029          0.000236   \n",
      "(63, 64]        0.000020           NaN          0.000005          0.000152   \n",
      "(64, 65]             NaN           NaN          0.000060          0.000588   \n",
      "(65, 66]        0.001927           NaN          0.000173          0.000030   \n",
      "(66, 67]        0.000023           NaN          0.000343          0.001713   \n",
      "(67, 68]        0.000114           NaN          0.000895          0.000671   \n",
      "(68, 69]        0.000959           NaN          0.000450          0.000949   \n",
      "(69, 70]        0.001176           NaN          0.000674          0.001146   \n",
      "(70, 71]        0.000370  8.837429e-04          0.003246          0.001744   \n",
      "(71, 72]        0.000260  3.001937e-04          0.001421          0.001277   \n",
      "(72, 73]        0.000139           NaN          0.001188          0.001610   \n",
      "(73, 74]        0.000130           NaN          0.001451          0.002805   \n",
      "(74, 75]        0.000079  4.764193e-04          0.001320          0.004035   \n",
      "(75, 76]        0.001872  5.251393e-04          0.001414          0.008329   \n",
      "(76, 77]        0.000896  1.476064e-04          0.004278          0.009339   \n",
      "(77, 78]        0.000727  1.750194e-03          0.002152          0.100823   \n",
      "(78, 79]        0.000047  2.013462e-04          0.000948          0.023797   \n",
      "(79, 80]        0.000712  2.514948e-03          0.002195          0.028416   \n",
      "(80, 81]        0.000574  1.017897e-03          0.001508          0.038880   \n",
      "(81, 82]        0.000177  5.481893e-04          0.000620          0.038649   \n",
      "(82, 83]        0.000024  3.198715e-05          0.000407          0.038809   \n",
      "(83, 84]        0.000169           NaN          0.000356          0.052483   \n",
      "(84, 85]        0.000229  3.495247e-03          0.000198          0.045759   \n",
      "(85, 86]        0.000095           NaN          0.000208          0.005796   \n",
      "(86, 87]        0.000008           NaN          0.000091          0.006812   \n",
      "(87, 88]        0.000029           NaN          0.000037          0.003649   \n",
      "(88, 89]        0.000005           NaN          0.000127          0.000617   \n",
      "(89, 90]        0.000117           NaN               NaN          0.000366   \n",
      "(90, 91]             NaN  8.001351e-07          0.000043          0.000526   \n",
      "(91, 92]             NaN  6.547113e-07               NaN          0.000145   \n",
      "(92, 93]        0.000001           NaN          0.000028          0.000193   \n",
      "(93, 94]             NaN           NaN               NaN          0.000895   \n",
      "(94, 95]             NaN           NaN               NaN          0.000358   \n",
      "(95, 96]             NaN           NaN               NaN          0.000315   \n",
      "(96, 97]             NaN           NaN               NaN          0.000040   \n",
      "(97, 98]             NaN           NaN               NaN          0.000013   \n",
      "(99, 100]            NaN           NaN               NaN               NaN   \n",
      "\n",
      "COS        ClassI:TRIM:?  ClassII:TIR:?  ClassII:TIR:CACTA  ClassII:TIR:MuDR  \\\n",
      "Intervals                                                                      \n",
      "(50, 51]             NaN            NaN       2.139148e-04               NaN   \n",
      "(51, 52]             NaN            NaN                NaN               NaN   \n",
      "(52, 53]             NaN            NaN                NaN               NaN   \n",
      "(53, 54]             NaN            NaN                NaN               NaN   \n",
      "(54, 55]             NaN            NaN                NaN               NaN   \n",
      "(55, 56]             NaN            NaN                NaN               NaN   \n",
      "(57, 58]             NaN            NaN                NaN               NaN   \n",
      "(58, 59]             NaN            NaN                NaN               NaN   \n",
      "(59, 60]    4.652026e-03            NaN                NaN               NaN   \n",
      "(60, 61]             NaN            NaN                NaN               NaN   \n",
      "(61, 62]    3.864136e-04            NaN       5.457956e-07               NaN   \n",
      "(62, 63]    9.663685e-06            NaN                NaN               NaN   \n",
      "(63, 64]    7.354520e-04            NaN       3.280493e-05               NaN   \n",
      "(64, 65]    3.592698e-05   3.196342e-05                NaN          0.000361   \n",
      "(65, 66]             NaN   7.526168e-04       2.194135e-06               NaN   \n",
      "(66, 67]             NaN   2.920037e-04                NaN          0.000621   \n",
      "(67, 68]    1.799556e-04   7.170823e-04                NaN          0.000167   \n",
      "(68, 69]             NaN   3.766416e-07       1.477524e-04          0.000658   \n",
      "(69, 70]    9.720881e-06   1.051199e-03       5.246939e-05          0.001766   \n",
      "(70, 71]    6.809971e-06            NaN       1.157853e-04          0.001705   \n",
      "(71, 72]    2.004293e-06   1.920674e-03       3.626711e-04          0.000278   \n",
      "(72, 73]    7.121385e-05   9.312161e-04       1.832705e-06               NaN   \n",
      "(73, 74]             NaN   1.511452e-03       3.174687e-04          0.000020   \n",
      "(74, 75]    1.062993e-06   1.981378e-04       4.418632e-05          0.000692   \n",
      "(75, 76]    1.748371e-05   1.369690e-03       2.435210e-05          0.000065   \n",
      "(76, 77]    1.022743e-04   4.842991e-03       2.155783e-04          0.000064   \n",
      "(77, 78]    2.987577e-06   1.877876e-03       8.153505e-04          0.000772   \n",
      "(78, 79]             NaN   2.052260e-03       3.353692e-05               NaN   \n",
      "(79, 80]    7.555953e-06   5.110673e-03       9.175694e-07          0.000025   \n",
      "(80, 81]    2.121788e-05   2.614359e-03       3.324571e-04          0.000017   \n",
      "(81, 82]    1.703442e-04   3.718627e-03       1.202487e-03          0.000182   \n",
      "(82, 83]    1.757803e-05   8.639371e-03                NaN               NaN   \n",
      "(83, 84]    3.683360e-05   1.028918e-03       1.652081e-03               NaN   \n",
      "(84, 85]    7.679533e-05   8.695479e-04       2.468116e-04               NaN   \n",
      "(85, 86]    1.294028e-05   3.751512e-03       3.275443e-05               NaN   \n",
      "(86, 87]    6.255049e-07   1.664427e-04       2.803917e-04               NaN   \n",
      "(87, 88]    3.576513e-05   1.161839e-02       2.663235e-03               NaN   \n",
      "(88, 89]    5.921243e-05            NaN       1.999182e-05               NaN   \n",
      "(89, 90]    1.886554e-05            NaN       4.543429e-06               NaN   \n",
      "(90, 91]    4.446074e-06            NaN       4.308960e-03               NaN   \n",
      "(91, 92]             NaN            NaN       6.055471e-06               NaN   \n",
      "(92, 93]    3.639915e-05   1.122866e-05                NaN               NaN   \n",
      "(93, 94]             NaN            NaN       1.792017e-04               NaN   \n",
      "(94, 95]             NaN            NaN                NaN               NaN   \n",
      "(95, 96]             NaN            NaN                NaN               NaN   \n",
      "(96, 97]             NaN            NaN                NaN               NaN   \n",
      "(97, 98]             NaN            NaN                NaN               NaN   \n",
      "(99, 100]            NaN            NaN                NaN               NaN   \n",
      "\n",
      "COS        ClassII:TIR:PIF-Harbinger  Interval_edge  \n",
      "Intervals                                            \n",
      "(50, 51]                         NaN             51  \n",
      "(51, 52]                         NaN             52  \n",
      "(52, 53]                    0.000001             53  \n",
      "(53, 54]                         NaN             54  \n",
      "(54, 55]                         NaN             55  \n",
      "(55, 56]                         NaN             56  \n",
      "(57, 58]                         NaN             58  \n",
      "(58, 59]                         NaN             59  \n",
      "(59, 60]                         NaN             60  \n",
      "(60, 61]                         NaN             61  \n",
      "(61, 62]                    0.000036             62  \n",
      "(62, 63]                    0.000096             63  \n",
      "(63, 64]                    0.000165             64  \n",
      "(64, 65]                    0.000298             65  \n",
      "(65, 66]                    0.000699             66  \n",
      "(66, 67]                    0.000426             67  \n",
      "(67, 68]                    0.000683             68  \n",
      "(68, 69]                    0.000620             69  \n",
      "(69, 70]                    0.000491             70  \n",
      "(70, 71]                    0.000794             71  \n",
      "(71, 72]                    0.000025             72  \n",
      "(72, 73]                    0.000100             73  \n",
      "(73, 74]                    0.000085             74  \n",
      "(74, 75]                    0.000042             75  \n",
      "(75, 76]                    0.000065             76  \n",
      "(76, 77]                    0.000147             77  \n",
      "(77, 78]                         NaN             78  \n",
      "(78, 79]                    0.001441             79  \n",
      "(79, 80]                         NaN             80  \n",
      "(80, 81]                         NaN             81  \n",
      "(81, 82]                    0.000236             82  \n",
      "(82, 83]                    0.000979             83  \n",
      "(83, 84]                         NaN             84  \n",
      "(84, 85]                         NaN             85  \n",
      "(85, 86]                    0.000126             86  \n",
      "(86, 87]                         NaN             87  \n",
      "(87, 88]                         NaN             88  \n",
      "(88, 89]                         NaN             89  \n",
      "(89, 90]                         NaN             90  \n",
      "(90, 91]                         NaN             91  \n",
      "(91, 92]                         NaN             92  \n",
      "(92, 93]                         NaN             93  \n",
      "(93, 94]                         NaN             94  \n",
      "(94, 95]                         NaN             95  \n",
      "(95, 96]                         NaN             96  \n",
      "(96, 97]                         NaN             97  \n",
      "(97, 98]                         NaN             98  \n",
      "(99, 100]                        NaN            100  \n"
     ]
    }
   ],
   "source": [
    "print(df[df.Interval_edge > 50])"
   ]
  },
  {
   "cell_type": "code",
   "execution_count": 345,
   "metadata": {},
   "outputs": [
    {
     "name": "stderr",
     "output_type": "stream",
     "text": [
      "/home/benjamin/anaconda3/lib/python3.5/site-packages/ipykernel/__main__.py:2: SettingWithCopyWarning: \n",
      "A value is trying to be set on a copy of a slice from a DataFrame.\n",
      "Try using .loc[row_indexer,col_indexer] = value instead\n",
      "\n",
      "See the caveats in the documentation: http://pandas.pydata.org/pandas-docs/stable/indexing.html#indexing-view-versus-copy\n",
      "  from ipykernel import kernelapp as app\n"
     ]
    }
   ],
   "source": [
    "intervals = pd.interval_range(start=20, end=100, closed='right', periods=80)\n",
    "sub_df_young_many['Intervals'] = pd.cut(sub_df_young_many.meanId, intervals)\n",
    "\n",
    "grouped = sub_df_young_many.groupby(['TE','Intervals'])\n",
    "sum_df = grouped.agg({'meanId': 'mean', 'covg': 'sum'})\n",
    "#sum_df['Interval_edge'] = intervals.right\n",
    "sum_df['freq_covg'] = sum_df.covg / sum_df.covg.sum()\n",
    "#sum_df[\"re_cumsum_covg\"] = sum_df.sort_values('Interval_edge', ascending='False')['covg'].cumsum()\n",
    "sum_freq_covg_df = sum_df.unstack()['freq_covg'].T\n",
    "sum_freq_covg_df['Interval_edge'] = [x.right for x in sum_freq_covg_df.index]\n",
    "sum_freq_covg_df.sort_values('Interval_edge', inplace=True)"
   ]
  },
  {
   "cell_type": "code",
   "execution_count": 400,
   "metadata": {},
   "outputs": [],
   "source": [
    "column_filter = sum_freq_covg_df.sum()*100 > 0.1"
   ]
  },
  {
   "cell_type": "code",
   "execution_count": 401,
   "metadata": {},
   "outputs": [
    {
     "data": {
      "text/plain": [
       "162"
      ]
     },
     "execution_count": 401,
     "metadata": {},
     "output_type": "execute_result"
    }
   ],
   "source": [
    "column_filter.sum()"
   ]
  },
  {
   "cell_type": "code",
   "execution_count": 376,
   "metadata": {},
   "outputs": [
    {
     "data": {
      "text/html": [
       "<div>\n",
       "<style scoped>\n",
       "    .dataframe tbody tr th:only-of-type {\n",
       "        vertical-align: middle;\n",
       "    }\n",
       "\n",
       "    .dataframe tbody tr th {\n",
       "        vertical-align: top;\n",
       "    }\n",
       "\n",
       "    .dataframe thead th {\n",
       "        text-align: right;\n",
       "    }\n",
       "</style>\n",
       "<table border=\"1\" class=\"dataframe\">\n",
       "  <thead>\n",
       "    <tr style=\"text-align: right;\">\n",
       "      <th></th>\n",
       "      <th>TE</th>\n",
       "      <th>length</th>\n",
       "      <th>covg</th>\n",
       "      <th>frags</th>\n",
       "      <th>fullLgthFrags</th>\n",
       "      <th>copies</th>\n",
       "      <th>fullLgthCopies</th>\n",
       "      <th>meanId</th>\n",
       "      <th>sdId</th>\n",
       "      <th>minId</th>\n",
       "      <th>...</th>\n",
       "      <th>sdLgthPerc</th>\n",
       "      <th>minLgthPerc</th>\n",
       "      <th>q25LgthPerc</th>\n",
       "      <th>medLgthPerc</th>\n",
       "      <th>q75LgthPerc</th>\n",
       "      <th>maxLgthPerc</th>\n",
       "      <th>COS</th>\n",
       "      <th>TE_age_Mya</th>\n",
       "      <th>TE_age</th>\n",
       "      <th>Intervals</th>\n",
       "    </tr>\n",
       "  </thead>\n",
       "  <tbody>\n",
       "    <tr>\n",
       "      <th>1703</th>\n",
       "      <td>RLX-incomp-chim_Blc22_MR_P2A_300Mb-L-B1-Map20_...</td>\n",
       "      <td>120268</td>\n",
       "      <td>144512997</td>\n",
       "      <td>77731</td>\n",
       "      <td>0</td>\n",
       "      <td>41819</td>\n",
       "      <td>0</td>\n",
       "      <td>77.23</td>\n",
       "      <td>9.89</td>\n",
       "      <td>55.2</td>\n",
       "      <td>...</td>\n",
       "      <td>3.09</td>\n",
       "      <td>0.02</td>\n",
       "      <td>0.8</td>\n",
       "      <td>1.57</td>\n",
       "      <td>4.18</td>\n",
       "      <td>25.9</td>\n",
       "      <td>ClassI:LTR:Gypsy</td>\n",
       "      <td>113.85</td>\n",
       "      <td>113850000.0</td>\n",
       "      <td>(77, 78]</td>\n",
       "    </tr>\n",
       "  </tbody>\n",
       "</table>\n",
       "<p>1 rows × 32 columns</p>\n",
       "</div>"
      ],
      "text/plain": [
       "                                                     TE  length       covg  \\\n",
       "1703  RLX-incomp-chim_Blc22_MR_P2A_300Mb-L-B1-Map20_...  120268  144512997   \n",
       "\n",
       "      frags  fullLgthFrags  copies  fullLgthCopies  meanId  sdId  minId  \\\n",
       "1703  77731              0   41819               0   77.23  9.89   55.2   \n",
       "\n",
       "        ...      sdLgthPerc  minLgthPerc  q25LgthPerc  medLgthPerc  \\\n",
       "1703    ...            3.09         0.02          0.8         1.57   \n",
       "\n",
       "      q75LgthPerc  maxLgthPerc               COS  TE_age_Mya       TE_age  \\\n",
       "1703         4.18         25.9  ClassI:LTR:Gypsy      113.85  113850000.0   \n",
       "\n",
       "      Intervals  \n",
       "1703   (77, 78]  \n",
       "\n",
       "[1 rows x 32 columns]"
      ]
     },
     "execution_count": 376,
     "metadata": {},
     "output_type": "execute_result"
    }
   ],
   "source": [
    "sub_df_young_many[sub_df_young_many.TE == 'RLX-incomp-chim_Blc22_MR_P2A_300Mb-L-B1-Map20_reversed']"
   ]
  },
  {
   "cell_type": "code",
   "execution_count": 418,
   "metadata": {},
   "outputs": [
    {
     "data": {
      "text/plain": [
       "array(['ClassII:TIR:PIF-Harbinger', 'ClassII:TIR:CACTA', 'ClassII:TIR:?',\n",
       "       'ClassII:TIR:MuDR', 'ClassI:LTR:Gypsy', 'ClassI:LTR:Copia',\n",
       "       'ClassI:LTR:?', 'ClassI:LARD:?', 'ClassI:TRIM:?'], dtype=object)"
      ]
     },
     "execution_count": 418,
     "metadata": {},
     "output_type": "execute_result"
    }
   ],
   "source": [
    "sub_df_young_many[sub_df_young_many.TE.isin(superfamilies)]['COS'].unique()"
   ]
  },
  {
   "cell_type": "code",
   "execution_count": 421,
   "metadata": {},
   "outputs": [],
   "source": [
    "from matplotlib.lines import Line2D"
   ]
  },
  {
   "cell_type": "code",
   "execution_count": 428,
   "metadata": {},
   "outputs": [],
   "source": [
    "legend_elements = []\n",
    "for x, y in color_dict.items():\n",
    "    legend_elements.append(Line2D([0], [0], marker='o', color=y, label=x,\n",
    "                          markerfacecolor=y, markersize=10, lw=0))"
   ]
  },
  {
   "cell_type": "code",
   "execution_count": 429,
   "metadata": {},
   "outputs": [
    {
     "data": {
      "text/plain": [
       "(15, 105)"
      ]
     },
     "execution_count": 429,
     "metadata": {},
     "output_type": "execute_result"
    },
    {
     "name": "stderr",
     "output_type": "stream",
     "text": [
      "/home/benjamin/anaconda3/lib/python3.5/site-packages/matplotlib/font_manager.py:1328: UserWarning: findfont: Font family ['normal'] not found. Falling back to DejaVu Sans\n",
      "  (prop.get_family(), self.defaultFamily[fontext]))\n"
     ]
    },
    {
     "data": {
      "image/png": "[encoded data removed]",
      "text/plain": [
       "<Figure size 576x576 with 1 Axes>"
      ]
     },
     "metadata": {},
     "output_type": "display_data"
    }
   ],
   "source": [
    "#color code dots by TE COS\n",
    "f, ax = plt.subplots(figsize=(8,8))\n",
    "\n",
    "df = sum_freq_covg_df.loc[:, column_filter]\n",
    "\n",
    "superfamilies = [x for x in sum_freq_covg_df.loc[:, column_filter].columns if not x == 'Interval_edge']\n",
    "\n",
    "col_n = len(sum_freq_covg_df.loc[:, column_filter].columns)\n",
    "\n",
    "\n",
    "color_dict = {}\n",
    "cmap = get_cmap(col_n)\n",
    "for n, x in enumerate(sub_df_young_many[sub_df_young_many.TE.isin(superfamilies)]['COS'].unique()):\n",
    "    color_dict[x] = sns.color_palette('colorblind')[n]\n",
    "    \n",
    "\n",
    "\n",
    "pallete = sns.color_palette('colorblind')\n",
    "\n",
    "df.fillna(0)\n",
    "\n",
    "for sf in superfamilies:\n",
    "    x, y = df['Interval_edge'], df[sf]\n",
    "    #f2 = interp1d(x, y)\n",
    "    #xnew = np.linspace(x.min(), x.max(), num=80, endpoint=True)\n",
    "    ax.scatter(x, y, label = sf, color=color_dict[sub_df_young_many[sub_df_young_many.TE == sf]['COS'].tolist()[0]], linewidth=3, alpha = 0.5)\n",
    "ax.legend(handles=legend_elements, loc='best')\n",
    "ax.set_ylabel('Relative frequency', **font)\n",
    "ax.set_xlabel('TE family % identity', **font)\n",
    "#outfn = os.path.join(OUTPATH, 'SF2A_TE_variation.tiff')\n",
    "#plt.legend(loc='upper left', frameon=False)\n",
    "#['top','bottom','left','right']\n",
    "for axis in ['bottom','left']:\n",
    "    ax.spines[axis].set_linewidth(2)\n",
    "for axis in ['top','right']:\n",
    "    ax.spines[axis].set_linewidth(0)\n",
    "ax.tick_params(width=2)\n",
    "ax.set_ylim(0, 0.1)\n",
    "ax.set_xlim(15, 105)"
   ]
  },
  {
   "cell_type": "code",
   "execution_count": 373,
   "metadata": {},
   "outputs": [
    {
     "data": {
      "text/plain": [
       "Intervals\n",
       "(21, 22]          NaN\n",
       "(22, 23]          NaN\n",
       "(23, 24]          NaN\n",
       "(24, 25]          NaN\n",
       "(25, 26]          NaN\n",
       "(26, 27]          NaN\n",
       "(27, 28]          NaN\n",
       "(28, 29]          NaN\n",
       "(29, 30]          NaN\n",
       "(30, 31]          NaN\n",
       "(31, 32]          NaN\n",
       "(32, 33]          NaN\n",
       "(33, 34]          NaN\n",
       "(34, 35]          NaN\n",
       "(35, 36]          NaN\n",
       "(36, 37]          NaN\n",
       "(37, 38]          NaN\n",
       "(38, 39]          NaN\n",
       "(39, 40]          NaN\n",
       "(40, 41]          NaN\n",
       "(41, 42]          NaN\n",
       "(42, 43]          NaN\n",
       "(43, 44]          NaN\n",
       "(44, 45]          NaN\n",
       "(45, 46]          NaN\n",
       "(46, 47]          NaN\n",
       "(47, 48]          NaN\n",
       "(48, 49]          NaN\n",
       "(49, 50]          NaN\n",
       "(50, 51]          NaN\n",
       "               ...   \n",
       "(69, 70]          NaN\n",
       "(70, 71]          NaN\n",
       "(71, 72]          NaN\n",
       "(72, 73]          NaN\n",
       "(73, 74]          NaN\n",
       "(74, 75]          NaN\n",
       "(75, 76]          NaN\n",
       "(76, 77]          NaN\n",
       "(77, 78]     0.087932\n",
       "(78, 79]          NaN\n",
       "(79, 80]          NaN\n",
       "(80, 81]          NaN\n",
       "(81, 82]          NaN\n",
       "(82, 83]          NaN\n",
       "(83, 84]          NaN\n",
       "(84, 85]          NaN\n",
       "(85, 86]          NaN\n",
       "(86, 87]          NaN\n",
       "(87, 88]          NaN\n",
       "(88, 89]          NaN\n",
       "(89, 90]          NaN\n",
       "(90, 91]          NaN\n",
       "(91, 92]          NaN\n",
       "(92, 93]          NaN\n",
       "(93, 94]          NaN\n",
       "(94, 95]          NaN\n",
       "(95, 96]          NaN\n",
       "(96, 97]          NaN\n",
       "(97, 98]          NaN\n",
       "(99, 100]         NaN\n",
       "Name: RLX-incomp-chim_Blc22_MR_P2A_300Mb-L-B1-Map20_reversed, Length: 77, dtype: float64"
      ]
     },
     "execution_count": 373,
     "metadata": {},
     "output_type": "execute_result"
    }
   ],
   "source": [
    "df['RLX-incomp-chim_Blc22_MR_P2A_300Mb-L-B1-Map20_reversed']"
   ]
  },
  {
   "cell_type": "code",
   "execution_count": 372,
   "metadata": {},
   "outputs": [
    {
     "data": {
      "text/plain": [
       "TE\n",
       "DTX-incomp-chim_Blc132_MR_P2A_300Mb-L-B155-Map1_reversed      0.005778\n",
       "DTX-incomp-chim_Blc152_MR_P2A_300Mb-L-B175-Map1               0.005393\n",
       "DTX-incomp-chim_Blc84_MR_P2A_300Mb-L-B107-Map1                0.006226\n",
       "Gypsy-101_MLP-I:ClassI:LTR:Gypsy                              0.007824\n",
       "Gypsy-124_MLP-I:ClassI:LTR:Gypsy                              0.007458\n",
       "Gypsy-17_MLP-I:ClassI:LTR:Gypsy                               0.005579\n",
       "Gypsy-17_PGr-I:ClassI:LTR:Gypsy                               0.024132\n",
       "Gypsy-17_PGr-I_1p:ClassI:LTR:Gypsy                            0.028669\n",
       "Gypsy-1_Trm-I_2p:ClassI:LTR:Gypsy                             0.009178\n",
       "Gypsy-21_PGr-I_1p:ClassI:LTR:Gypsy                            0.005625\n",
       "Gypsy-22_PGr-I:ClassI:LTR:Gypsy                               0.008540\n",
       "Gypsy-22_PGr-I_1p:ClassI:LTR:Gypsy                            0.028938\n",
       "Gypsy-6_PGr-I:ClassI:LTR:Gypsy                                0.007808\n",
       "Gypsy-7_PSt-I:ClassI:LTR:Gypsy                                0.010763\n",
       "Gypsy-7_PSt-I_1p:ClassI:LTR:Gypsy                             0.022619\n",
       "Gypsy-82_MLP-I:ClassI:LTR:Gypsy                               0.006516\n",
       "RLX-incomp-chim_Blc22_MR_P2A_300Mb-L-B1-Map20_reversed        0.087932\n",
       "RLX-incomp_Blc236_MR_P2A_300Mb-L-B258-Map1_reversed           0.005750\n",
       "RYX-incomp-chim_Blc24_MR_P2A_300Mb-L-B2-Map20_reversed        0.005494\n",
       "Interval_edge                                               100.000000\n",
       "dtype: float64"
      ]
     },
     "execution_count": 372,
     "metadata": {},
     "output_type": "execute_result"
    }
   ],
   "source": [
    "df.max()"
   ]
  },
  {
   "cell_type": "markdown",
   "metadata": {},
   "source": [
    "#### For haplotigs run up to here"
   ]
  },
  {
   "cell_type": "markdown",
   "metadata": {
    "ExecuteTime": {
     "end_time": "2019-08-26T06:51:47.730247Z",
     "start_time": "2019-08-26T06:51:47.726270Z"
    }
   },
   "source": [
    "### Now on to do the coverage analysis for the TEs"
   ]
  },
  {
   "cell_type": "code",
   "execution_count": null,
   "metadata": {
    "ExecuteTime": {
     "start_time": "2019-08-27T01:29:55.297Z"
    }
   },
   "outputs": [],
   "source": [
    "g_window_1k200_bed = BedTool().window_maker(g=genome_file_fh, w=window_size, s=slide_size)\n",
    "\n",
    "#sort the TE gff file for easier handling with bedtools and convert some to bed files\n",
    "TE_gff_sorted_fh = TE_gff_fh.replace('.gff3', '.sorted.gff3')\n",
    "TE_gff_superfamily_fh = os.path.join(out_dir,'%s.%s.REPET.superfamily.gff' % (genome, Tenovodb))\n",
    "TE_gff_superfamily_sorted_fh = TE_gff_superfamily_fh.replace('.gff', '.sorted.bed')\n",
    "TE_gff_TEfamily_fh = os.path.join(out_dir,'%s.%s.REPET.TE.gff' % (genome, Tenovodb))\n",
    "TE_gff_TEfamily_sorted_fh = TE_gff_TEfamily_fh.replace('.gff', '.sorted.bed') \n",
    "\n",
    "gff3sort_pl = '/home/benjamin/genome_assembly/PST79/FALCON/p_assemblies/v9_1/Pst_104E_v12/get_homologues/gff3sort/gff3sort.pl'\n",
    "cmd1 = 'perl %s %s > %s' %(gff3sort_pl, TE_gff_fh , TE_gff_sorted_fh)\n",
    "cmd2 = \"perl %s %s | awk -v OFS='\\t' '{print $1, $4, $5, $9, $8, $7 }' > %s \" % (gff3sort_pl, TE_gff_superfamily_fh,TE_gff_superfamily_sorted_fh )\n",
    "cmd3 = \"perl %s %s | awk -v OFS='\\t' '{print $1, $4, $5, $9, $8, $7 }' > %s \" % (gff3sort_pl, TE_gff_TEfamily_fh ,TE_gff_TEfamily_sorted_fh )\n",
    "\n",
    "\n",
    "subprocess.check_output(cmd1, shell=True, stderr=subprocess.STDOUT)\n",
    "subprocess.check_output(cmd2, shell=True, stderr=subprocess.STDOUT)\n",
    "subprocess.check_output(cmd3, shell=True, stderr=subprocess.STDOUT)\n",
    "\n",
    "#generate the bed objects that are windows that will be used for the coverage analysis\n",
    "TE_bed = BedTool(fn=TE_gff_sorted_fh)\n",
    "g_TE_1k200_bed = g_window_1k200_bed.intersect(TE_bed)\n",
    "g_noTE_1k200_bed = g_window_1k200_bed.subtract(TE_bed)\n",
    "\n",
    "#now read in the bam files as beds\n",
    "pbam_bed = BedTool(fn=pbam_fh)\n",
    "\n",
    "#define outfile names to write out the coverage files\n",
    "TE_cov_dir = os.path.join(out_dir, 'TE_COV')\n",
    "if not os.path.exists(TE_cov_dir):\n",
    "    os.mkdir(TE_cov_dir)\n",
    "#really we want to do samtools bedcov    \n",
    "g_TE_1k200_samcovfh = os.path.join(TE_cov_dir, '%s.%s.g_TE_%ik%i.samcov' % (genome, Tenovodb, window_size/1000, slide_size ))\n",
    "g_noTE_1k200_samcovfh = os.path.join(TE_cov_dir, '%s.%s.g_noTE_%ik%i.samcov' % (genome, Tenovodb, window_size/1000, slide_size ))\n",
    "g_window_1k200_samcovfh = os.path.join(TE_cov_dir, '%s.%s.g_window_%ik%i.samcov' % (genome, Tenovodb, window_size/1000, slide_size ))\n",
    "TE_gff_superfamily_samcovfh = os.path.join(TE_cov_dir, TE_gff_superfamily_sorted_fh.split('/')[-1].replace('.bed','.samcov'))\n",
    "TE_gff_TEfamily_samcovfh = os.path.join(TE_cov_dir,TE_gff_TEfamily_sorted_fh.split('/')[-1].replace('.bed','.samcov'))\n",
    "\n",
    "g_window_1k200_bed.saveas(g_window_1k200_samcovfh.replace('.samcov', '.bed'))\n",
    "g_TE_1k200_bed.saveas(g_TE_1k200_samcovfh.replace('.samcov', '.bed'))\n",
    "g_noTE_1k200_bed.saveas(g_noTE_1k200_samcovfh.replace('.samcov', '.bed'))\n",
    "\n",
    "#make the BUSCOs bed file\n",
    "busco_df = pd.read_csv(protein_busco_fh, comment='#', header=None, sep='\\t')\n",
    "single_buscos = busco_df[busco_df[1] == 'Complete'][2].tolist()\n",
    "gene_bed_fh = os.path.join(source_dir, 'DK_0911_v04LT_p_ctg.gene.bed')\n",
    "gene_bed_df = pd.read_csv(gene_bed_fh, sep='\\t', header=None)\n",
    "single_busco_bed_fh = os.path.join(out_dir, '%s.sBUSCO.bed'%genome)\n",
    "single_busco_samcov_fh = os.path.join(TE_cov_dir, single_busco_bed_fh.split('/')[-1].replace('bed', 'samcov'))\n",
    "gene_bed_df[gene_bed_df[3].isin(single_buscos)].to_csv(single_busco_bed_fh, sep='\\t', header=None, index=None)\n",
    "\n",
    "beds = [g_TE_1k200_samcovfh.replace('.samcov', '.bed'),\\\n",
    "        g_noTE_1k200_samcovfh.replace('.samcov', '.bed'),\\\n",
    "        g_window_1k200_samcovfh.replace('.samcov', '.bed') ,\\\n",
    "       single_busco_bed_fh,\\\n",
    "       TE_gff_superfamily_sorted_fh,\\\n",
    "        TE_gff_TEfamily_sorted_fh]\n",
    "outs = [g_TE_1k200_samcovfh, g_noTE_1k200_samcovfh, g_window_1k200_samcovfh,\\\n",
    "        single_busco_samcov_fh, TE_gff_superfamily_samcovfh,  TE_gff_TEfamily_samcovfh]\n",
    "Parallel(n_jobs=len(beds))(delayed(run_samtools_bedcov)(bed, pbam_fh, out)\\\n",
    "                      for bed, out in zip(beds, outs))\n",
    "\n",
    "\n"
   ]
  },
  {
   "cell_type": "code",
   "execution_count": null,
   "metadata": {
    "ExecuteTime": {
     "end_time": "2019-08-27T03:24:03.323295Z",
     "start_time": "2019-08-27T03:21:56.198611Z"
    }
   },
   "outputs": [],
   "source": [
    "#now make the BUSCO dataframe\n",
    "sBUSCO_df = samcov_slurp( single_busco_samcov_fh, fil=False)\n",
    "\n",
    "sBUSCO_df['contig_number'] = [int(x[-1]) for x in sBUSCO_df.contig.str.split('_')]\n",
    "\n",
    "sBUSCO_df.plot(x='contig_number', y='norm_cov', kind='scatter')\n",
    "\n",
    "sBUSCO_df['norm_cov'].plot(kind='kde')\n",
    "\n",
    "sBUSCO_mean = sum(sBUSCO_df.total_cov)/sum(sBUSCO_df.interval_size)\n",
    "print('The single BUSCO mean coverage is %0.2f.' % sBUSCO_mean)\n",
    "\n",
    "g_TE_1k200_samcov_df = samcov_slurp(g_TE_1k200_samcovfh, mean=sBUSCO_mean ,fil=False)\n",
    "g_noTE_1k200_samcov_df = samcov_slurp(g_noTE_1k200_samcovfh,mean=sBUSCO_mean, fil=False)\n",
    "g_window_1k200_samcov_df = samcov_slurp(g_window_1k200_samcovfh,mean=sBUSCO_mean,fil=False)\n",
    "TE_gff_superfamily_samcov_df = samcov_slurp(TE_gff_superfamily_samcovfh,mean=sBUSCO_mean,fil=False)\n",
    "TE_gff_TEfamily_samcov_df = samcov_slurp(TE_gff_TEfamily_samcovfh,mean=sBUSCO_mean,fil=False)\n",
    "\n",
    "sBUSCO_df['norm_cov'].plot(kind='kde',color='k')\n",
    "g_TE_1k200_samcov_df['norm_cov'].plot(kind='kde',color='r')\n",
    "g_window_1k200_samcov_df['norm_cov'].plot(kind='kde')\n",
    "\n",
    "sBUSCO_df['norm_cov'].plot(kind='hist',color='k', bins=100)\n",
    "\n",
    "TE_gff_superfamily_samcov_df['log10_ncov'] = np.log10(TE_gff_superfamily_samcov_df['norm_cov'])\n",
    "\n",
    "fig, ax = plt.subplots(nrows=1, ncols=1, figsize=(12,15))\n",
    "order = pd.concat([classI_df.sort_values('bp', ascending=False)['Class:Order:Superfamily'],  \\\n",
    "                   classII_df.sort_values('bp', ascending=False)['Class:Order:Superfamily']])\n",
    "sns.boxplot(x='ID', y='log10_ncov', data=TE_gff_superfamily_samcov_df, ax=ax, order=order)\n",
    "plt.xticks(rotation=90)"
   ]
  },
  {
   "cell_type": "code",
   "execution_count": null,
   "metadata": {
    "ExecuteTime": {
     "end_time": "2019-08-27T03:24:39.900635Z",
     "start_time": "2019-08-27T03:24:39.303472Z"
    }
   },
   "outputs": [],
   "source": [
    "genome_size = pd.read_csv(genome_file_fh, sep='\\t',header=None)[1].sum()\n",
    "mean_genome = sum(g_window_1k200_samcov_df.total_cov)/sum(g_window_1k200_samcov_df.interval_size)\n",
    "\n",
    "print(genome_size)\n",
    "\n",
    "print(int(genome_size *(mean_genome/sBUSCO_mean)))\n",
    "\n",
    "mean_TEs = sum(g_TE_1k200_samcov_df.total_cov)/sum(g_TE_1k200_samcov_df.interval_size)\n",
    "\n",
    "mean_sfamily_TEs = sum(TE_gff_superfamily_samcov_df.total_cov)/sum(TE_gff_superfamily_samcov_df.interval_size)\n",
    "\n",
    "print(mean_sfamily_TEs)\n",
    "\n",
    "print(mean_TEs)\n",
    "\n",
    "print(sBUSCO_mean)\n",
    "\n",
    "print(mean_genome)\n",
    "\n",
    "print(sum(g_noTE_1k200_samcov_df.total_cov)/sum(g_noTE_1k200_samcov_df.interval_size))\n",
    "\n",
    "print(sum(g_TE_1k200_samcov_df.total_cov)/sum(g_TE_1k200_samcov_df.interval_size))\n",
    "\n"
   ]
  },
  {
   "cell_type": "code",
   "execution_count": null,
   "metadata": {
    "ExecuteTime": {
     "end_time": "2019-08-27T03:25:21.839579Z",
     "start_time": "2019-08-27T03:25:21.699508Z"
    }
   },
   "outputs": [],
   "source": [
    "TE_gff_superfamily_samcov_df.pivot_table(values='norm_cov', columns='ID', aggfunc=[np.mean, np.count_nonzero])"
   ]
  },
  {
   "cell_type": "code",
   "execution_count": null,
   "metadata": {
    "collapsed": true
   },
   "outputs": [],
   "source": []
  }
 ],
 "metadata": {
  "kernelspec": {
   "display_name": "Python [default]",
   "language": "python",
   "name": "python3"
  },
  "language_info": {
   "codemirror_mode": {
    "name": "ipython",
    "version": 3
   },
   "file_extension": ".py",
   "mimetype": "text/x-python",
   "name": "python",
   "nbconvert_exporter": "python",
   "pygments_lexer": "ipython3",
   "version": "3.5.4"
  },
  "toc": {
   "nav_menu": {},
   "number_sections": true,
   "sideBar": true,
   "skip_h1_title": false,
   "title_cell": "Table of Contents",
   "title_sidebar": "Contents",
   "toc_cell": false,
   "toc_position": {},
   "toc_section_display": true,
   "toc_window_display": false
  }
 },
 "nbformat": 4,
 "nbformat_minor": 2
}
